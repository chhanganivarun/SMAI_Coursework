{
 "cells": [
  {
   "cell_type": "markdown",
   "metadata": {},
   "source": [
    "# Linear Regression"
   ]
  },
  {
   "cell_type": "markdown",
   "metadata": {},
   "source": [
    "# Part 1"
   ]
  },
  {
   "cell_type": "code",
   "execution_count": null,
   "metadata": {},
   "outputs": [],
   "source": [
    "import pandas as pd\n",
    "import random\n",
    "import numpy as  np\n",
    "import math\n",
    "from copy import deepcopy\n",
    "from sklearn.model_selection import KFold\n",
    "import matplotlib.pyplot as plt\n",
    "import operator\n",
    "iterations = 1000\n",
    "learning_rate = 0.009"
   ]
  },
  {
   "cell_type": "code",
   "execution_count": null,
   "metadata": {},
   "outputs": [],
   "source": [
    "def plotgraphs(iterations,weights, ind):\n",
    "    fig, ax = plt.subplots(figsize = (7,9))  \n",
    "    ax.plot(np.arange(iterations),weights , 'r')  \n",
    "    ax.set_xlabel('Iterations')  \n",
    "    ax.set_ylabel('wts')  \n",
    "    ax.set_title('wt:' + str(ind) + ' vs. Training Epoch')  "
   ]
  },
  {
   "cell_type": "code",
   "execution_count": 3,
   "metadata": {},
   "outputs": [],
   "source": [
    "data = pd.read_csv('AdmissionDataset/data.csv')"
   ]
  },
  {
   "cell_type": "code",
   "execution_count": 4,
   "metadata": {},
   "outputs": [],
   "source": [
    "data = data.drop('Serial No.',axis = 1)"
   ]
  },
  {
   "cell_type": "markdown",
   "metadata": {},
   "source": [
    "## Normalizing Data"
   ]
  },
  {
   "cell_type": "code",
   "execution_count": 5,
   "metadata": {},
   "outputs": [],
   "source": [
    "#data= data.apply(lambda x: x/x.max(), axis=0)"
   ]
  },
  {
   "cell_type": "code",
   "execution_count": 6,
   "metadata": {},
   "outputs": [
    {
     "data": {
      "text/html": [
       "<div>\n",
       "<style scoped>\n",
       "    .dataframe tbody tr th:only-of-type {\n",
       "        vertical-align: middle;\n",
       "    }\n",
       "\n",
       "    .dataframe tbody tr th {\n",
       "        vertical-align: top;\n",
       "    }\n",
       "\n",
       "    .dataframe thead th {\n",
       "        text-align: right;\n",
       "    }\n",
       "</style>\n",
       "<table border=\"1\" class=\"dataframe\">\n",
       "  <thead>\n",
       "    <tr style=\"text-align: right;\">\n",
       "      <th></th>\n",
       "      <th>GRE Score</th>\n",
       "      <th>TOEFL Score</th>\n",
       "      <th>University Rating</th>\n",
       "      <th>SOP</th>\n",
       "      <th>LOR</th>\n",
       "      <th>CGPA</th>\n",
       "      <th>Research</th>\n",
       "      <th>Chance of Admit</th>\n",
       "    </tr>\n",
       "  </thead>\n",
       "  <tbody>\n",
       "    <tr>\n",
       "      <th>0</th>\n",
       "      <td>317</td>\n",
       "      <td>103</td>\n",
       "      <td>2</td>\n",
       "      <td>2.5</td>\n",
       "      <td>2.0</td>\n",
       "      <td>8.15</td>\n",
       "      <td>0</td>\n",
       "      <td>0.65</td>\n",
       "    </tr>\n",
       "    <tr>\n",
       "      <th>1</th>\n",
       "      <td>319</td>\n",
       "      <td>108</td>\n",
       "      <td>3</td>\n",
       "      <td>3.0</td>\n",
       "      <td>3.5</td>\n",
       "      <td>8.54</td>\n",
       "      <td>1</td>\n",
       "      <td>0.71</td>\n",
       "    </tr>\n",
       "    <tr>\n",
       "      <th>2</th>\n",
       "      <td>322</td>\n",
       "      <td>110</td>\n",
       "      <td>3</td>\n",
       "      <td>3.5</td>\n",
       "      <td>2.5</td>\n",
       "      <td>8.67</td>\n",
       "      <td>1</td>\n",
       "      <td>0.80</td>\n",
       "    </tr>\n",
       "    <tr>\n",
       "      <th>3</th>\n",
       "      <td>326</td>\n",
       "      <td>113</td>\n",
       "      <td>5</td>\n",
       "      <td>4.5</td>\n",
       "      <td>4.0</td>\n",
       "      <td>9.40</td>\n",
       "      <td>1</td>\n",
       "      <td>0.91</td>\n",
       "    </tr>\n",
       "    <tr>\n",
       "      <th>4</th>\n",
       "      <td>319</td>\n",
       "      <td>106</td>\n",
       "      <td>3</td>\n",
       "      <td>3.5</td>\n",
       "      <td>2.5</td>\n",
       "      <td>8.33</td>\n",
       "      <td>1</td>\n",
       "      <td>0.74</td>\n",
       "    </tr>\n",
       "  </tbody>\n",
       "</table>\n",
       "</div>"
      ],
      "text/plain": [
       "   GRE Score  TOEFL Score  University Rating  SOP  LOR   CGPA  Research  \\\n",
       "0        317          103                  2  2.5   2.0  8.15         0   \n",
       "1        319          108                  3  3.0   3.5  8.54         1   \n",
       "2        322          110                  3  3.5   2.5  8.67         1   \n",
       "3        326          113                  5  4.5   4.0  9.40         1   \n",
       "4        319          106                  3  3.5   2.5  8.33         1   \n",
       "\n",
       "   Chance of Admit   \n",
       "0              0.65  \n",
       "1              0.71  \n",
       "2              0.80  \n",
       "3              0.91  \n",
       "4              0.74  "
      ]
     },
     "execution_count": 6,
     "metadata": {},
     "output_type": "execute_result"
    }
   ],
   "source": [
    "data.head()"
   ]
  },
  {
   "cell_type": "code",
   "execution_count": 7,
   "metadata": {},
   "outputs": [],
   "source": [
    "train_data = data.sample(frac = 0.8, random_state = 200)\n",
    "valid_data = data.drop(train_data.index)\n",
    "# split = int(0.8*data.shape[0])\n",
    "# train_data = data[:split]\n",
    "# valid_data  = data[split:]"
   ]
  },
  {
   "cell_type": "code",
   "execution_count": 8,
   "metadata": {},
   "outputs": [
    {
     "data": {
      "text/html": [
       "<div>\n",
       "<style scoped>\n",
       "    .dataframe tbody tr th:only-of-type {\n",
       "        vertical-align: middle;\n",
       "    }\n",
       "\n",
       "    .dataframe tbody tr th {\n",
       "        vertical-align: top;\n",
       "    }\n",
       "\n",
       "    .dataframe thead th {\n",
       "        text-align: right;\n",
       "    }\n",
       "</style>\n",
       "<table border=\"1\" class=\"dataframe\">\n",
       "  <thead>\n",
       "    <tr style=\"text-align: right;\">\n",
       "      <th></th>\n",
       "      <th>GRE Score</th>\n",
       "      <th>TOEFL Score</th>\n",
       "      <th>University Rating</th>\n",
       "      <th>SOP</th>\n",
       "      <th>LOR</th>\n",
       "      <th>CGPA</th>\n",
       "      <th>Research</th>\n",
       "      <th>Chance of Admit</th>\n",
       "    </tr>\n",
       "  </thead>\n",
       "  <tbody>\n",
       "    <tr>\n",
       "      <th>198</th>\n",
       "      <td>315</td>\n",
       "      <td>101</td>\n",
       "      <td>3</td>\n",
       "      <td>3.5</td>\n",
       "      <td>4.5</td>\n",
       "      <td>9.13</td>\n",
       "      <td>0</td>\n",
       "      <td>0.79</td>\n",
       "    </tr>\n",
       "    <tr>\n",
       "      <th>39</th>\n",
       "      <td>312</td>\n",
       "      <td>105</td>\n",
       "      <td>2</td>\n",
       "      <td>2.5</td>\n",
       "      <td>3.0</td>\n",
       "      <td>8.12</td>\n",
       "      <td>0</td>\n",
       "      <td>0.64</td>\n",
       "    </tr>\n",
       "    <tr>\n",
       "      <th>215</th>\n",
       "      <td>308</td>\n",
       "      <td>110</td>\n",
       "      <td>3</td>\n",
       "      <td>3.5</td>\n",
       "      <td>3.0</td>\n",
       "      <td>8.00</td>\n",
       "      <td>1</td>\n",
       "      <td>0.46</td>\n",
       "    </tr>\n",
       "    <tr>\n",
       "      <th>303</th>\n",
       "      <td>312</td>\n",
       "      <td>108</td>\n",
       "      <td>3</td>\n",
       "      <td>3.5</td>\n",
       "      <td>3.0</td>\n",
       "      <td>8.53</td>\n",
       "      <td>0</td>\n",
       "      <td>0.69</td>\n",
       "    </tr>\n",
       "    <tr>\n",
       "      <th>377</th>\n",
       "      <td>321</td>\n",
       "      <td>109</td>\n",
       "      <td>4</td>\n",
       "      <td>4.0</td>\n",
       "      <td>4.0</td>\n",
       "      <td>8.68</td>\n",
       "      <td>1</td>\n",
       "      <td>0.69</td>\n",
       "    </tr>\n",
       "  </tbody>\n",
       "</table>\n",
       "</div>"
      ],
      "text/plain": [
       "     GRE Score  TOEFL Score  University Rating  SOP  LOR   CGPA  Research  \\\n",
       "198        315          101                  3  3.5   4.5  9.13         0   \n",
       "39         312          105                  2  2.5   3.0  8.12         0   \n",
       "215        308          110                  3  3.5   3.0  8.00         1   \n",
       "303        312          108                  3  3.5   3.0  8.53         0   \n",
       "377        321          109                  4  4.0   4.0  8.68         1   \n",
       "\n",
       "     Chance of Admit   \n",
       "198              0.79  \n",
       "39               0.64  \n",
       "215              0.46  \n",
       "303              0.69  \n",
       "377              0.69  "
      ]
     },
     "execution_count": 8,
     "metadata": {},
     "output_type": "execute_result"
    }
   ],
   "source": [
    "train_data.head()"
   ]
  },
  {
   "cell_type": "code",
   "execution_count": 9,
   "metadata": {},
   "outputs": [
    {
     "name": "stdout",
     "output_type": "stream",
     "text": [
      "     GRE Score  TOEFL Score  University Rating  SOP  LOR   CGPA  Research\n",
      "198        315          101                  3  3.5   4.5  9.13         0\n",
      "39         312          105                  2  2.5   3.0  8.12         0\n",
      "215        308          110                  3  3.5   3.0  8.00         1\n",
      "303        312          108                  3  3.5   3.0  8.53         0\n",
      "377        321          109                  4  4.0   4.0  8.68         1\n",
      "(360, 8)\n",
      "[[0. 0. 0. 0. 0. 0. 0. 0.]]\n"
     ]
    }
   ],
   "source": [
    "datamatrix  = train_data.iloc[:,0:7]\n",
    "print(datamatrix.head())\n",
    "trainmean = datamatrix.mean()\n",
    "trainstd = datamatrix.std()\n",
    "datamatrix = (datamatrix - datamatrix.mean())/datamatrix.std()\n",
    "datamatrix.insert(loc=0, column ='ones', value=1)\n",
    "actual_values = train_data['Chance of Admit '].values\n",
    "actual_y_values = valid_data['Chance of Admit '].values\n",
    "actual_values = np.reshape(actual_values,(360,1))\n",
    "datamatrix = np.array(datamatrix)\n",
    "print(datamatrix.shape)\n",
    "weights = np.zeros([1,8])\n",
    "print(weights)"
   ]
  },
  {
   "cell_type": "code",
   "execution_count": 10,
   "metadata": {},
   "outputs": [],
   "source": [
    "def jcost(datamatrix,actual,wts):\n",
    "    predicted = (datamatrix @ wts.T)\n",
    "    #print(predicted)\n",
    "    error_vector = np.power(actual - predicted,2)\n",
    "    #print(error_vector)\n",
    "    #print(len(datamatrix))\n",
    "    return np.sum(error_vector)/(2*len(datamatrix))"
   ]
  },
  {
   "cell_type": "code",
   "execution_count": 11,
   "metadata": {},
   "outputs": [
    {
     "data": {
      "text/plain": [
       "0.26941625"
      ]
     },
     "execution_count": 11,
     "metadata": {},
     "output_type": "execute_result"
    }
   ],
   "source": [
    "jcost(datamatrix,actual_values,weights)"
   ]
  },
  {
   "cell_type": "code",
   "execution_count": 12,
   "metadata": {},
   "outputs": [],
   "source": [
    "weightstho = []"
   ]
  },
  {
   "cell_type": "code",
   "execution_count": 13,
   "metadata": {},
   "outputs": [],
   "source": [
    "def gd(datamatrix,actual_values,wts):\n",
    "    cost = []\n",
    "    for i in range(iterations):\n",
    "        bias  =  (( (datamatrix @ wts.T) - actual_values).T)@datamatrix \n",
    "        weightstho.append(wts)\n",
    "\n",
    "        wts = wts - ((learning_rate/(len(datamatrix))))*bias\n",
    "        #print(wts)\n",
    "        cost.append(jcost(datamatrix,actual_values,wts))\n",
    "    return cost, wts"
   ]
  },
  {
   "cell_type": "code",
   "execution_count": 14,
   "metadata": {},
   "outputs": [
    {
     "data": {
      "text/html": [
       "<div>\n",
       "<style scoped>\n",
       "    .dataframe tbody tr th:only-of-type {\n",
       "        vertical-align: middle;\n",
       "    }\n",
       "\n",
       "    .dataframe tbody tr th {\n",
       "        vertical-align: top;\n",
       "    }\n",
       "\n",
       "    .dataframe thead th {\n",
       "        text-align: right;\n",
       "    }\n",
       "</style>\n",
       "<table border=\"1\" class=\"dataframe\">\n",
       "  <thead>\n",
       "    <tr style=\"text-align: right;\">\n",
       "      <th></th>\n",
       "      <th>GRE Score</th>\n",
       "      <th>TOEFL Score</th>\n",
       "      <th>University Rating</th>\n",
       "      <th>SOP</th>\n",
       "      <th>LOR</th>\n",
       "      <th>CGPA</th>\n",
       "      <th>Research</th>\n",
       "      <th>Chance of Admit</th>\n",
       "    </tr>\n",
       "  </thead>\n",
       "  <tbody>\n",
       "    <tr>\n",
       "      <th>0</th>\n",
       "      <td>317</td>\n",
       "      <td>103</td>\n",
       "      <td>2</td>\n",
       "      <td>2.5</td>\n",
       "      <td>2.0</td>\n",
       "      <td>8.15</td>\n",
       "      <td>0</td>\n",
       "      <td>0.65</td>\n",
       "    </tr>\n",
       "    <tr>\n",
       "      <th>1</th>\n",
       "      <td>319</td>\n",
       "      <td>108</td>\n",
       "      <td>3</td>\n",
       "      <td>3.0</td>\n",
       "      <td>3.5</td>\n",
       "      <td>8.54</td>\n",
       "      <td>1</td>\n",
       "      <td>0.71</td>\n",
       "    </tr>\n",
       "    <tr>\n",
       "      <th>3</th>\n",
       "      <td>326</td>\n",
       "      <td>113</td>\n",
       "      <td>5</td>\n",
       "      <td>4.5</td>\n",
       "      <td>4.0</td>\n",
       "      <td>9.40</td>\n",
       "      <td>1</td>\n",
       "      <td>0.91</td>\n",
       "    </tr>\n",
       "    <tr>\n",
       "      <th>6</th>\n",
       "      <td>322</td>\n",
       "      <td>110</td>\n",
       "      <td>5</td>\n",
       "      <td>4.5</td>\n",
       "      <td>4.0</td>\n",
       "      <td>8.97</td>\n",
       "      <td>0</td>\n",
       "      <td>0.78</td>\n",
       "    </tr>\n",
       "    <tr>\n",
       "      <th>7</th>\n",
       "      <td>307</td>\n",
       "      <td>107</td>\n",
       "      <td>2</td>\n",
       "      <td>3.0</td>\n",
       "      <td>3.5</td>\n",
       "      <td>8.52</td>\n",
       "      <td>1</td>\n",
       "      <td>0.78</td>\n",
       "    </tr>\n",
       "  </tbody>\n",
       "</table>\n",
       "</div>"
      ],
      "text/plain": [
       "   GRE Score  TOEFL Score  University Rating  SOP  LOR   CGPA  Research  \\\n",
       "0        317          103                  2  2.5   2.0  8.15         0   \n",
       "1        319          108                  3  3.0   3.5  8.54         1   \n",
       "3        326          113                  5  4.5   4.0  9.40         1   \n",
       "6        322          110                  5  4.5   4.0  8.97         0   \n",
       "7        307          107                  2  3.0   3.5  8.52         1   \n",
       "\n",
       "   Chance of Admit   \n",
       "0              0.65  \n",
       "1              0.71  \n",
       "3              0.91  \n",
       "6              0.78  \n",
       "7              0.78  "
      ]
     },
     "execution_count": 14,
     "metadata": {},
     "output_type": "execute_result"
    }
   ],
   "source": [
    "valid_data.head()"
   ]
  },
  {
   "cell_type": "code",
   "execution_count": 15,
   "metadata": {},
   "outputs": [
    {
     "data": {
      "text/html": [
       "<div>\n",
       "<style scoped>\n",
       "    .dataframe tbody tr th:only-of-type {\n",
       "        vertical-align: middle;\n",
       "    }\n",
       "\n",
       "    .dataframe tbody tr th {\n",
       "        vertical-align: top;\n",
       "    }\n",
       "\n",
       "    .dataframe thead th {\n",
       "        text-align: right;\n",
       "    }\n",
       "</style>\n",
       "<table border=\"1\" class=\"dataframe\">\n",
       "  <thead>\n",
       "    <tr style=\"text-align: right;\">\n",
       "      <th></th>\n",
       "      <th>ones</th>\n",
       "      <th>GRE Score</th>\n",
       "      <th>TOEFL Score</th>\n",
       "      <th>University Rating</th>\n",
       "      <th>SOP</th>\n",
       "      <th>LOR</th>\n",
       "      <th>CGPA</th>\n",
       "      <th>Research</th>\n",
       "    </tr>\n",
       "  </thead>\n",
       "  <tbody>\n",
       "    <tr>\n",
       "      <th>0</th>\n",
       "      <td>1</td>\n",
       "      <td>0.048406</td>\n",
       "      <td>-0.698510</td>\n",
       "      <td>-0.986945</td>\n",
       "      <td>-0.881652</td>\n",
       "      <td>-1.567208</td>\n",
       "      <td>-0.719522</td>\n",
       "      <td>-1.091697</td>\n",
       "    </tr>\n",
       "    <tr>\n",
       "      <th>1</th>\n",
       "      <td>1</td>\n",
       "      <td>0.223542</td>\n",
       "      <td>0.130855</td>\n",
       "      <td>-0.105307</td>\n",
       "      <td>-0.375440</td>\n",
       "      <td>0.052490</td>\n",
       "      <td>-0.070496</td>\n",
       "      <td>0.913461</td>\n",
       "    </tr>\n",
       "    <tr>\n",
       "      <th>3</th>\n",
       "      <td>1</td>\n",
       "      <td>0.836518</td>\n",
       "      <td>0.960221</td>\n",
       "      <td>1.657969</td>\n",
       "      <td>1.143194</td>\n",
       "      <td>0.592390</td>\n",
       "      <td>1.360689</td>\n",
       "      <td>0.913461</td>\n",
       "    </tr>\n",
       "    <tr>\n",
       "      <th>6</th>\n",
       "      <td>1</td>\n",
       "      <td>0.486246</td>\n",
       "      <td>0.462602</td>\n",
       "      <td>1.657969</td>\n",
       "      <td>1.143194</td>\n",
       "      <td>0.592390</td>\n",
       "      <td>0.645096</td>\n",
       "      <td>-1.091697</td>\n",
       "    </tr>\n",
       "    <tr>\n",
       "      <th>7</th>\n",
       "      <td>1</td>\n",
       "      <td>-0.827274</td>\n",
       "      <td>-0.035018</td>\n",
       "      <td>-0.986945</td>\n",
       "      <td>-0.375440</td>\n",
       "      <td>0.052490</td>\n",
       "      <td>-0.103779</td>\n",
       "      <td>0.913461</td>\n",
       "    </tr>\n",
       "  </tbody>\n",
       "</table>\n",
       "</div>"
      ],
      "text/plain": [
       "   ones  GRE Score  TOEFL Score  University Rating       SOP      LOR   \\\n",
       "0     1   0.048406    -0.698510          -0.986945 -0.881652 -1.567208   \n",
       "1     1   0.223542     0.130855          -0.105307 -0.375440  0.052490   \n",
       "3     1   0.836518     0.960221           1.657969  1.143194  0.592390   \n",
       "6     1   0.486246     0.462602           1.657969  1.143194  0.592390   \n",
       "7     1  -0.827274    -0.035018          -0.986945 -0.375440  0.052490   \n",
       "\n",
       "       CGPA  Research  \n",
       "0 -0.719522 -1.091697  \n",
       "1 -0.070496  0.913461  \n",
       "3  1.360689  0.913461  \n",
       "6  0.645096 -1.091697  \n",
       "7 -0.103779  0.913461  "
      ]
     },
     "execution_count": 15,
     "metadata": {},
     "output_type": "execute_result"
    }
   ],
   "source": [
    "valid_data = valid_data.drop('Chance of Admit ',axis = 1 )\n",
    "valid_data = (valid_data - trainmean)/trainstd\n",
    "valid_data.insert(loc=0, column ='ones', value=1)\n",
    "valid_data.head()"
   ]
  },
  {
   "cell_type": "code",
   "execution_count": 16,
   "metadata": {},
   "outputs": [
    {
     "data": {
      "text/html": [
       "<div>\n",
       "<style scoped>\n",
       "    .dataframe tbody tr th:only-of-type {\n",
       "        vertical-align: middle;\n",
       "    }\n",
       "\n",
       "    .dataframe tbody tr th {\n",
       "        vertical-align: top;\n",
       "    }\n",
       "\n",
       "    .dataframe thead th {\n",
       "        text-align: right;\n",
       "    }\n",
       "</style>\n",
       "<table border=\"1\" class=\"dataframe\">\n",
       "  <thead>\n",
       "    <tr style=\"text-align: right;\">\n",
       "      <th></th>\n",
       "      <th>ones</th>\n",
       "      <th>GRE Score</th>\n",
       "      <th>TOEFL Score</th>\n",
       "      <th>University Rating</th>\n",
       "      <th>SOP</th>\n",
       "      <th>LOR</th>\n",
       "      <th>CGPA</th>\n",
       "      <th>Research</th>\n",
       "    </tr>\n",
       "  </thead>\n",
       "  <tbody>\n",
       "    <tr>\n",
       "      <th>0</th>\n",
       "      <td>1</td>\n",
       "      <td>0.048406</td>\n",
       "      <td>-0.698510</td>\n",
       "      <td>-0.986945</td>\n",
       "      <td>-0.881652</td>\n",
       "      <td>-1.567208</td>\n",
       "      <td>-0.719522</td>\n",
       "      <td>-1.091697</td>\n",
       "    </tr>\n",
       "    <tr>\n",
       "      <th>1</th>\n",
       "      <td>1</td>\n",
       "      <td>0.223542</td>\n",
       "      <td>0.130855</td>\n",
       "      <td>-0.105307</td>\n",
       "      <td>-0.375440</td>\n",
       "      <td>0.052490</td>\n",
       "      <td>-0.070496</td>\n",
       "      <td>0.913461</td>\n",
       "    </tr>\n",
       "    <tr>\n",
       "      <th>3</th>\n",
       "      <td>1</td>\n",
       "      <td>0.836518</td>\n",
       "      <td>0.960221</td>\n",
       "      <td>1.657969</td>\n",
       "      <td>1.143194</td>\n",
       "      <td>0.592390</td>\n",
       "      <td>1.360689</td>\n",
       "      <td>0.913461</td>\n",
       "    </tr>\n",
       "    <tr>\n",
       "      <th>6</th>\n",
       "      <td>1</td>\n",
       "      <td>0.486246</td>\n",
       "      <td>0.462602</td>\n",
       "      <td>1.657969</td>\n",
       "      <td>1.143194</td>\n",
       "      <td>0.592390</td>\n",
       "      <td>0.645096</td>\n",
       "      <td>-1.091697</td>\n",
       "    </tr>\n",
       "    <tr>\n",
       "      <th>7</th>\n",
       "      <td>1</td>\n",
       "      <td>-0.827274</td>\n",
       "      <td>-0.035018</td>\n",
       "      <td>-0.986945</td>\n",
       "      <td>-0.375440</td>\n",
       "      <td>0.052490</td>\n",
       "      <td>-0.103779</td>\n",
       "      <td>0.913461</td>\n",
       "    </tr>\n",
       "  </tbody>\n",
       "</table>\n",
       "</div>"
      ],
      "text/plain": [
       "   ones  GRE Score  TOEFL Score  University Rating       SOP      LOR   \\\n",
       "0     1   0.048406    -0.698510          -0.986945 -0.881652 -1.567208   \n",
       "1     1   0.223542     0.130855          -0.105307 -0.375440  0.052490   \n",
       "3     1   0.836518     0.960221           1.657969  1.143194  0.592390   \n",
       "6     1   0.486246     0.462602           1.657969  1.143194  0.592390   \n",
       "7     1  -0.827274    -0.035018          -0.986945 -0.375440  0.052490   \n",
       "\n",
       "       CGPA  Research  \n",
       "0 -0.719522 -1.091697  \n",
       "1 -0.070496  0.913461  \n",
       "3  1.360689  0.913461  \n",
       "6  0.645096 -1.091697  \n",
       "7 -0.103779  0.913461  "
      ]
     },
     "execution_count": 16,
     "metadata": {},
     "output_type": "execute_result"
    }
   ],
   "source": [
    "valid_data.head()\n",
    "valid_data = valid_data.iloc[:,0:8]\n",
    "valid_data.head()"
   ]
  },
  {
   "cell_type": "code",
   "execution_count": null,
   "metadata": {},
   "outputs": [],
   "source": [
    "def jcost(datamatrix,actual,wts,lambd):\n",
    "    predicted = (datamatrix @ wts.T)\n",
    "    #print(predicted)\n",
    "    error_vector = np.power(actual - predicted,2)\n",
    "    regularized_\n",
    "    #print(error_vector)\n",
    "    #print(len(datamatrix))\n",
    "    return np.sum(error_vector)/(2*len(datamatrix))"
   ]
  },
  {
   "cell_type": "markdown",
   "metadata": {},
   "source": [
    "# Part 2 and Part 3"
   ]
  },
  {
   "cell_type": "code",
   "execution_count": 17,
   "metadata": {},
   "outputs": [
    {
     "name": "stdout",
     "output_type": "stream",
     "text": [
      "[0.60700145] 0.65\n",
      "[0.73706904] 0.71\n",
      "[0.88381853] 0.91\n",
      "[0.79044247] 0.78\n",
      "[0.6995617] 0.78\n",
      "[0.97005041] 0.96\n",
      "[0.66547777] 0.7\n",
      "[0.64834013] 0.5\n",
      "[0.68241331] 0.63\n",
      "[0.89436152] 0.95\n",
      "[0.54312092] 0.56\n",
      "[0.66554362] 0.69\n",
      "[0.66371371] 0.69\n",
      "[0.66325344] 0.74\n",
      "[0.55137943] 0.64\n",
      "[0.85680942] 0.89\n",
      "[0.82029904] 0.8\n",
      "[0.89170395] 0.86\n",
      "[0.52223229] 0.44\n",
      "[0.89912987] 0.93\n",
      "[0.59917276] 0.67\n",
      "[0.70713165] 0.7\n",
      "[0.51034497] 0.56\n",
      "[0.86255294] 0.88\n",
      "[0.61875763] 0.61\n",
      "[0.6411982] 0.61\n",
      "[0.51400886] 0.54\n",
      "[0.63094729] 0.54\n",
      "[0.73083803] 0.71\n",
      "[0.91149932] 0.91\n",
      "[0.64786464] 0.7\n",
      "[0.71832745] 0.74\n",
      "[0.714399] 0.69\n",
      "[0.58977852] 0.48\n",
      "[0.56094201] 0.68\n",
      "[0.90462262] 0.89\n",
      "[0.6929849] 0.77\n",
      "[0.6528198] 0.61\n",
      "[0.73699913] 0.79\n",
      "[0.72971271] 0.57\n",
      "[0.81481734] 0.82\n",
      "[0.58186013] 0.62\n",
      "[0.78137634] 0.79\n",
      "[0.79231593] 0.77\n",
      "[0.60780173] 0.53\n",
      "[0.94131686] 0.94\n",
      "[0.65389678] 0.75\n",
      "[0.41882999] 0.46\n",
      "[0.92962083] 0.91\n",
      "[0.83905441] 0.84\n",
      "[0.88248728] 0.91\n",
      "[0.9552704] 0.93\n",
      "[0.70369514] 0.73\n",
      "[0.75738605] 0.8\n",
      "[0.61910112] 0.65\n",
      "[0.66560585] 0.64\n",
      "[0.66553862] 0.74\n",
      "[0.52563946] 0.69\n",
      "[0.94208807] 0.94\n",
      "[0.94513693] 0.96\n",
      "[0.84978022] 0.86\n",
      "[0.69319125] 0.68\n",
      "[0.67282809] 0.7\n",
      "[0.77171322] 0.73\n",
      "[0.78007504] 0.8\n",
      "[0.80016996] 0.8\n",
      "[0.56116881] 0.54\n",
      "[0.65188997] 0.62\n",
      "[0.64872762] 0.73\n",
      "[0.64407944] 0.61\n",
      "[0.63489125] 0.72\n",
      "[0.72968645] 0.71\n",
      "[0.61613154] 0.65\n",
      "[0.61920508] 0.53\n",
      "[0.70344732] 0.74\n",
      "[0.77534366] 0.8\n",
      "[0.70686001] 0.74\n",
      "[0.93441895] 0.94\n",
      "[0.43330621] 0.46\n",
      "[0.65162511] 0.57\n",
      "[0.68401525] 0.68\n",
      "[0.77669478] 0.78\n",
      "[0.85903497] 0.88\n",
      "[0.64507561] 0.73\n",
      "[0.67428563] 0.76\n",
      "[0.9030394] 0.86\n",
      "[0.86339028] 0.78\n",
      "[0.71813952] 0.71\n",
      "[0.78657115] 0.61\n",
      "[0.708292] 0.67\n"
     ]
    }
   ],
   "source": [
    "cost,wts = gd(datamatrix,actual_values,weights)\n",
    "pred = valid_data.dot(wts.T)\n",
    "pred = np.array(pred)\n",
    "rms = 0\n",
    "abserror = 0\n",
    "for i,j in zip(pred,actual_y_values):\n",
    "    print(i,j)\n",
    "    rms += math.pow(j-i,2)\n",
    "    abserror += abs(j-i)\n",
    "\n",
    "rms = rms/(len(actual_y_values))\n",
    "abserror = abserror/(len(actual_y_values))"
   ]
  },
  {
   "cell_type": "code",
   "execution_count": 18,
   "metadata": {},
   "outputs": [
    {
     "name": "stdout",
     "output_type": "stream",
     "text": [
      "Root mean square : 0.0033661053284934645\n",
      "Absolute Error:  [0.04364847]\n"
     ]
    }
   ],
   "source": [
    "print(\"Root mean square :\",rms)\n",
    "print(\"Absolute Error: \",abserror)"
   ]
  },
  {
   "cell_type": "code",
   "execution_count": 19,
   "metadata": {},
   "outputs": [
    {
     "name": "stdout",
     "output_type": "stream",
     "text": [
      "[[ 7.19720271e-01  2.27041665e-02  2.37372842e-02  8.68893380e-03\n",
      "  -1.02382102e-04  1.80821038e-02  6.16394657e-02  1.47133382e-02]]\n"
     ]
    }
   ],
   "source": [
    "print(wts)"
   ]
  },
  {
   "cell_type": "markdown",
   "metadata": {},
   "source": [
    "# Error vs iterations graph"
   ]
  },
  {
   "cell_type": "code",
   "execution_count": 20,
   "metadata": {},
   "outputs": [
    {
     "data": {
      "text/plain": [
       "Text(0.5, 1.0, 'Error vs. Training Epoch')"
      ]
     },
     "execution_count": 20,
     "metadata": {},
     "output_type": "execute_result"
    },
    {
     "data": {
      "image/png": "[encoded data removed]",
      "text/plain": [
       "<Figure size 1008x648 with 1 Axes>"
      ]
     },
     "metadata": {
      "needs_background": "light"
     },
     "output_type": "display_data"
    }
   ],
   "source": [
    "fig, ax = plt.subplots(figsize = (14,9))  \n",
    "ax.plot(np.arange(iterations),cost , 'r')  \n",
    "ax.set_xlabel('Iterations')  \n",
    "ax.set_ylabel('Cost')  \n",
    "ax.set_title('Error vs. Training Epoch')  "
   ]
  },
  {
   "cell_type": "markdown",
   "metadata": {},
   "source": [
    "# R2 Score"
   ]
  },
  {
   "cell_type": "code",
   "execution_count": 21,
   "metadata": {},
   "outputs": [
    {
     "data": {
      "text/plain": [
       "0.8004870978376493"
      ]
     },
     "execution_count": 21,
     "metadata": {},
     "output_type": "execute_result"
    }
   ],
   "source": [
    "from sklearn.metrics import r2_score\n",
    "r2_score(actual_y_values,pred)"
   ]
  },
  {
   "cell_type": "code",
   "execution_count": 22,
   "metadata": {},
   "outputs": [
    {
     "data": {
      "text/plain": [
       "array([[ 7.19720271e-01,  2.27041665e-02,  2.37372842e-02,\n",
       "         8.68893380e-03, -1.02382102e-04,  1.80821038e-02,\n",
       "         6.16394657e-02,  1.47133382e-02]])"
      ]
     },
     "execution_count": 22,
     "metadata": {},
     "output_type": "execute_result"
    }
   ],
   "source": [
    "wts"
   ]
  },
  {
   "cell_type": "markdown",
   "metadata": {},
   "source": [
    "# Plotting graph of wieghts vs iterations"
   ]
  },
  {
   "cell_type": "code",
   "execution_count": 23,
   "metadata": {},
   "outputs": [
    {
     "name": "stdout",
     "output_type": "stream",
     "text": [
      "wieght: 0\n"
     ]
    },
    {
     "data": {
      "image/png": "[encoded data removed]",
      "text/plain": [
       "<Figure size 432x288 with 1 Axes>"
      ]
     },
     "metadata": {
      "needs_background": "light"
     },
     "output_type": "display_data"
    },
    {
     "name": "stdout",
     "output_type": "stream",
     "text": [
      "wieght: 1\n"
     ]
    },
    {
     "data": {
      "image/png": "[encoded data removed]",
      "text/plain": [
       "<Figure size 432x288 with 1 Axes>"
      ]
     },
     "metadata": {
      "needs_background": "light"
     },
     "output_type": "display_data"
    },
    {
     "name": "stdout",
     "output_type": "stream",
     "text": [
      "wieght: 2\n"
     ]
    },
    {
     "data": {
      "image/png": "[encoded data removed]",
      "text/plain": [
       "<Figure size 432x288 with 1 Axes>"
      ]
     },
     "metadata": {
      "needs_background": "light"
     },
     "output_type": "display_data"
    },
    {
     "name": "stdout",
     "output_type": "stream",
     "text": [
      "wieght: 3\n"
     ]
    },
    {
     "data": {
      "image/png": "[encoded data removed]",
      "text/plain": [
       "<Figure size 432x288 with 1 Axes>"
      ]
     },
     "metadata": {
      "needs_background": "light"
     },
     "output_type": "display_data"
    },
    {
     "name": "stdout",
     "output_type": "stream",
     "text": [
      "wieght: 4\n"
     ]
    },
    {
     "data": {
      "image/png": "[encoded data removed]",
      "text/plain": [
       "<Figure size 432x288 with 1 Axes>"
      ]
     },
     "metadata": {
      "needs_background": "light"
     },
     "output_type": "display_data"
    },
    {
     "name": "stdout",
     "output_type": "stream",
     "text": [
      "wieght: 5\n"
     ]
    },
    {
     "data": {
      "image/png": "[encoded data removed]",
      "text/plain": [
       "<Figure size 432x288 with 1 Axes>"
      ]
     },
     "metadata": {
      "needs_background": "light"
     },
     "output_type": "display_data"
    },
    {
     "name": "stdout",
     "output_type": "stream",
     "text": [
      "wieght: 6\n"
     ]
    },
    {
     "data": {
      "image/png": "[encoded data removed]",
      "text/plain": [
       "<Figure size 432x288 with 1 Axes>"
      ]
     },
     "metadata": {
      "needs_background": "light"
     },
     "output_type": "display_data"
    },
    {
     "name": "stdout",
     "output_type": "stream",
     "text": [
      "wieght: 7\n"
     ]
    },
    {
     "data": {
      "image/png": "[encoded data removed]",
      "text/plain": [
       "<Figure size 432x288 with 1 Axes>"
      ]
     },
     "metadata": {
      "needs_background": "light"
     },
     "output_type": "display_data"
    }
   ],
   "source": [
    "for j in range(len(wts[0])):\n",
    "    wt = []\n",
    "    print(\"wieght: \"+str(j))\n",
    "    for i in range(iterations):\n",
    "        wt.append(weightstho[i][0][j])\n",
    "    fig, ax = plt.subplots()  \n",
    "    ax.plot(np.arange(iterations),wt , 'r')  \n",
    "    ax.set_xlabel('Iterations')  \n",
    "    ax.set_ylabel('wts')  \n",
    "    ax.set_title('wt:' + str(j) + ' vs. Training Epoch') \n",
    "    plt.show()\n",
    "    "
   ]
  }
 ],
 "metadata": {
  "kernelspec": {
   "display_name": "Python 3",
   "language": "python",
   "name": "python3"
  },
  "language_info": {
   "codemirror_mode": {
    "name": "ipython",
    "version": 3
   },
   "file_extension": ".py",
   "mimetype": "text/x-python",
   "name": "python",
   "nbconvert_exporter": "python",
   "pygments_lexer": "ipython3",
   "version": "3.5.2"
  }
 },
 "nbformat": 4,
 "nbformat_minor": 2
}
