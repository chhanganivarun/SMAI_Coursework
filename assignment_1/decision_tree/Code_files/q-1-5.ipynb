{
 "cells": [
  {
   "cell_type": "markdown",
   "metadata": {},
   "source": [
    "# Assignment 1\n",
    "\n",
    "### we have to build a decision tree from scratch using various calclulations\n"
   ]
  },
  {
   "cell_type": "markdown",
   "metadata": {},
   "source": [
    "## Part 5 (10 points)\n",
    "Plot a graph of training and validation error with respect to\n",
    "depth of your decision tree. Also plot the training and validation error with respect\n",
    "to number of nodes in the decision tree."
   ]
  },
  {
   "cell_type": "markdown",
   "metadata": {},
   "source": [
    "#### Imporitng Libraries"
   ]
  },
  {
   "cell_type": "code",
   "execution_count": 24,
   "metadata": {},
   "outputs": [],
   "source": [
    "import pandas as pd\n",
    "import numpy\n",
    "import random\n",
    "import math\n",
    "from sklearn.model_selection import KFold\n",
    "from sklearn.model_selection import train_test_split\n",
    "eps = numpy.finfo(float).eps\n",
    "from copy import deepcopy\n",
    "import matplotlib.pyplot as plt\n",
    "maxdepth = 0"
   ]
  },
  {
   "cell_type": "markdown",
   "metadata": {},
   "source": [
    "#### Reading data from CSV and it's analysis"
   ]
  },
  {
   "cell_type": "code",
   "execution_count": 2,
   "metadata": {},
   "outputs": [
    {
     "data": {
      "text/html": [
       "<div>\n",
       "<style scoped>\n",
       "    .dataframe tbody tr th:only-of-type {\n",
       "        vertical-align: middle;\n",
       "    }\n",
       "\n",
       "    .dataframe tbody tr th {\n",
       "        vertical-align: top;\n",
       "    }\n",
       "\n",
       "    .dataframe thead th {\n",
       "        text-align: right;\n",
       "    }\n",
       "</style>\n",
       "<table border=\"1\" class=\"dataframe\">\n",
       "  <thead>\n",
       "    <tr style=\"text-align: right;\">\n",
       "      <th></th>\n",
       "      <th>satisfaction_level</th>\n",
       "      <th>last_evaluation</th>\n",
       "      <th>number_project</th>\n",
       "      <th>average_montly_hours</th>\n",
       "      <th>time_spend_company</th>\n",
       "      <th>Work_accident</th>\n",
       "      <th>left</th>\n",
       "      <th>promotion_last_5years</th>\n",
       "      <th>sales</th>\n",
       "      <th>salary</th>\n",
       "    </tr>\n",
       "  </thead>\n",
       "  <tbody>\n",
       "    <tr>\n",
       "      <th>0</th>\n",
       "      <td>0.10</td>\n",
       "      <td>0.90</td>\n",
       "      <td>7</td>\n",
       "      <td>286</td>\n",
       "      <td>4</td>\n",
       "      <td>0</td>\n",
       "      <td>1</td>\n",
       "      <td>0</td>\n",
       "      <td>sales</td>\n",
       "      <td>low</td>\n",
       "    </tr>\n",
       "    <tr>\n",
       "      <th>1</th>\n",
       "      <td>0.89</td>\n",
       "      <td>0.93</td>\n",
       "      <td>4</td>\n",
       "      <td>249</td>\n",
       "      <td>3</td>\n",
       "      <td>0</td>\n",
       "      <td>0</td>\n",
       "      <td>0</td>\n",
       "      <td>sales</td>\n",
       "      <td>low</td>\n",
       "    </tr>\n",
       "    <tr>\n",
       "      <th>2</th>\n",
       "      <td>0.38</td>\n",
       "      <td>0.50</td>\n",
       "      <td>2</td>\n",
       "      <td>132</td>\n",
       "      <td>3</td>\n",
       "      <td>0</td>\n",
       "      <td>1</td>\n",
       "      <td>0</td>\n",
       "      <td>accounting</td>\n",
       "      <td>low</td>\n",
       "    </tr>\n",
       "    <tr>\n",
       "      <th>3</th>\n",
       "      <td>0.95</td>\n",
       "      <td>0.71</td>\n",
       "      <td>4</td>\n",
       "      <td>151</td>\n",
       "      <td>4</td>\n",
       "      <td>0</td>\n",
       "      <td>0</td>\n",
       "      <td>0</td>\n",
       "      <td>sales</td>\n",
       "      <td>medium</td>\n",
       "    </tr>\n",
       "    <tr>\n",
       "      <th>4</th>\n",
       "      <td>0.84</td>\n",
       "      <td>0.84</td>\n",
       "      <td>5</td>\n",
       "      <td>163</td>\n",
       "      <td>3</td>\n",
       "      <td>0</td>\n",
       "      <td>0</td>\n",
       "      <td>0</td>\n",
       "      <td>technical</td>\n",
       "      <td>low</td>\n",
       "    </tr>\n",
       "  </tbody>\n",
       "</table>\n",
       "</div>"
      ],
      "text/plain": [
       "   satisfaction_level  last_evaluation  number_project  average_montly_hours  \\\n",
       "0                0.10             0.90               7                   286   \n",
       "1                0.89             0.93               4                   249   \n",
       "2                0.38             0.50               2                   132   \n",
       "3                0.95             0.71               4                   151   \n",
       "4                0.84             0.84               5                   163   \n",
       "\n",
       "   time_spend_company  Work_accident  left  promotion_last_5years       sales  \\\n",
       "0                   4              0     1                      0       sales   \n",
       "1                   3              0     0                      0       sales   \n",
       "2                   3              0     1                      0  accounting   \n",
       "3                   4              0     0                      0       sales   \n",
       "4                   3              0     0                      0   technical   \n",
       "\n",
       "   salary  \n",
       "0     low  \n",
       "1     low  \n",
       "2     low  \n",
       "3  medium  \n",
       "4     low  "
      ]
     },
     "execution_count": 2,
     "metadata": {},
     "output_type": "execute_result"
    }
   ],
   "source": [
    "data = pd.read_csv('input_data/train.csv')\n",
    "data.head()"
   ]
  },
  {
   "cell_type": "code",
   "execution_count": 3,
   "metadata": {},
   "outputs": [
    {
     "name": "stdout",
     "output_type": "stream",
     "text": [
      "<class 'pandas.core.frame.DataFrame'>\n",
      "RangeIndex: 11238 entries, 0 to 11237\n",
      "Data columns (total 10 columns):\n",
      "satisfaction_level       11238 non-null float64\n",
      "last_evaluation          11238 non-null float64\n",
      "number_project           11238 non-null int64\n",
      "average_montly_hours     11238 non-null int64\n",
      "time_spend_company       11238 non-null int64\n",
      "Work_accident            11238 non-null int64\n",
      "left                     11238 non-null int64\n",
      "promotion_last_5years    11238 non-null int64\n",
      "sales                    11238 non-null object\n",
      "salary                   11238 non-null object\n",
      "dtypes: float64(2), int64(6), object(2)\n",
      "memory usage: 878.0+ KB\n"
     ]
    }
   ],
   "source": [
    "data.info()"
   ]
  },
  {
   "cell_type": "markdown",
   "metadata": {},
   "source": [
    "#### So, there is no missing values in the dataset and hence no preprocessing of filling missing values is to be done"
   ]
  },
  {
   "cell_type": "code",
   "execution_count": 4,
   "metadata": {},
   "outputs": [
    {
     "data": {
      "text/plain": [
       "satisfaction_level       0\n",
       "last_evaluation          0\n",
       "number_project           0\n",
       "average_montly_hours     0\n",
       "time_spend_company       0\n",
       "Work_accident            0\n",
       "left                     0\n",
       "promotion_last_5years    0\n",
       "sales                    0\n",
       "salary                   0\n",
       "dtype: int64"
      ]
     },
     "execution_count": 4,
     "metadata": {},
     "output_type": "execute_result"
    }
   ],
   "source": [
    "data.isnull().sum()"
   ]
  },
  {
   "cell_type": "markdown",
   "metadata": {},
   "source": [
    "### Checking the count of both the outcomes\n",
    "- As the probelm is of binary classification , we first checked the skewness of the data towards an outcome.\n",
    "- We can see that the zeroes count is much more than the ones count hence the tree will be biased"
   ]
  },
  {
   "cell_type": "code",
   "execution_count": 5,
   "metadata": {},
   "outputs": [
    {
     "data": {
      "text/html": [
       "<div>\n",
       "<style scoped>\n",
       "    .dataframe tbody tr th:only-of-type {\n",
       "        vertical-align: middle;\n",
       "    }\n",
       "\n",
       "    .dataframe tbody tr th {\n",
       "        vertical-align: top;\n",
       "    }\n",
       "\n",
       "    .dataframe thead th {\n",
       "        text-align: right;\n",
       "    }\n",
       "</style>\n",
       "<table border=\"1\" class=\"dataframe\">\n",
       "  <thead>\n",
       "    <tr style=\"text-align: right;\">\n",
       "      <th></th>\n",
       "      <th>satisfaction_level</th>\n",
       "      <th>last_evaluation</th>\n",
       "      <th>number_project</th>\n",
       "      <th>average_montly_hours</th>\n",
       "      <th>time_spend_company</th>\n",
       "      <th>Work_accident</th>\n",
       "      <th>promotion_last_5years</th>\n",
       "      <th>sales</th>\n",
       "      <th>salary</th>\n",
       "    </tr>\n",
       "    <tr>\n",
       "      <th>left</th>\n",
       "      <th></th>\n",
       "      <th></th>\n",
       "      <th></th>\n",
       "      <th></th>\n",
       "      <th></th>\n",
       "      <th></th>\n",
       "      <th></th>\n",
       "      <th></th>\n",
       "      <th></th>\n",
       "    </tr>\n",
       "  </thead>\n",
       "  <tbody>\n",
       "    <tr>\n",
       "      <th>0</th>\n",
       "      <td>8563</td>\n",
       "      <td>8563</td>\n",
       "      <td>8563</td>\n",
       "      <td>8563</td>\n",
       "      <td>8563</td>\n",
       "      <td>8563</td>\n",
       "      <td>8563</td>\n",
       "      <td>8563</td>\n",
       "      <td>8563</td>\n",
       "    </tr>\n",
       "    <tr>\n",
       "      <th>1</th>\n",
       "      <td>2675</td>\n",
       "      <td>2675</td>\n",
       "      <td>2675</td>\n",
       "      <td>2675</td>\n",
       "      <td>2675</td>\n",
       "      <td>2675</td>\n",
       "      <td>2675</td>\n",
       "      <td>2675</td>\n",
       "      <td>2675</td>\n",
       "    </tr>\n",
       "  </tbody>\n",
       "</table>\n",
       "</div>"
      ],
      "text/plain": [
       "      satisfaction_level  last_evaluation  number_project  \\\n",
       "left                                                        \n",
       "0                   8563             8563            8563   \n",
       "1                   2675             2675            2675   \n",
       "\n",
       "      average_montly_hours  time_spend_company  Work_accident  \\\n",
       "left                                                            \n",
       "0                     8563                8563           8563   \n",
       "1                     2675                2675           2675   \n",
       "\n",
       "      promotion_last_5years  sales  salary  \n",
       "left                                        \n",
       "0                      8563   8563    8563  \n",
       "1                      2675   2675    2675  "
      ]
     },
     "execution_count": 5,
     "metadata": {},
     "output_type": "execute_result"
    }
   ],
   "source": [
    "data.groupby('left').count()"
   ]
  },
  {
   "cell_type": "markdown",
   "metadata": {},
   "source": [
    "### Shuffling and spliting the data\n",
    "- As mentioned in the assignment, we will first shuffle the data and then split it into two splits\n",
    "- 80% Training Set\n",
    "- 20% Testing Set"
   ]
  },
  {
   "cell_type": "code",
   "execution_count": 6,
   "metadata": {},
   "outputs": [],
   "source": [
    "# train_data = data.sample(frac = 0.8, random_state = 200)\n",
    "# test_data = data.drop(train_data.index)\n",
    "train_data, test_data = numpy.split(data, [int(0.8 * len(data))])\n",
    "attr = list(data)"
   ]
  },
  {
   "cell_type": "code",
   "execution_count": 7,
   "metadata": {},
   "outputs": [],
   "source": [
    "def iscontinous(data,attr):\n",
    "    if attr == 'left':\n",
    "        return True\n",
    "    if attr in list(data._get_numeric_data()):\n",
    "        if len(data[attr].unique()) <= 2 :\n",
    "            return False\n",
    "        return True\n",
    "    return False"
   ]
  },
  {
   "cell_type": "code",
   "execution_count": 8,
   "metadata": {},
   "outputs": [
    {
     "name": "stdout",
     "output_type": "stream",
     "text": [
      "['Work_accident', 'promotion_last_5years', 'sales', 'salary']\n",
      "['satisfaction_level', 'last_evaluation', 'number_project', 'average_montly_hours', 'time_spend_company', 'left']\n"
     ]
    }
   ],
   "source": [
    "categorical = [ x for x in attr if iscontinous(data,x) == False]\n",
    "continous = [x for x in attr if iscontinous(data,x) == True]\n",
    "print(categorical)\n",
    "print(continous)"
   ]
  },
  {
   "cell_type": "markdown",
   "metadata": {},
   "source": [
    "#### This function will return unique values of a particular column given as parameter"
   ]
  },
  {
   "cell_type": "code",
   "execution_count": 9,
   "metadata": {},
   "outputs": [],
   "source": [
    "def get_unique_values(data,col):\n",
    "    return list(data[col].unique())"
   ]
  },
  {
   "cell_type": "code",
   "execution_count": 10,
   "metadata": {},
   "outputs": [
    {
     "data": {
      "text/plain": [
       "['low', 'medium', 'high']"
      ]
     },
     "execution_count": 10,
     "metadata": {},
     "output_type": "execute_result"
    }
   ],
   "source": [
    "get_unique_values(data,'salary')"
   ]
  },
  {
   "cell_type": "markdown",
   "metadata": {},
   "source": [
    " #### This function will list the column headers for any dataframe."
   ]
  },
  {
   "cell_type": "code",
   "execution_count": 11,
   "metadata": {},
   "outputs": [],
   "source": [
    "def get_attributes(data):\n",
    "    return list(data)"
   ]
  },
  {
   "cell_type": "markdown",
   "metadata": {},
   "source": [
    "## Entropy :\n",
    ">- Entropy is the term of imputiry of the system, that is how much variation is present in the outcome.\n",
    ">- The following function will take a dataframe and output label as an input and will calculate the entropy on the basis of frequency of output labels.\n"
   ]
  },
  {
   "cell_type": "code",
   "execution_count": 12,
   "metadata": {},
   "outputs": [],
   "source": [
    "def entropy(data, labelcol):\n",
    "\n",
    "    dic = dict(data[labelcol].value_counts())\n",
    "    entropy = 0.0\n",
    "    for label in dic.keys():\n",
    "        entropy = entropy + (-(((1.0)*dic[label])/(len(data) + eps) * numpy.log2(((1.0)*dic[label])/(len(data) + eps )) ) ) \n",
    "        #print(entropy)\n",
    "    return entropy\n",
    "    "
   ]
  },
  {
   "cell_type": "code",
   "execution_count": 13,
   "metadata": {},
   "outputs": [
    {
     "data": {
      "text/plain": [
       "0.79175167848580907"
      ]
     },
     "execution_count": 13,
     "metadata": {},
     "output_type": "execute_result"
    }
   ],
   "source": [
    "entropy(data,'left')"
   ]
  },
  {
   "cell_type": "markdown",
   "metadata": {},
   "source": [
    "## Information Gain\n",
    ">- information gain is reduction in the entropy if we use a feature ( attribute ) as an decision boundary.\n",
    ">- It calculates wieghted entropy for the unique values of the attribute and then subtracts it from the current entropy of the system."
   ]
  },
  {
   "cell_type": "code",
   "execution_count": 14,
   "metadata": {},
   "outputs": [],
   "source": [
    "def infogain(data, attr,labelcol):\n",
    "    uniq = get_unique_values(data,attr)\n",
    "    wt_entropy = 0.0\n",
    "    for vals in uniq:\n",
    "        selected_data = data.loc[data[attr] == vals]\n",
    "        wieght = (1.0*len(selected_data))/(len(data) + eps )\n",
    "        wt_entropy += wieght*entropy(selected_data,labelcol)\n",
    "        #print(wt_entropy)\n",
    "    return entropy(data, labelcol) - wt_entropy"
   ]
  },
  {
   "cell_type": "markdown",
   "metadata": {},
   "source": [
    "## Information gain for numerical attribute:\n",
    "> We sort the unique values and sort them and now considetring all points as an splitting point and selecting a point which gives maximum gain the storing the numerical split in the node and then spliting the data for >= spliting point and < spliting point"
   ]
  },
  {
   "cell_type": "code",
   "execution_count": 15,
   "metadata": {},
   "outputs": [],
   "source": [
    "def infogainfornumerical(data,attr,labelcol):\n",
    "   \n",
    "    #df.sort_values(attr)\n",
    "    #print(df)\n",
    "    lista = list(data[attr].unique())\n",
    "    listb = sorted(lista)\n",
    "    midpoints = []\n",
    "    for x in range(1,len(listb)):\n",
    "        midpoints.append((listb[x-1] + listb[x])/2.0)\n",
    "        \n",
    "    maxgain = 0.0\n",
    "    splitingpoint = -1\n",
    "    dictof = {} \n",
    "    for x in midpoints:\n",
    "        #print(x)\n",
    "        data2 = data[data[attr] > x]\n",
    "        data3 = data[data[attr] <= x]\n",
    "        leftentropy = ((1.0*len(data2)) / len(data))*entropy(data2,labelcol)\n",
    "        rightentropy = ((1.0*len(data3)) / len(data))*entropy(data3,labelcol)\n",
    "        wt_entropy = leftentropy + rightentropy\n",
    "        infogain = entropy(data, labelcol) - wt_entropy\n",
    "        if infogain > maxgain:\n",
    "            maxgain = infogain\n",
    "            splitingpoint = x\n",
    "    return maxgain,splitingpoint\n"
   ]
  },
  {
   "cell_type": "code",
   "execution_count": 16,
   "metadata": {},
   "outputs": [
    {
     "data": {
      "text/plain": [
       "0.020887530533461041"
      ]
     },
     "execution_count": 16,
     "metadata": {},
     "output_type": "execute_result"
    }
   ],
   "source": [
    "infogain(data,'salary','left')"
   ]
  },
  {
   "cell_type": "code",
   "execution_count": 17,
   "metadata": {},
   "outputs": [],
   "source": [
    "def getcoldata(data,attr,value):\n",
    "    return data.loc[data[attr] == value]"
   ]
  },
  {
   "cell_type": "markdown",
   "metadata": {},
   "source": [
    "#### Maximum Gain\n",
    "- Out of a list of attributes, we have to select that which attribute will be selected as a best decision boundary and for that we calculate inforamtion gain of eact feature and select the one whcih has max gain."
   ]
  },
  {
   "cell_type": "code",
   "execution_count": 18,
   "metadata": {},
   "outputs": [],
   "source": [
    "def max_gain(data, remaining_attrs , labelcol):\n",
    "    maxgain = 0.0\n",
    "    splitattr = \"\"\n",
    "    splitingpointmain = -1\n",
    "    global continous\n",
    "    for attr in remaining_attrs:\n",
    "        if attr in continous:\n",
    "            gain,splitingpoint = infogainfornumerical(data,attr,labelcol)\n",
    "        else:\n",
    "            gain  = infogain(data,attr,labelcol)\n",
    "            splitingpoint = -1\n",
    "        #print (gain)\n",
    "        if  gain >= maxgain:\n",
    "            maxgain = gain\n",
    "            splitattr = attr\n",
    "            splitingpointmain = splitingpoint \n",
    "    if splitattr == \"\" :\n",
    "        #print(\"NOT IN THIS\")\n",
    "        return 0,\"Negative\",-1\n",
    "    return maxgain,splitattr,splitingpointmain"
   ]
  },
  {
   "cell_type": "code",
   "execution_count": 19,
   "metadata": {},
   "outputs": [
    {
     "data": {
      "text/plain": [
       "(0.19436853577423674, 'satisfaction_level', 0.46499999999999997)"
      ]
     },
     "execution_count": 19,
     "metadata": {},
     "output_type": "execute_result"
    }
   ],
   "source": [
    "attr = list(data)\n",
    "attr.remove('left')\n",
    "max_gain(train_data,attr,'left')"
   ]
  },
  {
   "cell_type": "markdown",
   "metadata": {},
   "source": [
    "## Node of decision tree.\n",
    ">- I have build id3 type structure of the tree that is each node will have n-ary children depending upon the number of unique values of the feature selected on that node.\n",
    ">- Each node has a dictionary which will have key ( branch ) as its unique values and for each key there will be a node.\n",
    ">- I have taken following attribute for the node\n",
    ">>- attribute name selceted on that node\n",
    ">>- decision on that node\n",
    ">>- Dictionary of children\n",
    ">>- depth\n",
    ">>- positive count ( number of 1s )\n",
    ">>- negative count ( numbers of 0s )\n"
   ]
  },
  {
   "cell_type": "code",
   "execution_count": 20,
   "metadata": {},
   "outputs": [],
   "source": [
    "class node:\n",
    "    attr = \"\"\n",
    "    decision = -1\n",
    "    children = {}\n",
    "    depth = 0\n",
    "    positive_count = 0\n",
    "    negative_count = 0\n",
    "    isnumeric = False\n",
    "    splitingpoint  = -1\n",
    "    numberofnodes = 0\n",
    "    \n",
    "    def __init__(self,attr,decision,children,depth,positive_count,negative_count,isnumeric, splitingpoint):\n",
    "        self.attr = attr\n",
    "        self.decision = decision\n",
    "        self.children = children\n",
    "        self.depth = depth\n",
    "        self.positive_count = positive_count\n",
    "        self.negative_count = negative_count\n",
    "        self.isnumeric = isnumeric\n",
    "        self.splitingpoint = splitingpoint\n",
    "        node.numberofnodes += 1\n",
    "        "
   ]
  },
  {
   "cell_type": "markdown",
   "metadata": {},
   "source": [
    "## Building tree recursively\n",
    ">- We first select the attribue with maximum gain , make it the root node and recurse the funciton for all its unique value.\n",
    ">- We stop at two conditions \n",
    ">>1. If there are rows only of onr type of output\n",
    ">>2. If all the attributes are used in the path.\n",
    ">>> In that case we make decision on the probablity of outcome till that node.\n",
    ">>3. If there are numerical attributes, we will binary split the data while finding the spliting point"
   ]
  },
  {
   "cell_type": "code",
   "execution_count": 21,
   "metadata": {},
   "outputs": [
    {
     "name": "stderr",
     "output_type": "stream",
     "text": [
      "<>:54: SyntaxWarning: name 'maxdepth' is assigned to before global declaration\n",
      "<>:54: SyntaxWarning: name 'maxdepth' is assigned to before global declaration\n",
      "<>:54: SyntaxWarning: name 'maxdepth' is assigned to before global declaration\n",
      "<ipython-input-21-023cf06fc89a>:54: SyntaxWarning: name 'maxdepth' is assigned to before global declaration\n",
      "  global maxdepth\n"
     ]
    }
   ],
   "source": [
    "def building_tree(data ,attrs , depth , stoping_depth):\n",
    "    #print(attrs)\n",
    "\n",
    "    posnegcount = dict(data['left'].value_counts())\n",
    "    poscount = 0\n",
    "    negcount = 0\n",
    "    \n",
    "    if 1 in posnegcount.keys():\n",
    "        poscount = posnegcount[1]\n",
    "    if 0 in posnegcount.keys():\n",
    "        negcount = posnegcount[0]\n",
    "    gain , best_attr , splitingpoint = max_gain(data,attrs,'left')\n",
    "    \n",
    "    \n",
    "    if(gain == 0):\n",
    "        ans = 1\n",
    "        if negcount > poscount:\n",
    "            ans = 0\n",
    "        return node('left',ans,{},depth,poscount,negcount,False,-1)\n",
    "    \n",
    "    \n",
    "    \n",
    "    if depth == stoping_depth or len(attrs) <= 0 or poscount == 0 or negcount == 0:\n",
    "        ans = 1\n",
    "        if negcount > poscount:\n",
    "            ans = 0\n",
    "        return node('left',ans,{},depth,poscount,negcount,False,-1)\n",
    "    \n",
    "    else:\n",
    "        \n",
    "        #print(best_attr)\n",
    "        if splitingpoint != -1:\n",
    "            root = node(best_attr,\"\",{},depth,poscount,negcount,True,splitingpoint)\n",
    "            \n",
    "            newattr = deepcopy(attrs)\n",
    "            #newattr.remove(best_attr)\n",
    "            for childs in range(0,2):\n",
    "                key = 0\n",
    "                if childs == 0:\n",
    "                    data2 = data[ data[best_attr] > splitingpoint ]\n",
    "                    key = 1\n",
    "                else:\n",
    "                    data2 = data[ data[best_attr] <= splitingpoint ]\n",
    "                global maxdepth\n",
    "                maxdepth = max(depth,maxdepth)\n",
    "                root.children[key] = building_tree(data2,newattr,depth+1,stoping_depth)\n",
    "        else:\n",
    "            uniqvals = get_unique_values(data,best_attr)\n",
    "            root = node( best_attr , \"\" , {} , depth , poscount , negcount,False,-1)\n",
    "            for val in uniqvals:\n",
    "                data2 = getcoldata(data,best_attr,val)\n",
    "                newattr = deepcopy(attrs)\n",
    "                newattr.remove(best_attr)\n",
    "                global maxdepth\n",
    "                maxdepth = max(depth,maxdepth)\n",
    "                root.children[val] = building_tree(data2, newattr , depth+1,stoping_depth)\n",
    "        \n",
    "        return root\n",
    "            "
   ]
  },
  {
   "cell_type": "markdown",
   "metadata": {},
   "source": [
    "## Validation Function:\n",
    "> We traverse from root node for each row till the decison node, and then predict the same.\n",
    ">#### In case, if a path is not in the trained tree and it is in test set (that is we cant parse downwars stuck on that node, we give decsion on the basis of probablity of that node."
   ]
  },
  {
   "cell_type": "code",
   "execution_count": 22,
   "metadata": {},
   "outputs": [],
   "source": [
    "def validate_accuracy(valid_data, tree,f):\n",
    "    rightcount = 0\n",
    "    wrongcount = 0\n",
    "    false_positive = 0\n",
    "    false_negative = 0\n",
    "    true_positive = 0\n",
    "    true_negative = 0\n",
    "    origin = deepcopy(tree)\n",
    "    for index,rows in valid_data.iterrows():\n",
    "        tree = origin\n",
    "        while(len(tree.children.keys()) != 0):\n",
    "                #print(str(rows)+\"row\")\n",
    "                #print(rows['salary'])\n",
    "                x = rows[tree.attr]\n",
    "                #print(tree.attr,x,tree.isnumeric)\n",
    "                if tree.isnumeric == True:\n",
    "                    if ( x > tree.splitingpoint):\n",
    "                        tree = tree.children[1]\n",
    "                    else:\n",
    "                        tree = tree.children[0]\n",
    "                else:\n",
    "                    try:\n",
    "                        tree = tree.children[x]\n",
    "                    except:\n",
    "                        if(tree.positive_count < tree.negative_count):\n",
    "                            tree.decision = 0\n",
    "                        else:\n",
    "                            tree.decision = 1\n",
    "                        break\n",
    "\n",
    "        if(tree.decision == rows['left']):\n",
    "            rightcount+=1\n",
    "            if(rows['left'] == 0):\n",
    "                true_negative += 1\n",
    "            if(rows['left'] == 1):\n",
    "                true_positive += 1\n",
    "        else:\n",
    "            if(rows['left'] == 0):\n",
    "                false_positive += 1\n",
    "            if(rows['left'] == 1):\n",
    "                false_negative += 1\n",
    "            wrongcount+=1\n",
    "    print(\"True negative : \" , true_negative)\n",
    "    f.write(\"True negative : \" +  str(true_negative) + \"\\n\")\n",
    "    print(\"True positive : \",true_positive)\n",
    "    f.write(\"True positive : \" +  str(true_positive) + \"\\n\")\n",
    "    print(\"False Positive :\",false_positive)\n",
    "    f.write(\"False Positive : \" +  str(false_positive) + \"\\n\")\n",
    "    print(\"False negative :\",false_negative)\n",
    "    f.write(\"False negative : \" +  str(false_negative) + \"\\n\")\n",
    "    print(\"Total right predicted: \", rightcount)\n",
    "    f.write(\"Total right predicted:  \" +  str(rightcount) + \"\\n\")\n",
    "    print(\"Total wrong predicted: \", wrongcount)\n",
    "    f.write(\"Total wrong predicted: \" +  str(wrongcount) + \"\\n\")\n",
    "    print(\"Accuracy: \" , rightcount/(rightcount+wrongcount))\n",
    "    \n",
    "    print(\"Precision: \",true_positive/(true_positive+false_negative))\n",
    "    print(\"Recall: \",true_positive/(true_positive + false_positive))\n",
    "    print(\"F1 Score: \",(2.0)/((1/(true_positive/(true_positive + false_positive))) + (1/(true_positive/(true_positive+false_negative)))))\n",
    "        "
   ]
  },
  {
   "cell_type": "code",
   "execution_count": 23,
   "metadata": {},
   "outputs": [],
   "source": [
    "def printtree(root):\n",
    "    if(len(root.children.keys()) == 0):\n",
    "        #print(\"descion \" + str(root.descion)) \n",
    "        global countdes\n",
    "        countdes += 1\n",
    "        return\n",
    "    #print(root.attr)\n",
    "    for x in list(root.children.keys())[::-1]:\n",
    "        #print(x)\n",
    "        printtree(root.children[x])"
   ]
  },
  {
   "cell_type": "markdown",
   "metadata": {},
   "source": [
    "# Building tree for all the possible depths and noting down the results."
   ]
  },
  {
   "cell_type": "code",
   "execution_count": 82,
   "metadata": {},
   "outputs": [
    {
     "name": "stdout",
     "output_type": "stream",
     "text": [
      "True negative :  5872\n",
      "True positive :  1516\n",
      "False Positive : 988\n",
      "False negative : 614\n",
      "Total right predicted:  7388\n",
      "Total wrong predicted:  1602\n",
      "Accuracy:  0.8218020022246941\n",
      "Precision:  0.711737089201878\n",
      "Recall:  0.6054313099041534\n",
      "F1 Score:  0.6542943461372465\n",
      "True negative :  6860\n",
      "True positive :  548\n",
      "False Positive : 0\n",
      "False negative : 1582\n",
      "Total right predicted:  7408\n",
      "Total wrong predicted:  1582\n",
      "Accuracy:  0.8240266963292547\n",
      "Precision:  0.25727699530516435\n",
      "Recall:  1.0\n",
      "F1 Score:  0.4092606422703511\n",
      "True negative :  6530\n",
      "True positive :  1965\n",
      "False Positive : 330\n",
      "False negative : 165\n",
      "Total right predicted:  8495\n",
      "Total wrong predicted:  495\n",
      "Accuracy:  0.9449388209121246\n",
      "Precision:  0.9225352112676056\n",
      "Recall:  0.8562091503267973\n",
      "F1 Score:  0.8881355932203391\n",
      "True negative :  6729\n",
      "True positive :  1964\n",
      "False Positive : 131\n",
      "False negative : 166\n",
      "Total right predicted:  8693\n",
      "Total wrong predicted:  297\n",
      "Accuracy:  0.9669632925472748\n",
      "Precision:  0.9220657276995305\n",
      "Recall:  0.9374701670644391\n",
      "F1 Score:  0.9297041420118343\n",
      "True negative :  6779\n",
      "True positive :  1983\n",
      "False Positive : 81\n",
      "False negative : 147\n",
      "Total right predicted:  8762\n",
      "Total wrong predicted:  228\n",
      "Accuracy:  0.9746384872080089\n",
      "Precision:  0.9309859154929577\n",
      "Recall:  0.9607558139534884\n",
      "F1 Score:  0.9456366237482117\n",
      "True negative :  6807\n",
      "True positive :  2007\n",
      "False Positive : 53\n",
      "False negative : 123\n",
      "Total right predicted:  8814\n",
      "Total wrong predicted:  176\n",
      "Accuracy:  0.9804226918798665\n",
      "Precision:  0.9422535211267605\n",
      "Recall:  0.9742718446601941\n",
      "F1 Score:  0.9579952267303102\n",
      "True negative :  6836\n",
      "True positive :  2016\n",
      "False Positive : 24\n",
      "False negative : 114\n",
      "Total right predicted:  8852\n",
      "Total wrong predicted:  138\n",
      "Accuracy:  0.9846496106785317\n",
      "Precision:  0.9464788732394366\n",
      "Recall:  0.9882352941176471\n",
      "F1 Score:  0.9669064748201439\n",
      "True negative :  6845\n",
      "True positive :  2041\n",
      "False Positive : 15\n",
      "False negative : 89\n",
      "Total right predicted:  8886\n",
      "Total wrong predicted:  104\n",
      "Accuracy:  0.9884315906562847\n",
      "Precision:  0.9582159624413146\n",
      "Recall:  0.992704280155642\n",
      "F1 Score:  0.9751552795031055\n",
      "True negative :  6838\n",
      "True positive :  2068\n",
      "False Positive : 22\n",
      "False negative : 62\n",
      "Total right predicted:  8906\n",
      "Total wrong predicted:  84\n",
      "Accuracy:  0.9906562847608453\n",
      "Precision:  0.9708920187793427\n",
      "Recall:  0.9894736842105263\n",
      "F1 Score:  0.9800947867298578\n",
      "True negative :  6847\n",
      "True positive :  2087\n",
      "False Positive : 13\n",
      "False negative : 43\n",
      "Total right predicted:  8934\n",
      "Total wrong predicted:  56\n",
      "Accuracy:  0.9937708565072303\n",
      "Precision:  0.9798122065727699\n",
      "Recall:  0.9938095238095238\n",
      "F1 Score:  0.9867612293144208\n",
      "True negative :  6851\n",
      "True positive :  2095\n",
      "False Positive : 9\n",
      "False negative : 35\n",
      "Total right predicted:  8946\n",
      "Total wrong predicted:  44\n",
      "Accuracy:  0.9951056729699667\n",
      "Precision:  0.9835680751173709\n",
      "Recall:  0.995722433460076\n",
      "F1 Score:  0.9896079357581483\n",
      "True negative :  6855\n",
      "True positive :  2102\n",
      "False Positive : 5\n",
      "False negative : 28\n",
      "Total right predicted:  8957\n",
      "Total wrong predicted:  33\n",
      "Accuracy:  0.996329254727475\n",
      "Precision:  0.9868544600938968\n",
      "Recall:  0.9976269577598481\n",
      "F1 Score:  0.9922114703799859\n",
      "True negative :  6857\n",
      "True positive :  2112\n",
      "False Positive : 3\n",
      "False negative : 18\n",
      "Total right predicted:  8969\n",
      "Total wrong predicted:  21\n",
      "Accuracy:  0.9976640711902114\n",
      "Precision:  0.9915492957746479\n",
      "Recall:  0.9985815602836879\n",
      "F1 Score:  0.995053003533569\n",
      "True negative :  6859\n",
      "True positive :  2115\n",
      "False Positive : 1\n",
      "False negative : 15\n",
      "Total right predicted:  8974\n",
      "Total wrong predicted:  16\n",
      "Accuracy:  0.9982202447163515\n",
      "Precision:  0.9929577464788732\n",
      "Recall:  0.9995274102079396\n",
      "F1 Score:  0.9962317475270843\n",
      "True negative :  6856\n",
      "True positive :  2120\n",
      "False Positive : 4\n",
      "False negative : 10\n",
      "Total right predicted:  8976\n",
      "Total wrong predicted:  14\n",
      "Accuracy:  0.9984427141268075\n",
      "Precision:  0.9953051643192489\n",
      "Recall:  0.9981167608286252\n",
      "F1 Score:  0.996708979783733\n",
      "True negative :  6859\n",
      "True positive :  2123\n",
      "False Positive : 1\n",
      "False negative : 7\n",
      "Total right predicted:  8982\n",
      "Total wrong predicted:  8\n",
      "Accuracy:  0.9991101223581758\n",
      "Precision:  0.9967136150234742\n",
      "Recall:  0.9995291902071564\n",
      "F1 Score:  0.9981194170192761\n",
      "True negative :  6860\n",
      "True positive :  2126\n",
      "False Positive : 0\n",
      "False negative : 4\n",
      "Total right predicted:  8986\n",
      "Total wrong predicted:  4\n",
      "Accuracy:  0.9995550611790879\n",
      "Precision:  0.9981220657276996\n",
      "Recall:  1.0\n",
      "F1 Score:  0.9990601503759399\n",
      "True negative :  6860\n",
      "True positive :  2127\n",
      "False Positive : 0\n",
      "False negative : 3\n",
      "Total right predicted:  8987\n",
      "Total wrong predicted:  3\n",
      "Accuracy:  0.9996662958843159\n",
      "Precision:  0.9985915492957746\n",
      "Recall:  1.0\n",
      "F1 Score:  0.999295278365046\n",
      "True negative :  6859\n",
      "True positive :  2130\n",
      "False Positive : 1\n",
      "False negative : 0\n",
      "Total right predicted:  8989\n",
      "Total wrong predicted:  1\n",
      "Accuracy:  0.999888765294772\n",
      "Precision:  1.0\n",
      "Recall:  0.999530736743313\n",
      "F1 Score:  0.9997653133067355\n",
      "True negative :  6860\n",
      "True positive :  2130\n",
      "False Positive : 0\n",
      "False negative : 0\n",
      "Total right predicted:  8990\n",
      "Total wrong predicted:  0\n",
      "Accuracy:  1.0\n",
      "Precision:  1.0\n",
      "Recall:  1.0\n",
      "F1 Score:  1.0\n"
     ]
    }
   ],
   "source": [
    "for i in range(1,21):\n",
    "    f = open(\"depth_results_train_data.txt\",\"a+\")\n",
    "    f.write(\"\\n\")\n",
    "    f.write(\"Depth: \" + str(i) + \"\\n\")\n",
    "    tree = building_tree(train_data,attr,0,i)\n",
    "    countdes = 0\n",
    "    printtree(tree)\n",
    "    f.write(\"Total number of leaf nodes: \" + str(countdes) + \" \\n\")\n",
    "    f.write(\"Total number of nodes: \" + str(tree.numberofnodes) + \" \\n\")\n",
    "    validate_accuracy(train_data,tree,f)\n",
    "    f.write(\"\\n\")\n",
    "    f.close()\n",
    "    \n",
    "    "
   ]
  },
  {
   "cell_type": "code",
   "execution_count": 27,
   "metadata": {},
   "outputs": [
    {
     "name": "stdout",
     "output_type": "stream",
     "text": [
      "Root: satisfaction_level\n",
      "depth:  19\n"
     ]
    }
   ],
   "source": [
    "maxdepth = 0\n",
    "tree = building_tree(train_data,attr,0)\n",
    "print(\"Root:\",tree.attr)\n",
    "print(\"depth: \",maxdepth)"
   ]
  },
  {
   "cell_type": "code",
   "execution_count": 29,
   "metadata": {
    "scrolled": true
   },
   "outputs": [
    {
     "name": "stdout",
     "output_type": "stream",
     "text": [
      "number of leaf nodes: 346\n",
      "number of nnodes : 600\n"
     ]
    }
   ],
   "source": [
    "countdes = 0\n",
    "printtree(tree)\n",
    "print(\"number of leaf nodes:\",countdes)\n",
    "print(\"number of nnodes :\",tree.numberofnodes)"
   ]
  },
  {
   "cell_type": "code",
   "execution_count": 170,
   "metadata": {
    "scrolled": true
   },
   "outputs": [
    {
     "name": "stdout",
     "output_type": "stream",
     "text": [
      "True negative :  1673\n",
      "True positive :  522\n",
      "False Positive : 30\n",
      "False negative : 23\n",
      "Total right predicted:  2195\n",
      "Total wrong predicted:  53\n",
      "Accuracy:  0.9764234875444839\n",
      "Precision:  0.9577981651376147\n",
      "Recall:  0.9456521739130435\n",
      "F1 Score:  0.9516864175022789\n"
     ]
    }
   ],
   "source": [
    "validate_accuracy(test_data,tree)"
   ]
  },
  {
   "cell_type": "markdown",
   "metadata": {},
   "source": [
    "## Training error plot"
   ]
  },
  {
   "cell_type": "code",
   "execution_count": 30,
   "metadata": {},
   "outputs": [
    {
     "data": {
      "image/png": "[encoded data removed]",
      "text/plain": [
       "<Figure size 432x288 with 1 Axes>"
      ]
     },
     "metadata": {
      "needs_background": "light"
     },
     "output_type": "display_data"
    },
    {
     "data": {
      "image/png": "[encoded data removed]",
      "text/plain": [
       "<Figure size 432x288 with 1 Axes>"
      ]
     },
     "metadata": {
      "needs_background": "light"
     },
     "output_type": "display_data"
    }
   ],
   "source": [
    "depth = [ x for x in range(1,21)]\n",
    "f = open('depth_results_validation.txt','r')\n",
    "nodes1 = []\n",
    "valid_error = []\n",
    "valid_total = 2248\n",
    "actual_nodes = []\n",
    "for x in f.readlines():\n",
    "    if x != None :\n",
    "        l = x.split(':')\n",
    "        if \"Total number of nodes\" in l:\n",
    "            nodes1.append(int(l[1]))\n",
    "        if \"Total wrong predicted\" in l:\n",
    "            valid_error.append((int(l[1])))\n",
    "actual_nodes.append(3)\n",
    "for i in range(1,len(nodes1)):\n",
    "    actual_nodes.append(nodes1[i] - nodes1[i-1])\n",
    "\n",
    "valid_error\n",
    "\n",
    "plt.plot(depth, valid_error, label = \"validation error\") \n",
    "plt.xlabel(\"Depth\")\n",
    "plt.ylabel(\"Number of Wrongly predicted points\")\n",
    "plt.title(\"Depth vs Validation error\")\n",
    "plt.legend(loc='best')\n",
    "plt.show()\n",
    "\n",
    "plt.plot(actual_nodes, valid_error, label = \"validation error\") \n",
    "plt.xlabel(\"Nodes\")\n",
    "plt.ylabel(\"Number of Wrongly predicted points\")\n",
    "plt.legend(loc='best')\n",
    "plt.title(\"Nodes vs Validation error\")\n",
    "\n",
    "plt.show()\n"
   ]
  },
  {
   "cell_type": "code",
   "execution_count": 34,
   "metadata": {},
   "outputs": [
    {
     "data": {
      "image/png": "[encoded data removed]",
      "text/plain": [
       "<Figure size 432x288 with 1 Axes>"
      ]
     },
     "metadata": {
      "needs_background": "light"
     },
     "output_type": "display_data"
    },
    {
     "data": {
      "image/png": "[encoded data removed]",
      "text/plain": [
       "<Figure size 432x288 with 1 Axes>"
      ]
     },
     "metadata": {
      "needs_background": "light"
     },
     "output_type": "display_data"
    }
   ],
   "source": [
    "\n",
    "f = open('depth_results_train_data.txt','r')\n",
    "\n",
    "valid_error = []\n",
    "\n",
    "for x in f.readlines():\n",
    "    if x != None :\n",
    "        l = x.split(':')\n",
    "        if \"Total wrong predicted\" in l:\n",
    "            valid_error.append((int(l[1])))\n",
    "\n",
    "plt.plot(depth, valid_error, label = \"Training error\") \n",
    "plt.xlabel(\"Depth\")\n",
    "plt.ylabel(\"Number of Wrongly predicted points\")\n",
    "plt.title(\"Depth vs Training error\")\n",
    "plt.legend(loc='best')\n",
    "plt.show()\n",
    "\n",
    "plt.plot(actual_nodes, valid_error, label = \"Training error\") \n",
    "plt.xlabel(\"Nodes\")\n",
    "plt.ylabel(\"Number of Wrongly predicted points\")\n",
    "plt.legend(loc='best')\n",
    "plt.title(\"Nodes vs Training error\")\n",
    "\n",
    "plt.show()\n"
   ]
  }
 ],
 "metadata": {
  "kernelspec": {
   "display_name": "Python 3",
   "language": "python",
   "name": "python3"
  },
  "language_info": {
   "codemirror_mode": {
    "name": "ipython",
    "version": 3
   },
   "file_extension": ".py",
   "mimetype": "text/x-python",
   "name": "python",
   "nbconvert_exporter": "python",
   "pygments_lexer": "ipython3",
   "version": "3.5.2"
  }
 },
 "nbformat": 4,
 "nbformat_minor": 2
}
