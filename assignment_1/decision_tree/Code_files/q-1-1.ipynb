{
 "cells": [
  {
   "cell_type": "markdown",
   "metadata": {},
   "source": [
    "# Assignment 1\n",
    "\n",
    "### we have to build a decision tree from scratch using various calclulations\n"
   ]
  },
  {
   "cell_type": "markdown",
   "metadata": {},
   "source": [
    "## Part 1 (30 points)\n",
    "Train decision tree only on categorical data. Report precision,recall, f1 score and accuracy."
   ]
  },
  {
   "cell_type": "markdown",
   "metadata": {},
   "source": [
    "#### Imporitng Libraries"
   ]
  },
  {
   "cell_type": "code",
   "execution_count": 1,
   "metadata": {},
   "outputs": [],
   "source": [
    "import pandas as pd\n",
    "import numpy\n",
    "import random\n",
    "import math\n",
    "from sklearn.model_selection import train_test_split\n",
    "eps = numpy.finfo(float).eps\n",
    "from copy import deepcopy"
   ]
  },
  {
   "cell_type": "markdown",
   "metadata": {},
   "source": [
    "#### Reading data from CSV and it's analysis"
   ]
  },
  {
   "cell_type": "code",
   "execution_count": 2,
   "metadata": {},
   "outputs": [
    {
     "data": {
      "text/html": [
       "<div>\n",
       "<style scoped>\n",
       "    .dataframe tbody tr th:only-of-type {\n",
       "        vertical-align: middle;\n",
       "    }\n",
       "\n",
       "    .dataframe tbody tr th {\n",
       "        vertical-align: top;\n",
       "    }\n",
       "\n",
       "    .dataframe thead th {\n",
       "        text-align: right;\n",
       "    }\n",
       "</style>\n",
       "<table border=\"1\" class=\"dataframe\">\n",
       "  <thead>\n",
       "    <tr style=\"text-align: right;\">\n",
       "      <th></th>\n",
       "      <th>satisfaction_level</th>\n",
       "      <th>last_evaluation</th>\n",
       "      <th>number_project</th>\n",
       "      <th>average_montly_hours</th>\n",
       "      <th>time_spend_company</th>\n",
       "      <th>Work_accident</th>\n",
       "      <th>left</th>\n",
       "      <th>promotion_last_5years</th>\n",
       "      <th>sales</th>\n",
       "      <th>salary</th>\n",
       "    </tr>\n",
       "  </thead>\n",
       "  <tbody>\n",
       "    <tr>\n",
       "      <th>0</th>\n",
       "      <td>0.10</td>\n",
       "      <td>0.90</td>\n",
       "      <td>7</td>\n",
       "      <td>286</td>\n",
       "      <td>4</td>\n",
       "      <td>0</td>\n",
       "      <td>1</td>\n",
       "      <td>0</td>\n",
       "      <td>sales</td>\n",
       "      <td>low</td>\n",
       "    </tr>\n",
       "    <tr>\n",
       "      <th>1</th>\n",
       "      <td>0.89</td>\n",
       "      <td>0.93</td>\n",
       "      <td>4</td>\n",
       "      <td>249</td>\n",
       "      <td>3</td>\n",
       "      <td>0</td>\n",
       "      <td>0</td>\n",
       "      <td>0</td>\n",
       "      <td>sales</td>\n",
       "      <td>low</td>\n",
       "    </tr>\n",
       "    <tr>\n",
       "      <th>2</th>\n",
       "      <td>0.38</td>\n",
       "      <td>0.50</td>\n",
       "      <td>2</td>\n",
       "      <td>132</td>\n",
       "      <td>3</td>\n",
       "      <td>0</td>\n",
       "      <td>1</td>\n",
       "      <td>0</td>\n",
       "      <td>accounting</td>\n",
       "      <td>low</td>\n",
       "    </tr>\n",
       "    <tr>\n",
       "      <th>3</th>\n",
       "      <td>0.95</td>\n",
       "      <td>0.71</td>\n",
       "      <td>4</td>\n",
       "      <td>151</td>\n",
       "      <td>4</td>\n",
       "      <td>0</td>\n",
       "      <td>0</td>\n",
       "      <td>0</td>\n",
       "      <td>sales</td>\n",
       "      <td>medium</td>\n",
       "    </tr>\n",
       "    <tr>\n",
       "      <th>4</th>\n",
       "      <td>0.84</td>\n",
       "      <td>0.84</td>\n",
       "      <td>5</td>\n",
       "      <td>163</td>\n",
       "      <td>3</td>\n",
       "      <td>0</td>\n",
       "      <td>0</td>\n",
       "      <td>0</td>\n",
       "      <td>technical</td>\n",
       "      <td>low</td>\n",
       "    </tr>\n",
       "  </tbody>\n",
       "</table>\n",
       "</div>"
      ],
      "text/plain": [
       "   satisfaction_level  last_evaluation  number_project  average_montly_hours  \\\n",
       "0                0.10             0.90               7                   286   \n",
       "1                0.89             0.93               4                   249   \n",
       "2                0.38             0.50               2                   132   \n",
       "3                0.95             0.71               4                   151   \n",
       "4                0.84             0.84               5                   163   \n",
       "\n",
       "   time_spend_company  Work_accident  left  promotion_last_5years       sales  \\\n",
       "0                   4              0     1                      0       sales   \n",
       "1                   3              0     0                      0       sales   \n",
       "2                   3              0     1                      0  accounting   \n",
       "3                   4              0     0                      0       sales   \n",
       "4                   3              0     0                      0   technical   \n",
       "\n",
       "   salary  \n",
       "0     low  \n",
       "1     low  \n",
       "2     low  \n",
       "3  medium  \n",
       "4     low  "
      ]
     },
     "execution_count": 2,
     "metadata": {},
     "output_type": "execute_result"
    }
   ],
   "source": [
    "data = pd.read_csv('input_data/train.csv')\n",
    "data.head()"
   ]
  },
  {
   "cell_type": "code",
   "execution_count": 3,
   "metadata": {},
   "outputs": [
    {
     "name": "stdout",
     "output_type": "stream",
     "text": [
      "<class 'pandas.core.frame.DataFrame'>\n",
      "RangeIndex: 11238 entries, 0 to 11237\n",
      "Data columns (total 10 columns):\n",
      "satisfaction_level       11238 non-null float64\n",
      "last_evaluation          11238 non-null float64\n",
      "number_project           11238 non-null int64\n",
      "average_montly_hours     11238 non-null int64\n",
      "time_spend_company       11238 non-null int64\n",
      "Work_accident            11238 non-null int64\n",
      "left                     11238 non-null int64\n",
      "promotion_last_5years    11238 non-null int64\n",
      "sales                    11238 non-null object\n",
      "salary                   11238 non-null object\n",
      "dtypes: float64(2), int64(6), object(2)\n",
      "memory usage: 878.0+ KB\n"
     ]
    }
   ],
   "source": [
    "data.info()"
   ]
  },
  {
   "cell_type": "markdown",
   "metadata": {},
   "source": [
    "#### So, there is no missing values in the dataset and hence no preprocessing of filling missing values is to be done"
   ]
  },
  {
   "cell_type": "code",
   "execution_count": 4,
   "metadata": {},
   "outputs": [
    {
     "data": {
      "text/plain": [
       "satisfaction_level       0\n",
       "last_evaluation          0\n",
       "number_project           0\n",
       "average_montly_hours     0\n",
       "time_spend_company       0\n",
       "Work_accident            0\n",
       "left                     0\n",
       "promotion_last_5years    0\n",
       "sales                    0\n",
       "salary                   0\n",
       "dtype: int64"
      ]
     },
     "execution_count": 4,
     "metadata": {},
     "output_type": "execute_result"
    }
   ],
   "source": [
    "data.isnull().sum()"
   ]
  },
  {
   "cell_type": "markdown",
   "metadata": {},
   "source": [
    "### Checking the count of both the outcomes\n",
    "- As the probelm is of binary classification , we first checked the skewness of the data towards an outcome.\n",
    "- We can see that the zeroes count is much more than the ones count hence the tree will be biased"
   ]
  },
  {
   "cell_type": "code",
   "execution_count": 5,
   "metadata": {},
   "outputs": [
    {
     "data": {
      "text/html": [
       "<div>\n",
       "<style scoped>\n",
       "    .dataframe tbody tr th:only-of-type {\n",
       "        vertical-align: middle;\n",
       "    }\n",
       "\n",
       "    .dataframe tbody tr th {\n",
       "        vertical-align: top;\n",
       "    }\n",
       "\n",
       "    .dataframe thead th {\n",
       "        text-align: right;\n",
       "    }\n",
       "</style>\n",
       "<table border=\"1\" class=\"dataframe\">\n",
       "  <thead>\n",
       "    <tr style=\"text-align: right;\">\n",
       "      <th></th>\n",
       "      <th>satisfaction_level</th>\n",
       "      <th>last_evaluation</th>\n",
       "      <th>number_project</th>\n",
       "      <th>average_montly_hours</th>\n",
       "      <th>time_spend_company</th>\n",
       "      <th>Work_accident</th>\n",
       "      <th>promotion_last_5years</th>\n",
       "      <th>sales</th>\n",
       "      <th>salary</th>\n",
       "    </tr>\n",
       "    <tr>\n",
       "      <th>left</th>\n",
       "      <th></th>\n",
       "      <th></th>\n",
       "      <th></th>\n",
       "      <th></th>\n",
       "      <th></th>\n",
       "      <th></th>\n",
       "      <th></th>\n",
       "      <th></th>\n",
       "      <th></th>\n",
       "    </tr>\n",
       "  </thead>\n",
       "  <tbody>\n",
       "    <tr>\n",
       "      <th>0</th>\n",
       "      <td>8563</td>\n",
       "      <td>8563</td>\n",
       "      <td>8563</td>\n",
       "      <td>8563</td>\n",
       "      <td>8563</td>\n",
       "      <td>8563</td>\n",
       "      <td>8563</td>\n",
       "      <td>8563</td>\n",
       "      <td>8563</td>\n",
       "    </tr>\n",
       "    <tr>\n",
       "      <th>1</th>\n",
       "      <td>2675</td>\n",
       "      <td>2675</td>\n",
       "      <td>2675</td>\n",
       "      <td>2675</td>\n",
       "      <td>2675</td>\n",
       "      <td>2675</td>\n",
       "      <td>2675</td>\n",
       "      <td>2675</td>\n",
       "      <td>2675</td>\n",
       "    </tr>\n",
       "  </tbody>\n",
       "</table>\n",
       "</div>"
      ],
      "text/plain": [
       "      satisfaction_level  last_evaluation  number_project  \\\n",
       "left                                                        \n",
       "0                   8563             8563            8563   \n",
       "1                   2675             2675            2675   \n",
       "\n",
       "      average_montly_hours  time_spend_company  Work_accident  \\\n",
       "left                                                            \n",
       "0                     8563                8563           8563   \n",
       "1                     2675                2675           2675   \n",
       "\n",
       "      promotion_last_5years  sales  salary  \n",
       "left                                        \n",
       "0                      8563   8563    8563  \n",
       "1                      2675   2675    2675  "
      ]
     },
     "execution_count": 5,
     "metadata": {},
     "output_type": "execute_result"
    }
   ],
   "source": [
    "data.groupby('left').count()"
   ]
  },
  {
   "cell_type": "markdown",
   "metadata": {},
   "source": [
    "### Shuffling and spliting the data\n",
    "- As mentioned in the assignment, we will first shuffle the data and then split it into two splits\n",
    "- 80% Training Set\n",
    "- 20% Testing Set"
   ]
  },
  {
   "cell_type": "code",
   "execution_count": 6,
   "metadata": {},
   "outputs": [
    {
     "data": {
      "text/html": [
       "<div>\n",
       "<style scoped>\n",
       "    .dataframe tbody tr th:only-of-type {\n",
       "        vertical-align: middle;\n",
       "    }\n",
       "\n",
       "    .dataframe tbody tr th {\n",
       "        vertical-align: top;\n",
       "    }\n",
       "\n",
       "    .dataframe thead th {\n",
       "        text-align: right;\n",
       "    }\n",
       "</style>\n",
       "<table border=\"1\" class=\"dataframe\">\n",
       "  <thead>\n",
       "    <tr style=\"text-align: right;\">\n",
       "      <th></th>\n",
       "      <th>satisfaction_level</th>\n",
       "      <th>last_evaluation</th>\n",
       "      <th>number_project</th>\n",
       "      <th>average_montly_hours</th>\n",
       "      <th>time_spend_company</th>\n",
       "      <th>Work_accident</th>\n",
       "      <th>left</th>\n",
       "      <th>promotion_last_5years</th>\n",
       "      <th>sales</th>\n",
       "      <th>salary</th>\n",
       "    </tr>\n",
       "  </thead>\n",
       "  <tbody>\n",
       "    <tr>\n",
       "      <th>2</th>\n",
       "      <td>0.38</td>\n",
       "      <td>0.50</td>\n",
       "      <td>2</td>\n",
       "      <td>132</td>\n",
       "      <td>3</td>\n",
       "      <td>0</td>\n",
       "      <td>1</td>\n",
       "      <td>0</td>\n",
       "      <td>accounting</td>\n",
       "      <td>low</td>\n",
       "    </tr>\n",
       "    <tr>\n",
       "      <th>3</th>\n",
       "      <td>0.95</td>\n",
       "      <td>0.71</td>\n",
       "      <td>4</td>\n",
       "      <td>151</td>\n",
       "      <td>4</td>\n",
       "      <td>0</td>\n",
       "      <td>0</td>\n",
       "      <td>0</td>\n",
       "      <td>sales</td>\n",
       "      <td>medium</td>\n",
       "    </tr>\n",
       "    <tr>\n",
       "      <th>5</th>\n",
       "      <td>0.76</td>\n",
       "      <td>0.94</td>\n",
       "      <td>4</td>\n",
       "      <td>168</td>\n",
       "      <td>6</td>\n",
       "      <td>0</td>\n",
       "      <td>0</td>\n",
       "      <td>0</td>\n",
       "      <td>technical</td>\n",
       "      <td>medium</td>\n",
       "    </tr>\n",
       "    <tr>\n",
       "      <th>17</th>\n",
       "      <td>0.91</td>\n",
       "      <td>0.77</td>\n",
       "      <td>3</td>\n",
       "      <td>195</td>\n",
       "      <td>7</td>\n",
       "      <td>0</td>\n",
       "      <td>0</td>\n",
       "      <td>0</td>\n",
       "      <td>sales</td>\n",
       "      <td>medium</td>\n",
       "    </tr>\n",
       "    <tr>\n",
       "      <th>18</th>\n",
       "      <td>0.61</td>\n",
       "      <td>0.85</td>\n",
       "      <td>4</td>\n",
       "      <td>273</td>\n",
       "      <td>3</td>\n",
       "      <td>0</td>\n",
       "      <td>0</td>\n",
       "      <td>0</td>\n",
       "      <td>RandD</td>\n",
       "      <td>low</td>\n",
       "    </tr>\n",
       "  </tbody>\n",
       "</table>\n",
       "</div>"
      ],
      "text/plain": [
       "    satisfaction_level  last_evaluation  number_project  average_montly_hours  \\\n",
       "2                 0.38             0.50               2                   132   \n",
       "3                 0.95             0.71               4                   151   \n",
       "5                 0.76             0.94               4                   168   \n",
       "17                0.91             0.77               3                   195   \n",
       "18                0.61             0.85               4                   273   \n",
       "\n",
       "    time_spend_company  Work_accident  left  promotion_last_5years  \\\n",
       "2                    3              0     1                      0   \n",
       "3                    4              0     0                      0   \n",
       "5                    6              0     0                      0   \n",
       "17                   7              0     0                      0   \n",
       "18                   3              0     0                      0   \n",
       "\n",
       "         sales  salary  \n",
       "2   accounting     low  \n",
       "3        sales  medium  \n",
       "5    technical  medium  \n",
       "17       sales  medium  \n",
       "18       RandD     low  "
      ]
     },
     "execution_count": 6,
     "metadata": {},
     "output_type": "execute_result"
    }
   ],
   "source": [
    "# train_data,test_data = train_test_split(data, test_size=0.2)\n",
    "\n",
    "# msk = numpy.random.rand(len(data)) < 0.8\n",
    "\n",
    "# train_data = data[msk]\n",
    "\n",
    "# test_data = data[~msk]\n",
    "train_data = data.sample(frac = 0.8, random_state = 200)\n",
    "test_data = data.drop(train_data.index)\n",
    "#train_data, test_data = numpy.split(data, [int(0.8 * len(data))])\n",
    "train_data.head()\n",
    "test_data.head()"
   ]
  },
  {
   "cell_type": "markdown",
   "metadata": {},
   "source": [
    "#### This function will return unique values of a particular column given as parameter"
   ]
  },
  {
   "cell_type": "code",
   "execution_count": 7,
   "metadata": {},
   "outputs": [],
   "source": [
    "def get_unique_values(data,col):\n",
    "    return list(data[col].unique())"
   ]
  },
  {
   "cell_type": "code",
   "execution_count": 8,
   "metadata": {},
   "outputs": [
    {
     "data": {
      "text/plain": [
       "['low', 'medium', 'high']"
      ]
     },
     "execution_count": 8,
     "metadata": {},
     "output_type": "execute_result"
    }
   ],
   "source": [
    "get_unique_values(data,'salary')"
   ]
  },
  {
   "cell_type": "markdown",
   "metadata": {},
   "source": [
    " #### This function will list the column headers for any dataframe."
   ]
  },
  {
   "cell_type": "code",
   "execution_count": 9,
   "metadata": {},
   "outputs": [],
   "source": [
    "def get_attributes(data):\n",
    "    return list(data)"
   ]
  },
  {
   "cell_type": "markdown",
   "metadata": {},
   "source": [
    "## Entropy :\n",
    ">- Entropy is the term of imputiry of the system, that is how much variation is present in the outcome.\n",
    ">- The following function will take a dataframe and output label as an input and will calculate the entropy on the basis of frequency of output labels.\n"
   ]
  },
  {
   "cell_type": "code",
   "execution_count": 10,
   "metadata": {},
   "outputs": [],
   "source": [
    "def entropy(data, labelcol):\n",
    "\n",
    "    dic = dict(data[labelcol].value_counts())\n",
    "    entropy = 0.0\n",
    "    for label in dic.keys():\n",
    "        entropy = entropy + (-(((1.0)*dic[label])/(len(data) + eps) * numpy.log2(((1.0)*dic[label])/(len(data) + eps )) ) ) \n",
    "        #print(entropy)\n",
    "    return entropy\n",
    "    "
   ]
  },
  {
   "cell_type": "code",
   "execution_count": 11,
   "metadata": {},
   "outputs": [
    {
     "data": {
      "text/plain": [
       "0.79861050140370171"
      ]
     },
     "execution_count": 11,
     "metadata": {},
     "output_type": "execute_result"
    }
   ],
   "source": [
    "entropy(train_data,'left')"
   ]
  },
  {
   "cell_type": "markdown",
   "metadata": {},
   "source": [
    "## Information Gain\n",
    ">- information gain is reduction in the entropy if we use a feature ( attribute ) as an decision boundary.\n",
    ">- It calculates wieghted entropy for the unique values of the attribute and then subtracts it from the current entropy of the system."
   ]
  },
  {
   "cell_type": "code",
   "execution_count": 12,
   "metadata": {},
   "outputs": [],
   "source": [
    "def infogain(data, attr,labelcol):\n",
    "    uniq = get_unique_values(data,attr)\n",
    "    wt_entropy = 0.0\n",
    "    for vals in uniq:\n",
    "        selected_data = data.loc[data[attr] == vals]\n",
    "        wieght = (1.0*len(selected_data))/(len(data) + eps )\n",
    "        wt_entropy += wieght*entropy(selected_data,labelcol)\n",
    "        #print(wt_entropy)\n",
    "    return entropy(data, labelcol) - wt_entropy"
   ]
  },
  {
   "cell_type": "code",
   "execution_count": 13,
   "metadata": {},
   "outputs": [
    {
     "data": {
      "text/plain": [
       "0.0211468866781509"
      ]
     },
     "execution_count": 13,
     "metadata": {},
     "output_type": "execute_result"
    }
   ],
   "source": [
    "infogain(train_data,'salary','left')"
   ]
  },
  {
   "cell_type": "markdown",
   "metadata": {},
   "source": [
    "#### Maximum Gain\n",
    "- Out of a list of attributes, we have to select that which attribute will be selected as a best decision boundary and for that we calculate inforamtion gain of eact feature and select the one whcih has max gain."
   ]
  },
  {
   "cell_type": "code",
   "execution_count": 14,
   "metadata": {},
   "outputs": [],
   "source": [
    "def max_gain(data, remaining_attrs , labelcol):\n",
    "    maxgain = 0.0\n",
    "    splitattr = \"\"\n",
    "    for attr in remaining_attrs:\n",
    "        #print(attr)\n",
    "        gain  = infogain(data,attr,labelcol)\n",
    "        #print(gain)\n",
    "        if  gain >= maxgain:\n",
    "            maxgain = gain\n",
    "            splitattr = attr\n",
    "\n",
    "    if splitattr == \"\" :\n",
    "        return 0,\"negative\"\n",
    "    return maxgain,splitattr"
   ]
  },
  {
   "cell_type": "code",
   "execution_count": 15,
   "metadata": {},
   "outputs": [
    {
     "data": {
      "text/plain": [
       "0.79175167848580907"
      ]
     },
     "execution_count": 15,
     "metadata": {},
     "output_type": "execute_result"
    }
   ],
   "source": [
    "entropy(data,'left')"
   ]
  },
  {
   "cell_type": "code",
   "execution_count": 16,
   "metadata": {},
   "outputs": [
    {
     "data": {
      "text/plain": [
       "(0.38913865949701343, 'satisfaction_level')"
      ]
     },
     "execution_count": 16,
     "metadata": {},
     "output_type": "execute_result"
    }
   ],
   "source": [
    "attr = list(data)\n",
    "attr.remove('left')\n",
    "max_gain(data,attr,'left')"
   ]
  },
  {
   "cell_type": "markdown",
   "metadata": {},
   "source": [
    "### In first part we have to only consider categorical features. \n",
    ">- This function will seprate categorical and continous features."
   ]
  },
  {
   "cell_type": "code",
   "execution_count": 17,
   "metadata": {},
   "outputs": [],
   "source": [
    "def iscontinous(data,attr):\n",
    "    if attr == 'left':\n",
    "        return True\n",
    "    if attr in list(data._get_numeric_data()):\n",
    "        if len(data[attr].unique()) <= 2 :\n",
    "            return False\n",
    "        return True\n",
    "    return False"
   ]
  },
  {
   "cell_type": "code",
   "execution_count": 18,
   "metadata": {},
   "outputs": [
    {
     "name": "stdout",
     "output_type": "stream",
     "text": [
      "['Work_accident', 'promotion_last_5years', 'sales', 'salary']\n",
      "['satisfaction_level', 'last_evaluation', 'number_project', 'average_montly_hours', 'time_spend_company']\n"
     ]
    }
   ],
   "source": [
    "categorical = [ x for x in attr if iscontinous(data,x) == False]\n",
    "continous = [x for x in attr if iscontinous(data,x) == True]\n",
    "print(categorical)\n",
    "print(continous)"
   ]
  },
  {
   "cell_type": "markdown",
   "metadata": {},
   "source": [
    "- This function return the part of the dataframe where 'attr = value' that is column-attr has value-value"
   ]
  },
  {
   "cell_type": "code",
   "execution_count": 19,
   "metadata": {},
   "outputs": [],
   "source": [
    "def getcoldata(data,attr,value):\n",
    "    return data.loc[data[attr] == value]"
   ]
  },
  {
   "cell_type": "code",
   "execution_count": 20,
   "metadata": {},
   "outputs": [
    {
     "data": {
      "text/html": [
       "<div>\n",
       "<style scoped>\n",
       "    .dataframe tbody tr th:only-of-type {\n",
       "        vertical-align: middle;\n",
       "    }\n",
       "\n",
       "    .dataframe tbody tr th {\n",
       "        vertical-align: top;\n",
       "    }\n",
       "\n",
       "    .dataframe thead th {\n",
       "        text-align: right;\n",
       "    }\n",
       "</style>\n",
       "<table border=\"1\" class=\"dataframe\">\n",
       "  <thead>\n",
       "    <tr style=\"text-align: right;\">\n",
       "      <th></th>\n",
       "      <th>satisfaction_level</th>\n",
       "      <th>last_evaluation</th>\n",
       "      <th>number_project</th>\n",
       "      <th>average_montly_hours</th>\n",
       "      <th>time_spend_company</th>\n",
       "      <th>Work_accident</th>\n",
       "      <th>left</th>\n",
       "      <th>promotion_last_5years</th>\n",
       "      <th>sales</th>\n",
       "      <th>salary</th>\n",
       "    </tr>\n",
       "  </thead>\n",
       "  <tbody>\n",
       "    <tr>\n",
       "      <th>0</th>\n",
       "      <td>0.10</td>\n",
       "      <td>0.90</td>\n",
       "      <td>7</td>\n",
       "      <td>286</td>\n",
       "      <td>4</td>\n",
       "      <td>0</td>\n",
       "      <td>1</td>\n",
       "      <td>0</td>\n",
       "      <td>sales</td>\n",
       "      <td>low</td>\n",
       "    </tr>\n",
       "    <tr>\n",
       "      <th>1</th>\n",
       "      <td>0.89</td>\n",
       "      <td>0.93</td>\n",
       "      <td>4</td>\n",
       "      <td>249</td>\n",
       "      <td>3</td>\n",
       "      <td>0</td>\n",
       "      <td>0</td>\n",
       "      <td>0</td>\n",
       "      <td>sales</td>\n",
       "      <td>low</td>\n",
       "    </tr>\n",
       "    <tr>\n",
       "      <th>2</th>\n",
       "      <td>0.38</td>\n",
       "      <td>0.50</td>\n",
       "      <td>2</td>\n",
       "      <td>132</td>\n",
       "      <td>3</td>\n",
       "      <td>0</td>\n",
       "      <td>1</td>\n",
       "      <td>0</td>\n",
       "      <td>accounting</td>\n",
       "      <td>low</td>\n",
       "    </tr>\n",
       "    <tr>\n",
       "      <th>4</th>\n",
       "      <td>0.84</td>\n",
       "      <td>0.84</td>\n",
       "      <td>5</td>\n",
       "      <td>163</td>\n",
       "      <td>3</td>\n",
       "      <td>0</td>\n",
       "      <td>0</td>\n",
       "      <td>0</td>\n",
       "      <td>technical</td>\n",
       "      <td>low</td>\n",
       "    </tr>\n",
       "    <tr>\n",
       "      <th>6</th>\n",
       "      <td>0.55</td>\n",
       "      <td>0.88</td>\n",
       "      <td>4</td>\n",
       "      <td>252</td>\n",
       "      <td>3</td>\n",
       "      <td>0</td>\n",
       "      <td>0</td>\n",
       "      <td>0</td>\n",
       "      <td>management</td>\n",
       "      <td>low</td>\n",
       "    </tr>\n",
       "  </tbody>\n",
       "</table>\n",
       "</div>"
      ],
      "text/plain": [
       "   satisfaction_level  last_evaluation  number_project  average_montly_hours  \\\n",
       "0                0.10             0.90               7                   286   \n",
       "1                0.89             0.93               4                   249   \n",
       "2                0.38             0.50               2                   132   \n",
       "4                0.84             0.84               5                   163   \n",
       "6                0.55             0.88               4                   252   \n",
       "\n",
       "   time_spend_company  Work_accident  left  promotion_last_5years       sales  \\\n",
       "0                   4              0     1                      0       sales   \n",
       "1                   3              0     0                      0       sales   \n",
       "2                   3              0     1                      0  accounting   \n",
       "4                   3              0     0                      0   technical   \n",
       "6                   3              0     0                      0  management   \n",
       "\n",
       "  salary  \n",
       "0    low  \n",
       "1    low  \n",
       "2    low  \n",
       "4    low  \n",
       "6    low  "
      ]
     },
     "execution_count": 20,
     "metadata": {},
     "output_type": "execute_result"
    }
   ],
   "source": [
    "getcoldata(data,'salary','low').head()"
   ]
  },
  {
   "cell_type": "markdown",
   "metadata": {},
   "source": [
    "## Node of decision tree.\n",
    ">- I have build id3 type structure of the tree that is each node will have n-ary children depending upon the number of unique values of the feature selected on that node.\n",
    ">- Each node has a dictionary which will have key ( branch ) as its unique values and for each key there will be a node.\n",
    ">- I have taken following attribute for the node\n",
    ">>- attribute name selceted on that node\n",
    ">>- decision on that node\n",
    ">>- Dictionary of children\n",
    ">>- depth\n",
    ">>- positive count ( number of 1s )\n",
    ">>- negative count ( numbers of 0s )\n"
   ]
  },
  {
   "cell_type": "code",
   "execution_count": 21,
   "metadata": {},
   "outputs": [],
   "source": [
    "class node:\n",
    "    attr = \"\"\n",
    "    decision = -1\n",
    "    children = {}\n",
    "    depth = 0\n",
    "    positive_count = 0\n",
    "    negative_count = 0\n",
    "\n",
    "    \n",
    "    def __init__(self,attr,decision,children,depth,positive_count,negative_count):\n",
    "        self.attr = attr\n",
    "        self.decision = decision\n",
    "        self.children = children\n",
    "        self.depth = depth\n",
    "        self.positive_count = positive_count\n",
    "        self.negative_count = negative_count\n",
    "\n",
    "        "
   ]
  },
  {
   "cell_type": "markdown",
   "metadata": {},
   "source": [
    "## Building tree recursively\n",
    ">- We first select the attribue with maximum gain , make it the root node and recurse the funciton for all its unique value.\n",
    ">- We stop at two conditions \n",
    ">>1. If there are rows only of onr type of output\n",
    ">>2. If all the attributes are used in the path.\n",
    ">>> In that case we make decision on the probablity of outcome till that node."
   ]
  },
  {
   "cell_type": "code",
   "execution_count": 22,
   "metadata": {},
   "outputs": [],
   "source": [
    "def building_tree(data ,attrs , depth ):\n",
    "    #print(attrs)\n",
    "\n",
    "    posnegcount = dict(data['left'].value_counts())\n",
    "    poscount = 0\n",
    "    negcount = 0\n",
    "    \n",
    "    if 1 in posnegcount.keys():\n",
    "        poscount = posnegcount[1]\n",
    "    if 0 in posnegcount.keys():\n",
    "        negcount = posnegcount[0]\n",
    "        \n",
    "    \n",
    "    gain , best_attr  = max_gain(data,attrs,'left')\n",
    "    if(gain == 0):\n",
    "       \n",
    "        ans = 1\n",
    "        if negcount > poscount:\n",
    "            ans = 0\n",
    "            \n",
    "        return node('left',ans,{},depth,poscount,negcount)\n",
    "\n",
    "    if  len(attrs) == 0 or poscount == 0 or negcount == 0:\n",
    "        #print(str(list(data['left'])) + \" list\" +\" gain :\" + str(gain))\n",
    "        ans = 1\n",
    "        if negcount > poscount:\n",
    "            ans = 0\n",
    "            \n",
    "        return node('left',ans,{},depth,poscount,negcount)\n",
    "    else:\n",
    "       \n",
    "        uniqvals = get_unique_values(data,best_attr)\n",
    "        root = node( best_attr , \"\" , {} , depth , poscount , negcount)\n",
    "        for val in uniqvals:\n",
    "            data2 = getcoldata(data,best_attr,val)\n",
    "            newattr = deepcopy(attrs)\n",
    "            newattr.remove(best_attr)\n",
    "            global maxdepth\n",
    "            maxdepth = max(depth,maxdepth)\n",
    "            root.children[val] = building_tree(data2, newattr , depth+1)\n",
    "        \n",
    "        return root\n",
    "            "
   ]
  },
  {
   "cell_type": "code",
   "execution_count": 23,
   "metadata": {},
   "outputs": [
    {
     "name": "stdout",
     "output_type": "stream",
     "text": [
      "Root: salary\n",
      "depth:  3\n"
     ]
    }
   ],
   "source": [
    "maxdepth = 0\n",
    "tree = building_tree(train_data,categorical,0)\n",
    "print(\"Root:\",tree.attr)\n",
    "print(\"depth: \",maxdepth)\n"
   ]
  },
  {
   "cell_type": "markdown",
   "metadata": {},
   "source": [
    "#### For my understanding, i printed preorder of the tree and counted the number of leaf nodes"
   ]
  },
  {
   "cell_type": "code",
   "execution_count": 24,
   "metadata": {},
   "outputs": [],
   "source": [
    "def printtree(root):\n",
    "    if(len(root.children.keys()) == 0):\n",
    "        #print(\"descion \" + str(root.decision)) \n",
    "        global countdes\n",
    "        countdes += 1\n",
    "        return\n",
    "    #print(root.attr)\n",
    "    for x in list(root.children.keys())[::-1]:\n",
    "        #print(x)\n",
    "        printtree(root.children[x])"
   ]
  },
  {
   "cell_type": "code",
   "execution_count": 25,
   "metadata": {},
   "outputs": [
    {
     "data": {
      "text/plain": [
       "92"
      ]
     },
     "execution_count": 25,
     "metadata": {},
     "output_type": "execute_result"
    }
   ],
   "source": [
    "countdes = 0\n",
    "printtree(tree)\n",
    "countdes"
   ]
  },
  {
   "cell_type": "markdown",
   "metadata": {},
   "source": [
    "## Validation Function:\n",
    "> We traverse from root node for each row till the decison node, and then predict the same.\n",
    ">#### In case, if a path is not in the trained tree and it is in test set (that is we cant parse downwars stuck on that node, we give decsion on the basis of probablity of that node."
   ]
  },
  {
   "cell_type": "code",
   "execution_count": 26,
   "metadata": {},
   "outputs": [],
   "source": [
    "def predict(tree, rows):\n",
    "    while(len(tree.children.keys()) != 0):\n",
    "        x = rows[tree.attr]\n",
    "        try:\n",
    "            tree = tree.children[x]\n",
    "        except:\n",
    "            if(tree.positive_count > tree.negative_count):\n",
    "                tree.decision = 1\n",
    "            else:\n",
    "                tree.decision = 0\n",
    "            break\n",
    "    return tree.decision"
   ]
  },
  {
   "cell_type": "code",
   "execution_count": 29,
   "metadata": {},
   "outputs": [],
   "source": [
    "def predict2(tree, valid_data):\n",
    "    rightcount = 0\n",
    "    wrongcount = 0\n",
    "    false_positive = 0\n",
    "    false_negative = 0\n",
    "    true_positive = 0\n",
    "    true_negative = 0\n",
    "    origin = deepcopy(tree)\n",
    "    for index,rows in valid_data.iterrows():\n",
    "        tree = origin\n",
    "        decision = predict(tree,rows)\n",
    "        #print(rows['left'],tree.decision )\n",
    "        if(decision == rows['left']):\n",
    "            rightcount+=1\n",
    "            if(rows['left'] == 0):\n",
    "                true_negative += 1\n",
    "            if(rows['left'] == 1):\n",
    "                true_positive += 1\n",
    "        else:\n",
    "            if(rows['left'] == 0):\n",
    "                false_positive += 1\n",
    "            if(rows['left'] == 1):\n",
    "                false_negative += 1\n",
    "            wrongcount+=1\n",
    "    print(\"True negative : \" , true_negative)\n",
    "    print(\"True positive : \",true_positive)\n",
    "    print(\"False Positive :\",false_positive)\n",
    "    print(\"False negative :\",false_negative)\n",
    "    print(\"Total right predicted: \", rightcount)\n",
    "    print(\"Total wrong predicted: \", wrongcount)\n",
    "    print(\"Accuracy: \" , rightcount/(rightcount+wrongcount))\n",
    "    print(\"Precision: \",true_positive/(true_positive+false_positive))\n",
    "    print(\"Recall: \",true_positive/(true_positive + false_negative))\n",
    "    print(\"F1 Score: \",(2.0)/((1/(true_positive/(true_positive + false_positive))) + (1/(true_positive/(true_positive+false_negative)))))"
   ]
  },
  {
   "cell_type": "code",
   "execution_count": 30,
   "metadata": {},
   "outputs": [
    {
     "name": "stdout",
     "output_type": "stream",
     "text": [
      "True negative :  1750\n",
      "True positive :  2\n",
      "False Positive : 0\n",
      "False negative : 496\n",
      "Total right predicted:  1752\n",
      "Total wrong predicted:  496\n",
      "Accuracy:  0.7793594306049823\n",
      "Precision:  1.0\n",
      "Recall:  0.004016064257028112\n",
      "F1 Score:  0.007999999999999998\n"
     ]
    }
   ],
   "source": [
    "predict2(tree,test_data)"
   ]
  }
 ],
 "metadata": {
  "kernelspec": {
   "display_name": "Python 3",
   "language": "python",
   "name": "python3"
  },
  "language_info": {
   "codemirror_mode": {
    "name": "ipython",
    "version": 3
   },
   "file_extension": ".py",
   "mimetype": "text/x-python",
   "name": "python",
   "nbconvert_exporter": "python",
   "pygments_lexer": "ipython3",
   "version": "3.5.2"
  }
 },
 "nbformat": 4,
 "nbformat_minor": 2
}
