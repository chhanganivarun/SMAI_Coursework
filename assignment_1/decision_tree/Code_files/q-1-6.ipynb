{
 "cells": [
  {
   "cell_type": "markdown",
   "metadata": {},
   "source": [
    "## Funtion to handle missing values in test data\n",
    ">- I implemented what was taught in the tutorial, what i did is that if a missing value is found in test row, it makes a recursive call on each of it's children and all the children returns the majority of ones or zeroes they have traversing throughout the leaf node.\n",
    "\n",
    ">- if there are other features that are present in that row, the recursion will follow that part only \n",
    "\n",
    ">- Also there many other methods like, you can ignore that missing value and return the decision on that node only by the probablity.\n",
    "\n",
    ">- Also there was increase of 0.5 % in accuracy by implementing the recursive way.\n",
    "\n",
    ">- Also, we can fill all missing values with -1 that will tell oue model that this value is missing"
   ]
  }
 ],
 "metadata": {
  "kernelspec": {
   "display_name": "Python 3",
   "language": "python",
   "name": "python3"
  },
  "language_info": {
   "codemirror_mode": {
    "name": "ipython",
    "version": 3
   },
   "file_extension": ".py",
   "mimetype": "text/x-python",
   "name": "python",
   "nbconvert_exporter": "python",
   "pygments_lexer": "ipython3",
   "version": "3.5.2"
  }
 },
 "nbformat": 4,
 "nbformat_minor": 2
}
