{
 "cells": [
  {
   "cell_type": "markdown",
   "metadata": {},
   "source": [
    "## Part -1"
   ]
  },
  {
   "cell_type": "markdown",
   "metadata": {
    "heading_collapsed": true
   },
   "source": [
    "### importing modules"
   ]
  },
  {
   "cell_type": "code",
   "execution_count": 7,
   "metadata": {
    "hidden": true
   },
   "outputs": [],
   "source": [
    "import pandas as pd\n",
    "import random\n",
    "import numpy as  np\n",
    "import math\n",
    "from copy import deepcopy\n",
    "import matplotlib.pyplot as plt\n",
    "import operator\n",
    "from copy import deepcopy\n",
    "from collections import Counter\n",
    "from keras.layers import Input, Dense\n",
    "from keras.models import Model\n",
    "from keras.models import Sequential\n",
    "from keras.layers import Dense, Activation\n",
    "from sklearn import mixture\n",
    "from sklearn.cluster import AgglomerativeClustering"
   ]
  },
  {
   "cell_type": "markdown",
   "metadata": {
    "heading_collapsed": true
   },
   "source": [
    "### dropping output column"
   ]
  },
  {
   "cell_type": "code",
   "execution_count": 8,
   "metadata": {
    "hidden": true
   },
   "outputs": [],
   "source": [
    "original_data = pd.read_csv('data.csv')\n",
    "total_y_values = original_data['xAttack']\n",
    "original_data = original_data.drop('xAttack',axis = 1)"
   ]
  },
  {
   "cell_type": "markdown",
   "metadata": {
    "heading_collapsed": true
   },
   "source": [
    "### Normalizing data"
   ]
  },
  {
   "cell_type": "code",
   "execution_count": 9,
   "metadata": {
    "hidden": true
   },
   "outputs": [
    {
     "name": "stdout",
     "output_type": "stream",
     "text": [
      "   duration   service  src_bytes  dst_bytes       hot  num_failed_logins  \\\n",
      "0 -0.114536 -0.425928  -0.010012  -0.034506 -0.090954          -0.026321   \n",
      "1 -0.114536  0.362284  -0.010092  -0.039818 -0.090954          -0.026321   \n",
      "2 -0.114536 -0.425928  -0.010023   0.077314 -0.090954          -0.026321   \n",
      "3 -0.114536 -0.729086  -0.009539  -0.039818 -0.090954          -0.026321   \n",
      "4 -0.114536  0.301652  -0.010092  -0.039818 -0.090954          -0.026321   \n",
      "\n",
      "   num_compromised  num_root  num_file_creations  num_access_files  ...  \\\n",
      "0        -0.021938 -0.021801           -0.027915         -0.044086  ...   \n",
      "1        -0.021938 -0.021801           -0.027915         -0.044086  ...   \n",
      "2        -0.021938 -0.021801           -0.027915         -0.044086  ...   \n",
      "3        -0.021938 -0.021801           -0.027915         -0.044086  ...   \n",
      "4        -0.021938 -0.021801           -0.027915         -0.044086  ...   \n",
      "\n",
      "   dst_host_count  dst_host_srv_count  dst_host_same_srv_rate  \\\n",
      "0       -1.690179            1.262846                1.067550   \n",
      "1        0.732932           -1.032492               -1.159522   \n",
      "2       -1.447868            1.262846                1.067550   \n",
      "3       -0.488720           -0.761389               -0.647295   \n",
      "4        0.732932           -0.815609               -0.936814   \n",
      "\n",
      "   dst_host_diff_srv_rate  dst_host_same_src_port_rate  \\\n",
      "0               -0.441075                    -0.253420   \n",
      "1               -0.069608                    -0.479712   \n",
      "2               -0.441075                    -0.382730   \n",
      "3               -0.228808                     0.263818   \n",
      "4               -0.175741                    -0.479712   \n",
      "\n",
      "   dst_host_srv_diff_host_rate  dst_host_serror_rate  \\\n",
      "0                     0.071029             -0.639487   \n",
      "1                    -0.289000             -0.639487   \n",
      "2                     0.251043             -0.639487   \n",
      "3                    -0.289000             -0.594495   \n",
      "4                    -0.289000              1.610076   \n",
      "\n",
      "   dst_host_srv_serror_rate  dst_host_rerror_rate  dst_host_srv_rerror_rate  \n",
      "0                 -0.535321             -0.386069                 -0.374975  \n",
      "1                 -0.625133              2.878183                  2.771083  \n",
      "2                 -0.625133             -0.386069                 -0.374975  \n",
      "3                 -0.625133             -0.386069                 -0.374975  \n",
      "4                  1.620172             -0.386069                 -0.374975  \n",
      "\n",
      "[5 rows x 29 columns]\n"
     ]
    }
   ],
   "source": [
    "data = pd.read_csv('data.csv')\n",
    "total_y_values = data['xAttack']\n",
    "data = data.drop('xAttack',axis = 1)\n",
    "\n",
    "data=data.astype('float128')\n",
    "data_mean = deepcopy(data.mean())\n",
    "data_std = deepcopy(data.std())\n",
    "data =(data-data_mean)*np.float128(1.0)/data_std\n",
    "print(data.head())"
   ]
  },
  {
   "cell_type": "code",
   "execution_count": 10,
   "metadata": {
    "hidden": true
   },
   "outputs": [
    {
     "data": {
      "text/html": [
       "<div>\n",
       "<style scoped>\n",
       "    .dataframe tbody tr th:only-of-type {\n",
       "        vertical-align: middle;\n",
       "    }\n",
       "\n",
       "    .dataframe tbody tr th {\n",
       "        vertical-align: top;\n",
       "    }\n",
       "\n",
       "    .dataframe thead th {\n",
       "        text-align: right;\n",
       "    }\n",
       "</style>\n",
       "<table border=\"1\" class=\"dataframe\">\n",
       "  <thead>\n",
       "    <tr style=\"text-align: right;\">\n",
       "      <th></th>\n",
       "      <th>duration</th>\n",
       "      <th>service</th>\n",
       "      <th>src_bytes</th>\n",
       "      <th>dst_bytes</th>\n",
       "      <th>hot</th>\n",
       "      <th>num_failed_logins</th>\n",
       "      <th>num_compromised</th>\n",
       "      <th>num_root</th>\n",
       "      <th>num_file_creations</th>\n",
       "      <th>num_access_files</th>\n",
       "      <th>...</th>\n",
       "      <th>dst_host_count</th>\n",
       "      <th>dst_host_srv_count</th>\n",
       "      <th>dst_host_same_srv_rate</th>\n",
       "      <th>dst_host_diff_srv_rate</th>\n",
       "      <th>dst_host_same_src_port_rate</th>\n",
       "      <th>dst_host_srv_diff_host_rate</th>\n",
       "      <th>dst_host_serror_rate</th>\n",
       "      <th>dst_host_srv_serror_rate</th>\n",
       "      <th>dst_host_rerror_rate</th>\n",
       "      <th>dst_host_srv_rerror_rate</th>\n",
       "    </tr>\n",
       "  </thead>\n",
       "  <tbody>\n",
       "    <tr>\n",
       "      <th>0</th>\n",
       "      <td>-0.114536</td>\n",
       "      <td>-0.425928</td>\n",
       "      <td>-0.010012</td>\n",
       "      <td>-0.034506</td>\n",
       "      <td>-0.090954</td>\n",
       "      <td>-0.026321</td>\n",
       "      <td>-0.021938</td>\n",
       "      <td>-0.021801</td>\n",
       "      <td>-0.027915</td>\n",
       "      <td>-0.044086</td>\n",
       "      <td>...</td>\n",
       "      <td>-1.690179</td>\n",
       "      <td>1.262846</td>\n",
       "      <td>1.06755</td>\n",
       "      <td>-0.441075</td>\n",
       "      <td>-0.25342</td>\n",
       "      <td>0.071029</td>\n",
       "      <td>-0.639487</td>\n",
       "      <td>-0.535321</td>\n",
       "      <td>-0.386069</td>\n",
       "      <td>-0.374975</td>\n",
       "    </tr>\n",
       "  </tbody>\n",
       "</table>\n",
       "<p>1 rows × 29 columns</p>\n",
       "</div>"
      ],
      "text/plain": [
       "   duration   service  src_bytes  dst_bytes       hot  num_failed_logins  \\\n",
       "0 -0.114536 -0.425928  -0.010012  -0.034506 -0.090954          -0.026321   \n",
       "\n",
       "   num_compromised  num_root  num_file_creations  num_access_files  ...  \\\n",
       "0        -0.021938 -0.021801           -0.027915         -0.044086  ...   \n",
       "\n",
       "   dst_host_count  dst_host_srv_count  dst_host_same_srv_rate  \\\n",
       "0       -1.690179            1.262846                 1.06755   \n",
       "\n",
       "   dst_host_diff_srv_rate  dst_host_same_src_port_rate  \\\n",
       "0               -0.441075                     -0.25342   \n",
       "\n",
       "   dst_host_srv_diff_host_rate  dst_host_serror_rate  \\\n",
       "0                     0.071029             -0.639487   \n",
       "\n",
       "   dst_host_srv_serror_rate  dst_host_rerror_rate  dst_host_srv_rerror_rate  \n",
       "0                 -0.535321             -0.386069                 -0.374975  \n",
       "\n",
       "[1 rows x 29 columns]"
      ]
     },
     "execution_count": 10,
     "metadata": {},
     "output_type": "execute_result"
    }
   ],
   "source": [
    "data.iloc[:1,:]"
   ]
  },
  {
   "cell_type": "markdown",
   "metadata": {
    "heading_collapsed": true
   },
   "source": [
    "### Neural Net code"
   ]
  },
  {
   "cell_type": "code",
   "execution_count": 11,
   "metadata": {
    "code_folding": [],
    "hidden": true
   },
   "outputs": [],
   "source": [
    "def sigmoid(z):\n",
    "    return (1.0 / (1.0 + np.exp(-z)))\n",
    "\n",
    "\n",
    "# In[11]:\n",
    "\n",
    "\n",
    "def sigmoid_der(z):\n",
    "    return np.multiply(sigmoid(z), (1.0 - sigmoid(z)))\n",
    "\n",
    "\n",
    "# In[12]:\n",
    "\n",
    "\n",
    "def relu(z):\n",
    "    return np.maximum(z, 0)\n",
    "\n",
    "\n",
    "# In[13]:\n",
    "\n",
    "\n",
    "def relu_der(x):\n",
    "    x[x <= 0] = 0\n",
    "    x[x > 0] = 1\n",
    "    return x\n",
    "\n",
    "\n",
    "# In[14]:\n",
    "\n",
    "\n",
    "def tanh(x):\n",
    "    return np.tanh(x)\n",
    "\n",
    "\n",
    "# In[15]:\n",
    "\n",
    "\n",
    "def tanh_der(x):\n",
    "    return 1.0 - (np.power(tanh(x), 2))\n",
    "\n",
    "\n",
    "# In[16]:\n",
    "\n",
    "\n",
    "def softmax(Z):\n",
    "    expA = np.exp(Z - Z.max(1).reshape(Z.shape[0], 1))\n",
    "    esum = expA / np.sum(expA, 1).reshape(Z.shape[0], 1)\n",
    "    return esum\n",
    "\n",
    "def linear(z):\n",
    "    return z\n",
    "\n",
    "def linear_der(z):\n",
    "    return 1\n",
    "\n",
    "\n",
    "# In[17]:\n",
    "\n",
    "\n",
    "def softmax_der(x):\n",
    "    y = deepcopy(x)\n",
    "    edeno = np.power(np.sum(np.exp(x)), 2)\n",
    "    enumo = np.sum(np.exp(x))\n",
    "    for ele in y:\n",
    "        for k in range(len(ele)):\n",
    "            tempy = y[0][k]\n",
    "            y[0][k] = (np.exp(tempy) * (enumo - np.exp(tempy)) / edeno)\n",
    "    return y\n",
    "\n",
    "\n",
    "# ### Layer class\n",
    "# >- layer class will hold all the information regarding each layer\n",
    "# >- each layer will have many attributes such as\n",
    "# >>- number of nodes in each layer\n",
    "# >>- activation function\n",
    "# >>- derivatives regarding gradient decent\n",
    "\n",
    "# In[18]:\n",
    "\n",
    "\n",
    "class layer:\n",
    "    def __init__(self, layerno, num_of_nodes, activation_function, isinput,\n",
    "                 isoutput, ishidden):\n",
    "        self.layerno = layerno\n",
    "        self.num_of_nodes = num_of_nodes\n",
    "        self.activation_function = activation_function\n",
    "        self.is_input_layer = isinput\n",
    "        self.is_ouput_layer = isoutput\n",
    "        self.is_hidden_layer = ishidden\n",
    "        self.input = None\n",
    "        self.output = None\n",
    "        self.error_cost = np.float128(1.0)\n",
    "        self.derivative_op = np.float128(1.0)\n",
    "        self.derivative_act = np.float128(1.0)\n",
    "        self.derivative_wt = np.float128(1.0)\n",
    "        self.k_product = np.float128(1.0)\n",
    "\n",
    "\n",
    "# ### Function that generate random weights of shape of ( layer n-1 , layer n )\n",
    "\n",
    "# In[19]:\n",
    "\n",
    "\n",
    "def getrandom_wts(numberofnodes_prev, numberofnodes_next):\n",
    "    return (0.01 * (np.random.randn(numberofnodes_prev, numberofnodes_next)))\n",
    "\n",
    "\n",
    "# ### Common activation fucntion that will be called\n",
    "\n",
    "# In[20]:\n",
    "\n",
    "\n",
    "def activation(z, function_name):\n",
    "    if function_name == 'sigmoid':\n",
    "        return sigmoid(z)\n",
    "    if function_name == 'tanh':\n",
    "        return tanh(z)\n",
    "    if function_name == 'relu':\n",
    "        return relu(z)\n",
    "    if function_name == \"softmax\":\n",
    "        return softmax(z)\n",
    "    if function_name == \"linear\":\n",
    "        return linear(z)\n",
    "\n",
    "\n",
    "# In[21]:\n",
    "\n",
    "\n",
    "def activation_der(z, function_name):\n",
    "    if function_name == 'sigmoid':\n",
    "        return sigmoid_der(z)\n",
    "    if function_name == 'tanh':\n",
    "        return tanh_der(z)\n",
    "    if function_name == 'relu':\n",
    "        return relu_der(z)\n",
    "    if function_name == \"softmax\":\n",
    "        return softmax_der(z)\n",
    "    if function_name == \"linear\":\n",
    "        return linear_der(z)\n",
    "\n",
    "\n",
    "# ### Class neural net\n",
    "# >- It holds the structure of the neural net\n",
    "# >- It has following methods\n",
    "# >- 1. Initializer :\n",
    "# >>- it intializes the hyper parameters like learning rate, number of epochs and batch size.\n",
    "# >- 2. Add layer:\n",
    "# >>- It adds a layer to neural net, we can define activation function, number of nodes in each layer.\n",
    "# >- 3. Forward propogation\n",
    "# >- 4. Backward propogation\n",
    "# >- 5. Predict\n",
    "# >- 6. Fit\n",
    "# >>- Train the neural network using forward and back ward propogation\n",
    "\n",
    "# In[123]:\n",
    "\n",
    "\n",
    "class neural_net:\n",
    "    layerno = 0\n",
    "\n",
    "    def __init__(self, numboflayer, learning_rate, epochs, batch_size):\n",
    "        self.numboflayer = numboflayer\n",
    "        self.layers = []\n",
    "        self.weights = []\n",
    "        self.bias = []\n",
    "        self.learning_rate = learning_rate\n",
    "        self.epochs = epochs\n",
    "        self.weight_matrix = None\n",
    "        self.batch_size = batch_size\n",
    "        self.error_each_epoch = []\n",
    "        self.acc_each_epoch = []\n",
    "        neural_net.layerno = 0\n",
    "        self.compressed_output = None\n",
    "        self.bottleneck_layer_no = (numboflayer - 1)//2\n",
    "\n",
    "    def predict(self, y, actual_y):\n",
    "        rcount = 0\n",
    "        wcount = 0\n",
    "        for ind, i in enumerate(y):\n",
    "            self.forward_propogation(np.array(i).reshape(1, len(i)))\n",
    "            list_of_op = list(np.ndarray.flatten(self.layers[-1].output))\n",
    "            index = list_of_op.index(max(list_of_op))\n",
    "            if (actual_y[ind][index] == 1):\n",
    "                rcount += 1\n",
    "            else:\n",
    "                wcount += 1\n",
    "        print(\"right count: \", rcount)\n",
    "        print(\"wrong count: \", wcount)\n",
    "        print(\"Accuracy\", rcount / (rcount + wcount))\n",
    "        self.acc_each_epoch.append(rcount / (rcount + wcount))\n",
    "        print()\n",
    "\n",
    "    def predict_2(self, y):\n",
    "        rcount = 0\n",
    "        wcount = 0\n",
    "        f = open(\"2018201004_prediction.csv\", \"w+\")\n",
    "        for ind, i in enumerate(y):\n",
    "            self.forward_propogation(np.array(i).reshape(1, len(i)))\n",
    "            list_of_op = list(np.ndarray.flatten(self.layers[-1].output))\n",
    "            index = list_of_op.index(max(list_of_op))\n",
    "            f.write(str(int(index)))\n",
    "            if ind != (len(y) - 1):\n",
    "                f.write(\"\\n\")\n",
    "\n",
    "    def test_data(self, test_inp, test_op):\n",
    "        self.test_inp = test_inp\n",
    "        self.test_op = test_op\n",
    "\n",
    "    def fit(self, x, y):\n",
    "        for epoch in range(self.epochs):\n",
    "            self.forward_propogation(x)\n",
    "            self.backward_propogation(y)\n",
    "            if epoch%25 == 0:\n",
    "                print(\"Epoch\",epoch)\n",
    "                print(\"error\",self.layers[-1].error)\n",
    "\n",
    "#             if(error_batch/len(x) < 15 and not flag_of_learningrate):\n",
    "#                 self.learning_rate = self.learning_rate/10\n",
    "#                 flag_of_learningrate = 1\n",
    "#            print(self.layers[-1].output)\n",
    "#            self.predict(self.test_inp, self.test_op)\n",
    "#             for layer in self.layers:\n",
    "#                 if layer.layerno != 0:\n",
    "#                     print(\"weights\",self.weights[layer.layerno-1])\n",
    "#                 print(\"layerno\",layer.layerno)\n",
    "#                 print(\"input\",layer.input)\n",
    "#                 print(\"output\",layer.output)\n",
    "#                 print(\"serivative1\",layer.derivative_op)\n",
    "#                 print(\"derivative2\",layer.derivative_act)\n",
    "#                 print(\"kproduct\",layer.k_product)\n",
    "#                 print(\"derivative3\",layer.derivative_wt)\n",
    "\n",
    "    def add_layer(self, num_of_nodes, activation_function):\n",
    "        if neural_net.layerno == 0:\n",
    "            temp_layer = layer(neural_net.layerno, num_of_nodes,\n",
    "                               activation_function, True, False, False)\n",
    "        elif neural_net.layerno == self.numboflayer - 1:\n",
    "            temp_layer = layer(neural_net.layerno, num_of_nodes,\n",
    "                               activation_function, False, True, False)\n",
    "        else:\n",
    "            temp_layer = layer(neural_net.layerno, num_of_nodes,\n",
    "                               activation_function, False, False, True)\n",
    "\n",
    "        neural_net.layerno += 1\n",
    "\n",
    "        self.layers.append(temp_layer)\n",
    "\n",
    "        if (temp_layer.is_input_layer == False):\n",
    "            #self.weights.append(random_wts[temp_layer.layerno-1])\n",
    "            #print(temp_layer.layerno)\n",
    "            self.weights.append(\n",
    "                getrandom_wts(self.layers[temp_layer.layerno - 1].num_of_nodes,\n",
    "                              temp_layer.num_of_nodes))\n",
    "            self.bias.append(np.random.randn(1, temp_layer.num_of_nodes))\n",
    "\n",
    "        #self.weights = np.array(self.weights)\n",
    "    def get_compressed_datamatrix(self,x):\n",
    "        output_rows = []\n",
    "        for rowindex in range(len(x)):\n",
    "            self.forward_propogation(\n",
    "                    np.array(x[rowindex]).reshape(1, len(x[rowindex])))\n",
    "            compressed_row = np.ndarray.flatten(self.layers[self.bottleneck_layer_no].output)\n",
    "            output_rows.append(compressed_row)\n",
    "        return np.stack(output_rows)\n",
    "\n",
    "    def forward_propogation(self, x):\n",
    "\n",
    "        for layer in self.layers:\n",
    "            # print(layer.layerno)\n",
    "            if layer.layerno == 0:\n",
    "                layer.input = x\n",
    "                if layer.activation_function:\n",
    "                    layer.output = activation(layer.input,\n",
    "                                              layer.activation_function)\n",
    "                else:\n",
    "                    layer.output = x\n",
    "            else:\n",
    "                layer.input = np.dot(\n",
    "                    self.layers[layer.layerno - 1].output, self.weights[\n",
    "                        layer.layerno - 1]) + self.bias[layer.layerno - 1]\n",
    "                layer.output = activation(layer.input,\n",
    "                                          layer.activation_function)\n",
    "#                 if (layer.layerno + 1) < len(self.layers):\n",
    "#                     self.layers[layer.layerno + 1].input = layer.output\n",
    "# print(layer.input)\n",
    "#  print(layer.output)\n",
    "\n",
    "    def error(self, predicted, actual):\n",
    "        return np.mean(np.power((np.array(predicted) - np.array(actual)), 2))\n",
    "\n",
    "    def error_der(self, predicted, actual):\n",
    "        return 2 * (predicted - actual)\n",
    "\n",
    "    def error2(self, predicted, actual):\n",
    "        epsilon = 1e-12\n",
    "        predictions = np.clip(predicted, epsilon, 1. - epsilon)\n",
    "        N = predictions.shape[1]\n",
    "        ce = -np.sum(actual * np.log(predictions + 1e-9)) / N\n",
    "        return ce\n",
    "\n",
    "    def error2_der(self, predicted, actual):\n",
    "        return -1 * ((actual * (1 / predicted)) + (1 - actual) * (\n",
    "            (1 / (1 - predicted))))\n",
    "\n",
    "    def weights_behind(self, layer_):\n",
    "        return self.weights[layer_.layerno - 1]\n",
    "\n",
    "    def weights_ahead(self, layer_):\n",
    "        return self.weights[layer_.layerno]\n",
    "\n",
    "    def layer_behind(self, layer_):\n",
    "        return self.layers[layer_.layerno - 1]\n",
    "\n",
    "    def layer_ahead(self, layer_):\n",
    "        return self.layers[layer_.layerno + 1]\n",
    "\n",
    "    def backward_propogation(self, y):\n",
    "\n",
    "        stored = np.float128(1.0)\n",
    "\n",
    "        for curr_layer in self.layers[::-1]:\n",
    "            if curr_layer.layerno == 0:\n",
    "                continue\n",
    "            if curr_layer.layerno == len(self.layers) - 1:\n",
    "\n",
    "                stored = np.dot(self.error(curr_layer.output, y), stored)\n",
    "                curr_layer.error = stored\n",
    "                # print(\"error\",curr_layer.error)\n",
    "\n",
    "                curr_layer.derivative_op = self.error_der(curr_layer.output, y)\n",
    "                #  print(curr_layer.derivative_op,curr_layer.derivative_op.shape)\n",
    "\n",
    "                curr_layer.derivative_act = activation_der(\n",
    "                    curr_layer.input, curr_layer.activation_function)\n",
    "                #  print(curr_layer.derivative_act,curr_layer.derivative_act.shape)\n",
    "\n",
    "                curr_layer.k_product = curr_layer.derivative_op * curr_layer.derivative_act\n",
    "                # print(curr_layer.k_product,curr_layer.k_product.shape)\n",
    "\n",
    "                #curr_layer.k_product = curr_layer.k_product.reshape(1,curr_layer.derivative_act.shape[0])\n",
    "                curr_layer.derivative_wt = np.dot(\n",
    "                    (self.layers[curr_layer.layerno - 1].output).T,\n",
    "                    curr_layer.k_product)\n",
    "\n",
    "                #self.weights[curr_layer.layerno - 1] -= self.learning_rate * curr_layer.derivative_wt\n",
    "\n",
    "            else:\n",
    "                #   print(curr_layer.layerno)\n",
    "                curr_layer.error = None\n",
    "                curr_layer.derivative_act = activation_der(\n",
    "                    curr_layer.input, curr_layer.activation_function)\n",
    "                curr_layer.derivative_op = np.dot(\n",
    "                    self.layers[curr_layer.layerno + 1].k_product,\n",
    "                    (self.weights_ahead(curr_layer)).T)\n",
    "                curr_layer.k_product = curr_layer.derivative_op * curr_layer.derivative_act\n",
    "                #if curr_layer.layerno != 1:\n",
    "                curr_layer.derivative_wt = np.dot(\n",
    "                    (self.layer_behind(curr_layer).output).T,\n",
    "                    curr_layer.k_product)\n",
    "\n",
    "\n",
    "#                 else:\n",
    "#                     curr_layer.derivative_wt = np.dot( (self.layer_behind(curr_layer).input).T , curr_layer.k_product)\n",
    "\n",
    "        for w_no, weight in enumerate(self.weights):\n",
    "            self.weights[w_no] -= (self.learning_rate/len(y)) * (\n",
    "                self.layers[w_no + 1].derivative_wt)\n",
    "            self.bias[w_no] -= (self.learning_rate/len(y)) * (\n",
    "                np.sum(self.layers[w_no + 1].k_product , axis = 0))"
   ]
  },
  {
   "cell_type": "markdown",
   "metadata": {
    "heading_collapsed": true
   },
   "source": [
    "### A. Linear 3 layer autoencoder"
   ]
  },
  {
   "cell_type": "code",
   "execution_count": 12,
   "metadata": {
    "hidden": true
   },
   "outputs": [
    {
     "name": "stdout",
     "output_type": "stream",
     "text": [
      "Epoch 0\n",
      "error 1.9857316605131143265\n",
      "Epoch 25\n",
      "error 0.8021356765838160936\n",
      "Epoch 50\n",
      "error 0.5748553229405917558\n",
      "Epoch 75\n",
      "error 0.50587611261369945764\n",
      "Epoch 100\n",
      "error 0.42652969260406360774\n",
      "Epoch 125\n",
      "error 0.37221645012901084866\n",
      "Epoch 150\n",
      "error 0.31542410731294543704\n",
      "Epoch 175\n",
      "error 0.2665095907049613667\n",
      "Epoch 200\n",
      "error 0.22085994134178593012\n",
      "Epoch 225\n",
      "error 0.18127008011836367259\n",
      "Epoch 250\n",
      "error 0.15305991944976561187\n",
      "Epoch 275\n",
      "error 0.13473795510380176672\n",
      "Epoch 300\n",
      "error 0.12264765982890165261\n",
      "Epoch 325\n",
      "error 0.115176873771683020246\n",
      "Epoch 350\n",
      "error 0.11114064384448311402\n",
      "Epoch 375\n",
      "error 0.109116480975817029355\n",
      "Epoch 400\n",
      "error 0.108037465050605764126\n",
      "Epoch 425\n",
      "error 0.10734546333894614087\n",
      "Epoch 450\n",
      "error 0.106809839874553505475\n",
      "Epoch 475\n",
      "error 0.10634657536211736206\n",
      "Epoch 500\n",
      "error 0.10592524297933476902\n",
      "Epoch 525\n",
      "error 0.10553327985097851643\n",
      "Epoch 550\n",
      "error 0.10516413526125378224\n",
      "Epoch 575\n",
      "error 0.104813561740091180406\n",
      "Epoch 600\n",
      "error 0.1044784320739657585\n",
      "Epoch 625\n",
      "error 0.104156314318721436875\n",
      "Epoch 650\n",
      "error 0.10384527939831217165\n",
      "Epoch 675\n",
      "error 0.10354378780939721411\n"
     ]
    },
    {
     "data": {
      "text/plain": [
       "(24998, 14)"
      ]
     },
     "execution_count": 12,
     "metadata": {},
     "output_type": "execute_result"
    }
   ],
   "source": [
    "net = neural_net(3,0.01,700,100)\n",
    "net.add_layer(29,\"linear\")\n",
    "net.add_layer(14,\"linear\")\n",
    "net.add_layer(29,\"linear\")\n",
    "\n",
    "data_np_version = np.array(data)\n",
    "\n",
    "net.fit(data_np_version,data_np_version)\n",
    "\n",
    "compressed_datamatrix_1 = net.layers[net.bottleneck_layer_no].output\n",
    "\n",
    "compressed_datamatrix_1.shape"
   ]
  },
  {
   "cell_type": "code",
   "execution_count": 89,
   "metadata": {
    "hidden": true
   },
   "outputs": [
    {
     "name": "stdout",
     "output_type": "stream",
     "text": [
      "\n",
      "Purity of k means: \n",
      "\n",
      "cluster :  0 , Maximum label present :  probe , No of times:  1021 , Purity : 0.7190140845070423\n",
      "cluster :  1 , Maximum label present :  dos , No of times:  6943 , Purity : 0.8169196376044241\n",
      "cluster :  2 , Maximum label present :  normal , No of times:  1381 , Purity : 0.7891428571428571\n",
      "cluster :  3 , Maximum label present :  normal , No of times:  102 , Purity : 0.9807692307692307\n",
      "cluster :  4 , Maximum label present :  normal , No of times:  10067 , Purity : 0.7612098298676748\n",
      "Avg purity :  0.8134111279782459\n"
     ]
    }
   ],
   "source": [
    "output_label = kmeans_final(5,compressed_datamatrix_1)\n",
    "print()\n",
    "print(\"Purity of k means: \")\n",
    "print()\n",
    "p1 = calculate_purity(output_label)"
   ]
  },
  {
   "cell_type": "code",
   "execution_count": 93,
   "metadata": {
    "hidden": true
   },
   "outputs": [
    {
     "name": "stdout",
     "output_type": "stream",
     "text": [
      "Counter({0: 7278, 4: 6439, 1: 6279, 3: 4994, 2: 8})\n",
      "\n",
      "Purity of GMM : \n",
      "\n",
      "cluster :  0 , Maximum label present :  normal , No of times:  6558 , Purity : 0.9010717230008244\n",
      "cluster :  1 , Maximum label present :  dos , No of times:  6279 , Purity : 1.0\n",
      "cluster :  2 , Maximum label present :  normal , No of times:  8 , Purity : 1.0\n",
      "cluster :  3 , Maximum label present :  normal , No of times:  1902 , Purity : 0.38085702843412095\n",
      "cluster :  4 , Maximum label present :  normal , No of times:  4896 , Purity : 0.7603665165398353\n",
      "Avg purity :  0.8084590535949563\n"
     ]
    }
   ],
   "source": [
    "output_label = gmm_implementation(compressed_datamatrix_1)\n",
    "print()\n",
    "print(\"Purity of GMM : \")\n",
    "print()\n",
    "p2 = calculate_purity(output_label)"
   ]
  },
  {
   "cell_type": "code",
   "execution_count": 94,
   "metadata": {
    "hidden": true
   },
   "outputs": [
    {
     "name": "stdout",
     "output_type": "stream",
     "text": [
      "Counter({0: 24989, 2: 6, 1: 1, 3: 1, 4: 1})\n",
      "\n",
      "Purity of hiearichal clustering: \n",
      "\n",
      "cluster :  0 , Maximum label present :  normal , No of times:  13360 , Purity : 0.5346352395053824\n",
      "cluster :  1 , Maximum label present :  probe , No of times:  1 , Purity : 1.0\n",
      "cluster :  2 , Maximum label present :  r2l , No of times:  4 , Purity : 0.6666666666666666\n",
      "cluster :  3 , Maximum label present :  normal , No of times:  1 , Purity : 1.0\n",
      "cluster :  4 , Maximum label present :  normal , No of times:  1 , Purity : 1.0\n",
      "Avg purity :  0.8402603812344097\n"
     ]
    }
   ],
   "source": [
    "output_label = hmm_implementation(compressed_datamatrix_1)\n",
    "print()\n",
    "print(\"Purity of hiearichal clustering: \")\n",
    "print()\n",
    "p3 = calculate_purity(output_label)"
   ]
  },
  {
   "cell_type": "code",
   "execution_count": 95,
   "metadata": {
    "hidden": true
   },
   "outputs": [
    {
     "data": {
      "image/png": "[encoded data removed]",
      "text/plain": [
       "<Figure size 720x864 with 1 Axes>"
      ]
     },
     "metadata": {},
     "output_type": "display_data"
    }
   ],
   "source": [
    "pie_chart(p1,p2,p3)"
   ]
  },
  {
   "cell_type": "markdown",
   "metadata": {
    "heading_collapsed": true
   },
   "source": [
    "### Non - linear 3-layer auto encoder"
   ]
  },
  {
   "cell_type": "code",
   "execution_count": 96,
   "metadata": {
    "hidden": true,
    "scrolled": true
   },
   "outputs": [
    {
     "name": "stdout",
     "output_type": "stream",
     "text": [
      "Epoch 0\n",
      "error 2.3836873029912741399\n",
      "Epoch 25\n",
      "error 0.67925656207408250737\n",
      "Epoch 50\n",
      "error 0.56966022106047877556\n",
      "Epoch 75\n",
      "error 0.5184407659423887813\n",
      "Epoch 100\n",
      "error 0.47279038009029368485\n",
      "Epoch 125\n",
      "error 0.43372882774276372788\n",
      "Epoch 150\n",
      "error 0.40511617446250418412\n",
      "Epoch 175\n",
      "error 0.38432029915118134624\n",
      "Epoch 200\n",
      "error 0.36679664303941043443\n",
      "Epoch 225\n",
      "error 0.35085739623944821127\n",
      "Epoch 250\n",
      "error 0.33607826450963026739\n",
      "Epoch 275\n",
      "error 0.32330122186190610452\n",
      "Epoch 300\n",
      "error 0.31277025292211736655\n",
      "Epoch 325\n",
      "error 0.30433149997567819268\n",
      "Epoch 350\n",
      "error 0.2975327238405586262\n",
      "Epoch 375\n",
      "error 0.29191088804010658514\n",
      "Epoch 400\n",
      "error 0.2871194082578539624\n",
      "Epoch 425\n",
      "error 0.28291977378005565074\n",
      "Epoch 450\n",
      "error 0.27914721940651733177\n",
      "Epoch 475\n",
      "error 0.2757319062987885938\n",
      "Epoch 500\n",
      "error 0.2726193359872230826\n",
      "Epoch 525\n",
      "error 0.26976359387286819502\n",
      "Epoch 550\n",
      "error 0.26713141281666192626\n",
      "Epoch 575\n",
      "error 0.26469636310922274613\n",
      "Epoch 600\n",
      "error 0.2624358378211774457\n",
      "Epoch 625\n",
      "error 0.26032957514726841778\n",
      "Epoch 650\n",
      "error 0.25835858730496419304\n",
      "Epoch 675\n",
      "error 0.25650447348067465205\n"
     ]
    }
   ],
   "source": [
    "net = neural_net(3,0.1,700,100)\n",
    "net.add_layer(29,\"linear\")\n",
    "net.add_layer(14,\"sigmoid\")\n",
    "net.add_layer(29,\"linear\")\n",
    "\n",
    "data_np_version = np.array(data)\n",
    "\n",
    "\n",
    "net.fit(data_np_version,data_np_version)\n",
    "\n",
    "\n",
    "\n",
    "compressed_datamatrix_2 = net.layers[net.bottleneck_layer_no].output\n"
   ]
  },
  {
   "cell_type": "code",
   "execution_count": 120,
   "metadata": {
    "hidden": true
   },
   "outputs": [
    {
     "name": "stdout",
     "output_type": "stream",
     "text": [
      "\n",
      "Purity of k means: \n",
      "\n",
      "cluster :  0 , Maximum label present :  normal , No of times:  9358 , Purity : 0.8713221601489758\n",
      "cluster :  1 , Maximum label present :  dos , No of times:  6852 , Purity : 0.817076079179585\n",
      "cluster :  2 , Maximum label present :  normal , No of times:  425 , Purity : 0.9976525821596244\n",
      "cluster :  3 , Maximum label present :  normal , No of times:  2155 , Purity : 0.3978951255539143\n",
      "cluster :  4 , Maximum label present :  dos , No of times:  28 , Purity : 0.9333333333333333\n",
      "Avg purity :  0.8034558560750866\n"
     ]
    }
   ],
   "source": [
    "output_label = kmeans_final(5,compressed_datamatrix_2)\n",
    "print()\n",
    "print(\"Purity of k means: \")\n",
    "print()\n",
    "p1 = calculate_purity(output_label)\n"
   ]
  },
  {
   "cell_type": "code",
   "execution_count": 121,
   "metadata": {
    "hidden": true
   },
   "outputs": [
    {
     "name": "stdout",
     "output_type": "stream",
     "text": [
      "Counter({3: 8754, 1: 6933, 4: 3334, 0: 3015, 2: 2962})\n",
      "\n",
      "Purity of GMM : \n",
      "\n",
      "cluster :  0 , Maximum label present :  dos , No of times:  3015 , Purity : 1.0\n",
      "cluster :  1 , Maximum label present :  normal , No of times:  4503 , Purity : 0.6495023799221117\n",
      "cluster :  2 , Maximum label present :  dos , No of times:  1366 , Purity : 0.4611748818365969\n",
      "cluster :  3 , Maximum label present :  normal , No of times:  8301 , Purity : 0.9482522275531186\n",
      "cluster :  4 , Maximum label present :  dos , No of times:  3334 , Purity : 1.0\n",
      "Avg purity :  0.8117858978623655\n",
      "Counter({0: 24972, 2: 23, 1: 1, 3: 1, 4: 1})\n",
      "\n",
      "Purity of hiearichal clustering: \n",
      "\n",
      "cluster :  0 , Maximum label present :  normal , No of times:  13350 , Purity : 0.5345987506006727\n",
      "cluster :  1 , Maximum label present :  probe , No of times:  1 , Purity : 1.0\n",
      "cluster :  2 , Maximum label present :  normal , No of times:  12 , Purity : 0.5217391304347826\n",
      "cluster :  3 , Maximum label present :  normal , No of times:  1 , Purity : 1.0\n",
      "cluster :  4 , Maximum label present :  normal , No of times:  1 , Purity : 1.0\n",
      "Avg purity :  0.8112675762070911\n"
     ]
    },
    {
     "data": {
      "image/png": "[encoded data removed]",
      "text/plain": [
       "<Figure size 720x864 with 1 Axes>"
      ]
     },
     "metadata": {},
     "output_type": "display_data"
    }
   ],
   "source": [
    "output_label = gmm_implementation(compressed_datamatrix_2)\n",
    "print()\n",
    "print(\"Purity of GMM : \")\n",
    "print()\n",
    "p2 = calculate_purity(output_label)\n",
    "output_label = hmm_implementation(compressed_datamatrix_2)\n",
    "print()\n",
    "print(\"Purity of hiearichal clustering: \")\n",
    "print()\n",
    "p3 = calculate_purity(output_label)\n",
    "pie_chart(p1,p2,p3)"
   ]
  },
  {
   "cell_type": "markdown",
   "metadata": {
    "heading_collapsed": true
   },
   "source": [
    "### B. Non-linear 5 layer autoencoder"
   ]
  },
  {
   "cell_type": "markdown",
   "metadata": {
    "hidden": true
   },
   "source": [
    ">- relu"
   ]
  },
  {
   "cell_type": "code",
   "execution_count": 122,
   "metadata": {
    "hidden": true
   },
   "outputs": [],
   "source": [
    "net = neural_net(5,0.1,700,100)\n",
    "net.add_layer(29,\"linear\")\n",
    "net.add_layer(21,\"sigmoid\")\n",
    "net.add_layer(14,\"relu\")\n",
    "net.add_layer(21,\"sigmoid\")\n",
    "net.add_layer(29,\"linear\")"
   ]
  },
  {
   "cell_type": "code",
   "execution_count": 123,
   "metadata": {
    "hidden": true,
    "scrolled": true
   },
   "outputs": [
    {
     "name": "stdout",
     "output_type": "stream",
     "text": [
      "Epoch 0\n",
      "error 1.8770826017779403505\n",
      "Epoch 25\n",
      "error 0.9999576483913372791\n",
      "Epoch 50\n",
      "error 0.99995527639746896215\n",
      "Epoch 75\n",
      "error 0.9999518508632823271\n",
      "Epoch 100\n",
      "error 0.9999464823784971663\n",
      "Epoch 125\n",
      "error 0.99993750876136047864\n",
      "Epoch 150\n",
      "error 0.99992144611963930823\n",
      "Epoch 175\n",
      "error 0.9998899416505498783\n",
      "Epoch 200\n",
      "error 0.9998190188641997051\n",
      "Epoch 225\n",
      "error 0.9996185903357861092\n",
      "Epoch 250\n",
      "error 0.99874798866112202036\n",
      "Epoch 275\n",
      "error 0.9882031585550292669\n",
      "Epoch 300\n",
      "error 0.84934365986297216244\n",
      "Epoch 325\n",
      "error 0.7803393492439435471\n",
      "Epoch 350\n",
      "error 0.77843359898544727384\n",
      "Epoch 375\n",
      "error 0.7704178865486974485\n",
      "Epoch 400\n",
      "error 0.7552716333388158816\n",
      "Epoch 425\n",
      "error 0.71895534589391969056\n",
      "Epoch 450\n",
      "error 0.66915467213181536354\n",
      "Epoch 475\n",
      "error 0.64078221758197207884\n",
      "Epoch 500\n",
      "error 0.63572061134058948756\n",
      "Epoch 525\n",
      "error 0.62571076774061493354\n",
      "Epoch 550\n",
      "error 0.62574177782352526745\n",
      "Epoch 575\n",
      "error 0.61993304606846149946\n",
      "Epoch 600\n",
      "error 0.6167042735429102013\n",
      "Epoch 625\n",
      "error 0.6131821859357270159\n",
      "Epoch 650\n",
      "error 0.609114889680448053\n",
      "Epoch 675\n",
      "error 0.6050120444696308771\n"
     ]
    }
   ],
   "source": [
    "net.fit(data_np_version,data_np_version)"
   ]
  },
  {
   "cell_type": "code",
   "execution_count": 125,
   "metadata": {
    "hidden": true
   },
   "outputs": [],
   "source": [
    "compressed_datamatrix_3 = net.layers[net.bottleneck_layer_no].output"
   ]
  },
  {
   "cell_type": "code",
   "execution_count": 211,
   "metadata": {
    "hidden": true
   },
   "outputs": [
    {
     "data": {
      "text/plain": [
       "array([[0.        , 0.        , 1.4780203 , ..., 0.        , 0.        ,\n",
       "        0.        ],\n",
       "       [1.57994985, 2.35903166, 2.37157482, ..., 0.65510299, 0.        ,\n",
       "        0.        ],\n",
       "       [0.        , 0.        , 1.46858955, ..., 0.        , 0.        ,\n",
       "        0.        ],\n",
       "       ...,\n",
       "       [0.        , 0.16983629, 0.78647041, ..., 1.27563785, 0.        ,\n",
       "        0.        ],\n",
       "       [0.        , 0.        , 1.93228751, ..., 0.        , 0.        ,\n",
       "        0.        ],\n",
       "       [0.73117184, 1.97165237, 0.        , ..., 3.25972583, 0.        ,\n",
       "        0.        ]], dtype=float128)"
      ]
     },
     "execution_count": 211,
     "metadata": {},
     "output_type": "execute_result"
    }
   ],
   "source": []
  },
  {
   "cell_type": "code",
   "execution_count": 174,
   "metadata": {
    "hidden": true
   },
   "outputs": [
    {
     "name": "stdout",
     "output_type": "stream",
     "text": [
      "\n",
      "Purity of k means: \n",
      "\n",
      "cluster :  0 , Maximum label present :  normal , No of times:  13364 , Purity : 0.8384991843393148\n",
      "cluster :  2 , Maximum label present :  dos , No of times:  1360 , Purity : 0.5972771190162495\n",
      "cluster :  4 , Maximum label present :  dos , No of times:  6741 , Purity : 0.9938080495356038\n",
      "Avg purity :  0.8098614509637226\n",
      "\n",
      "Counter({3: 13145, 0: 6394, 4: 2720, 1: 1885, 2: 854})\n",
      "\n",
      "Purity of GMM : \n",
      "\n",
      "cluster :  0 , Maximum label present :  dos , No of times:  6393 , Purity : 0.999843603378167\n",
      "cluster :  1 , Maximum label present :  normal , No of times:  1380 , Purity : 0.7320954907161804\n",
      "cluster :  2 , Maximum label present :  normal , No of times:  519 , Purity : 0.607728337236534\n",
      "cluster :  3 , Maximum label present :  normal , No of times:  11381 , Purity : 0.8658044883986307\n",
      "cluster :  4 , Maximum label present :  dos , No of times:  1790 , Purity : 0.6580882352941176\n",
      "Avg purity :  0.772712031004726\n",
      "Counter({0: 24992, 1: 2, 2: 2, 3: 1, 4: 1})\n",
      "\n",
      "Purity of hiearichal clustering: \n",
      "\n",
      "cluster :  0 , Maximum label present :  normal , No of times:  13361 , Purity : 0.5346110755441741\n",
      "cluster :  1 , Maximum label present :  normal , No of times:  1 , Purity : 0.5\n",
      "cluster :  2 , Maximum label present :  normal , No of times:  2 , Purity : 1.0\n",
      "cluster :  3 , Maximum label present :  probe , No of times:  1 , Purity : 1.0\n",
      "cluster :  4 , Maximum label present :  probe , No of times:  1 , Purity : 1.0\n",
      "Avg purity :  0.8069222151088347\n"
     ]
    },
    {
     "data": {
      "image/png": "[encoded data removed]",
      "text/plain": [
       "<Figure size 720x864 with 1 Axes>"
      ]
     },
     "metadata": {},
     "output_type": "display_data"
    }
   ],
   "source": [
    "output_label = kmeans_final(5,compressed_datamatrix_3)\n",
    "print()\n",
    "print(\"Purity of k means: \")\n",
    "print()\n",
    "p1 = calculate_purity(output_label)\n",
    "print()\n",
    "output_label = gmm_implementation(compressed_datamatrix_3)\n",
    "print()\n",
    "print(\"Purity of GMM : \")\n",
    "print()\n",
    "p2 = calculate_purity(output_label)\n",
    "output_label = hmm_implementation(compressed_datamatrix_3)\n",
    "print()\n",
    "print(\"Purity of hiearichal clustering: \")\n",
    "print()\n",
    "p3 = calculate_purity(output_label)\n",
    "pie_chart(p1,p2,p3)"
   ]
  },
  {
   "cell_type": "markdown",
   "metadata": {
    "hidden": true
   },
   "source": [
    ">- Relu-sigmoid=relu"
   ]
  },
  {
   "cell_type": "markdown",
   "metadata": {
    "heading_collapsed": true
   },
   "source": [
    "### Non - linear 5 - layer auto encoder"
   ]
  },
  {
   "cell_type": "code",
   "execution_count": 177,
   "metadata": {
    "hidden": true,
    "scrolled": true
   },
   "outputs": [
    {
     "name": "stdout",
     "output_type": "stream",
     "text": [
      "Epoch 0\n",
      "error 1.9060327859654615885\n",
      "Epoch 25\n",
      "error 0.99854373590505674245\n",
      "Epoch 50\n",
      "error 0.9908663456663979217\n",
      "Epoch 75\n",
      "error 0.80226656481340125494\n",
      "Epoch 100\n",
      "error 0.8626032682466364884\n",
      "Epoch 125\n",
      "error 0.822992619027252807\n",
      "Epoch 150\n",
      "error 0.79670237458316680765\n",
      "Epoch 175\n",
      "error 0.8050176673839734031\n",
      "Epoch 200\n",
      "error 0.7629664413173137871\n",
      "Epoch 225\n",
      "error 0.67832846560319968744\n",
      "Epoch 250\n",
      "error 0.6280673375115964987\n",
      "Epoch 275\n",
      "error 0.62117325620634942043\n",
      "Epoch 300\n",
      "error 0.6590000807300784888\n",
      "Epoch 325\n",
      "error 0.62517908607560399644\n",
      "Epoch 350\n",
      "error 0.6285966199841003125\n",
      "Epoch 375\n",
      "error 0.6368977974710101125\n",
      "Epoch 400\n",
      "error 0.6122189431796638793\n",
      "Epoch 425\n",
      "error 0.58759953114820199035\n",
      "Epoch 450\n",
      "error 0.5686749677797164376\n",
      "Epoch 475\n",
      "error 0.55796647863379806817\n",
      "Epoch 500\n",
      "error 0.54529923275483025964\n",
      "Epoch 525\n",
      "error 0.580635582535032787\n",
      "Epoch 550\n",
      "error 0.5523747046948345635\n",
      "Epoch 575\n",
      "error 0.5216719668194879252\n",
      "Epoch 600\n",
      "error 0.5094584977120508579\n",
      "Epoch 625\n",
      "error 0.5009799902195672429\n",
      "Epoch 650\n",
      "error 0.48568344101107540316\n",
      "Epoch 675\n",
      "error 0.4905112884405116329\n"
     ]
    }
   ],
   "source": [
    "net = neural_net(5,0.1,700,100)\n",
    "net.add_layer(29,\"linear\")\n",
    "net.add_layer(21,\"sigmoid\")\n",
    "net.add_layer(14,\"linear\")\n",
    "net.add_layer(21,\"sigmoid\")\n",
    "net.add_layer(29,\"linear\")\n",
    "\n",
    "net.fit(data_np_version,data_np_version)"
   ]
  },
  {
   "cell_type": "code",
   "execution_count": 178,
   "metadata": {
    "hidden": true
   },
   "outputs": [],
   "source": [
    "compressed_datamatrix_4 = net.layers[net.bottleneck_layer_no].output"
   ]
  },
  {
   "cell_type": "code",
   "execution_count": 194,
   "metadata": {
    "hidden": true
   },
   "outputs": [
    {
     "name": "stdout",
     "output_type": "stream",
     "text": [
      "\n",
      "Purity of k means: \n",
      "\n",
      "cluster :  0 , Maximum label present :  normal , No of times:  2 , Purity : 0.5\n",
      "cluster :  1 , Maximum label present :  normal , No of times:  1974 , Purity : 0.6806896551724138\n",
      "cluster :  2 , Maximum label present :  normal , No of times:  10926 , Purity : 0.8688667992047714\n",
      "cluster :  3 , Maximum label present :  dos , No of times:  7783 , Purity : 0.8176279020905557\n",
      "Avg purity :  0.7167960891169352\n",
      "\n",
      "Counter({4: 7784, 3: 6631, 1: 5182, 2: 3336, 0: 2065})\n",
      "\n",
      "Purity of GMM : \n",
      "\n",
      "cluster :  0 , Maximum label present :  normal , No of times:  1379 , Purity : 0.6677966101694915\n",
      "cluster :  1 , Maximum label present :  normal , No of times:  3766 , Purity : 0.7267464299498263\n",
      "cluster :  2 , Maximum label present :  dos , No of times:  1727 , Purity : 0.5176858513189448\n",
      "cluster :  3 , Maximum label present :  dos , No of times:  6631 , Purity : 1.0\n",
      "cluster :  4 , Maximum label present :  normal , No of times:  7656 , Purity : 0.9835560123329907\n",
      "Avg purity :  0.7791569807542507\n",
      "Counter({0: 24994, 1: 1, 2: 1, 3: 1, 4: 1})\n",
      "\n",
      "Purity of hiearichal clustering: \n",
      "\n",
      "cluster :  0 , Maximum label present :  normal , No of times:  13361 , Purity : 0.5345682963911339\n",
      "cluster :  1 , Maximum label present :  normal , No of times:  1 , Purity : 1.0\n",
      "cluster :  2 , Maximum label present :  normal , No of times:  1 , Purity : 1.0\n",
      "cluster :  3 , Maximum label present :  normal , No of times:  1 , Purity : 1.0\n",
      "cluster :  4 , Maximum label present :  dos , No of times:  1 , Purity : 1.0\n",
      "Avg purity :  0.9069136592782268\n"
     ]
    },
    {
     "data": {
      "image/png": "[encoded data removed]",
      "text/plain": [
       "<Figure size 720x864 with 1 Axes>"
      ]
     },
     "metadata": {},
     "output_type": "display_data"
    }
   ],
   "source": [
    "output_label = kmeans_final(5,compressed_datamatrix_4)\n",
    "print()\n",
    "print(\"Purity of k means: \")\n",
    "print()\n",
    "p1 = calculate_purity(output_label)\n",
    "print()\n",
    "output_label = gmm_implementation(compressed_datamatrix_4)\n",
    "print()\n",
    "print(\"Purity of GMM : \")\n",
    "print()\n",
    "p2 = calculate_purity(output_label)\n",
    "output_label = hmm_implementation(compressed_datamatrix_4)\n",
    "print()\n",
    "print(\"Purity of hiearichal clustering: \")\n",
    "print()\n",
    "p3 = calculate_purity(output_label)\n",
    "pie_chart(p1,p2,p3)"
   ]
  },
  {
   "cell_type": "markdown",
   "metadata": {
    "heading_collapsed": true
   },
   "source": [
    "### Non linear 7 layer network"
   ]
  },
  {
   "cell_type": "code",
   "execution_count": 195,
   "metadata": {
    "hidden": true
   },
   "outputs": [
    {
     "name": "stdout",
     "output_type": "stream",
     "text": [
      "Epoch 0\n",
      "error 1.9444722128157175096\n",
      "Epoch 25\n",
      "error 0.9999599967998280343\n",
      "Epoch 50\n",
      "error 0.9999599967998280343\n",
      "Epoch 75\n",
      "error 0.9999599967998280343\n",
      "Epoch 100\n",
      "error 0.9999599967998280343\n",
      "Epoch 125\n",
      "error 0.9999599967998280343\n"
     ]
    }
   ],
   "source": [
    "net = neural_net(7,0.5,150,100)\n",
    "net.add_layer(29,\"linear\")\n",
    "net.add_layer(21,\"sigmoid\")\n",
    "net.add_layer(17,\"sigmoid\")\n",
    "net.add_layer(14,\"sigmoid\")\n",
    "net.add_layer(17,\"sigmoid\")\n",
    "net.add_layer(21,\"sigmoid\")\n",
    "net.add_layer(29,\"linear\")\n",
    "\n",
    "net.fit(data_np_version,data_np_version)\n",
    "compressed_datamatrix_5 = net.layers[net.bottleneck_layer_no].output"
   ]
  },
  {
   "cell_type": "code",
   "execution_count": 208,
   "metadata": {
    "hidden": true
   },
   "outputs": [
    {
     "name": "stdout",
     "output_type": "stream",
     "text": [
      "\n",
      "Purity of k means: \n",
      "\n",
      "cluster :  1 , Maximum label present :  probe , No of times:  849 , Purity : 0.4215491559086395\n",
      "cluster :  2 , Maximum label present :  normal , No of times:  12370 , Purity : 0.9171115065243179\n",
      "cluster :  3 , Maximum label present :  dos , No of times:  1637 , Purity : 0.4971150926207106\n",
      "cluster :  4 , Maximum label present :  dos , No of times:  6177 , Purity : 0.9958084797678542\n",
      "Avg purity :  0.7078960587053805\n",
      "\n",
      "Counter({1: 7784, 0: 6631, 4: 5182, 2: 3336, 3: 2065})\n",
      "\n",
      "Purity of GMM : \n",
      "\n",
      "cluster :  0 , Maximum label present :  dos , No of times:  6631 , Purity : 1.0\n",
      "cluster :  1 , Maximum label present :  normal , No of times:  7656 , Purity : 0.9835560123329907\n",
      "cluster :  2 , Maximum label present :  dos , No of times:  1727 , Purity : 0.5176858513189448\n",
      "cluster :  3 , Maximum label present :  normal , No of times:  1379 , Purity : 0.6677966101694915\n",
      "cluster :  4 , Maximum label present :  normal , No of times:  3766 , Purity : 0.7267464299498263\n",
      "Avg purity :  0.7791569807542507\n",
      "Counter({0: 24994, 1: 1, 2: 1, 3: 1, 4: 1})\n",
      "\n",
      "Purity of hiearichal clustering: \n",
      "\n",
      "cluster :  0 , Maximum label present :  normal , No of times:  13361 , Purity : 0.5345682963911339\n",
      "cluster :  1 , Maximum label present :  normal , No of times:  1 , Purity : 1.0\n",
      "cluster :  2 , Maximum label present :  normal , No of times:  1 , Purity : 1.0\n",
      "cluster :  3 , Maximum label present :  normal , No of times:  1 , Purity : 1.0\n",
      "cluster :  4 , Maximum label present :  dos , No of times:  1 , Purity : 1.0\n",
      "Avg purity :  0.9069136592782268\n"
     ]
    },
    {
     "data": {
      "image/png": "[encoded data removed]",
      "text/plain": [
       "<Figure size 720x864 with 1 Axes>"
      ]
     },
     "metadata": {},
     "output_type": "display_data"
    }
   ],
   "source": [
    "output_label = kmeans_final(5,compressed_datamatrix_4)\n",
    "print()\n",
    "print(\"Purity of k means: \")\n",
    "print()\n",
    "p1 = calculate_purity(output_label)\n",
    "print()\n",
    "output_label = gmm_implementation(compressed_datamatrix_4)\n",
    "print()\n",
    "print(\"Purity of GMM : \")\n",
    "print()\n",
    "p2 = calculate_purity(output_label)\n",
    "output_label = hmm_implementation(compressed_datamatrix_4)\n",
    "print()\n",
    "print(\"Purity of hiearichal clustering: \")\n",
    "print()\n",
    "p3 = calculate_purity(output_label)\n",
    "pie_chart(p1,p2,p3)"
   ]
  },
  {
   "cell_type": "markdown",
   "metadata": {
    "heading_collapsed": true
   },
   "source": [
    "### Code for K - Means clustering"
   ]
  },
  {
   "cell_type": "code",
   "execution_count": 137,
   "metadata": {
    "hidden": true
   },
   "outputs": [],
   "source": [
    "\n",
    "def ecludian(row1,row2):\n",
    "    dist = 0.0\n",
    "    dist += math.sqrt(sum((np.array(row1)-np.array(row2))**2))\n",
    "    return dist\n",
    "\n",
    "\n",
    "# In[79]:\n",
    "\n",
    "\n",
    "def assigncluster(centroid , row):\n",
    "    mintill = 9999999999\n",
    "    clust = -1\n",
    "    for i in centroid:\n",
    "        dist  = ecludian(row,i)\n",
    "        if(dist < mintill):\n",
    "            mintill = dist\n",
    "            clust = i\n",
    "    return clust\n",
    "\n",
    "\n",
    "# In[80]:\n",
    "\n",
    "\n",
    "def recalculate_centroid(clusters,data):\n",
    "    newcentroid = []\n",
    "    for i in clusters.keys():\n",
    "        sumc = [0]*len(clusters[i][0])\n",
    "        for j in range(len(clusters[i])):\n",
    "            #print(clusters[i],\"clusteri\")\n",
    "            #print(clusters[i][j],\"what is this\")\n",
    "            sumc = sumc + np.array(clusters[i][j])  #data.loc[index.get_loc(clusters[i][j] )]\n",
    "            #print(sumc,\"sums\")                       \n",
    "        newcentroid.append(tuple(sumc/len(clusters[i])))\n",
    "    return newcentroid\n",
    "\n",
    "\n",
    "# In[81]:\n",
    "\n",
    "\n",
    "def getrandomcentorid(k,data):\n",
    "    centroids = []\n",
    "    for i in range(k):\n",
    "        rand = random.randint(0,len(data)-1)\n",
    "        randval = tuple(data.loc[rand].values)\n",
    "        while randval in centroids:\n",
    "            randval = tuple(data.loc[random.randint(0,len(data)-1)])\n",
    "        centroids.append(randval)\n",
    "    return centroids\n",
    "\n",
    "\n",
    "# In[82]:\n",
    "\n",
    "\n",
    "def buildcluster(k,data,centroids):\n",
    "    clu = {}\n",
    "    for c in centroids:\n",
    "        clu[c] = []\n",
    "    for i,row in data.iterrows():\n",
    "        rown = tuple(row)\n",
    "        #print(assigncluster(centroids,rown))\n",
    "        clu[assigncluster(centroids,rown)].append(rown)\n",
    "        #print(rown)\n",
    "    return clu\n",
    "\n",
    "\n",
    "# In[83]:\n",
    "\n",
    "\n",
    "def converge(cone,ctwo,tolerance,k):\n",
    "    countofpos = 0\n",
    "    for i in range(k):\n",
    "        dist = ecludian(cone[i],ctwo[i])\n",
    "        if(dist <= tolerance):\n",
    "            countofpos += 1\n",
    "    if(countofpos == k):\n",
    "        return True\n",
    "    else:\n",
    "        return False\n",
    "\n",
    "\n",
    "# In[ ]:\n",
    "\n",
    "\n",
    "\n",
    "\n",
    "\n",
    "# In[84]:\n",
    "\n",
    "\n",
    "def kmeans(data,k):\n",
    "    centroid = getrandomcentorid(k,data)\n",
    "    c1 = deepcopy(centroid)\n",
    "    \n",
    "    #print(c1)\n",
    "    #print(len(c1))\n",
    "    #print(assigncluster(c1,c1[0]),\"assigned\")\n",
    "    #print(c1)\n",
    "    clusters = buildcluster(k,data,c1)\n",
    "    #print(clusters)\n",
    "    #print(len(clusters.keys()),\"keys\")\n",
    "    newcentroid = recalculate_centroid(clusters,data)\n",
    "    iterations = 0\n",
    "    while not converge(c1,newcentroid,0,k) :\n",
    "        print(iterations)\n",
    "        c1 = newcentroid\n",
    "        clusters = buildcluster(k,data,c1)\n",
    "        newcentroid = recalculate_centroid(clusters,data)\n",
    "        iterations += 1\n",
    "    return clusters\n",
    "    print(\"final clusters\",clusters)\n",
    "\n",
    "\n",
    "# In[85]:\n",
    "\n",
    "\n",
    "#data_for_kmeans = pd.DataFrame(pro_x)\n",
    "#data_for_kmeans = (data_for_kmeans - data_for_kmeans.mean())/data_for_kmeans.std()\n",
    "# print(data_for_kmeans)\n",
    "# data_for_kmeans.describe()\n",
    "#data_for_kmeans.columns = list(data)\n",
    "# data_for_kmeans = data_for_kmeans\n",
    "# clusters = kmeans(data_for_kmeans,5)\n",
    "\n",
    "# clusterone = clusters[list(clusters.keys())[4]]\n",
    "# results = []\n",
    "# index = -1\n",
    "# for i in clusterone:\n",
    "#     for no,j in original_data.iterrows():\n",
    "#         if tuple(j) == i:\n",
    "#             index = no\n",
    "#             break\n",
    "#     results.append(total_y_values.iloc[index])\n",
    "\n",
    "\n",
    "# In[86]:\n",
    "\n",
    "\n",
    "def getdistances(data,centers,i):\n",
    "    return  np.linalg.norm(data - centers[i], axis=1)\n",
    "\n",
    "\n",
    "# In[87]:\n",
    "\n",
    "\n",
    "def geterror(centernew,centerold):\n",
    "    return np.linalg.norm(centernew - centerold)\n",
    "\n",
    "\n",
    "# In[88]:\n",
    "\n",
    "\n",
    "def getnewcenters(k,data,centers_new,clusters):\n",
    "    for i in range(k):\n",
    "        centers_new[i] = np.mean(data[clusters == i], axis=0)\n",
    "    return centers_new\n",
    "\n",
    "\n",
    "# In[116]:\n",
    "\n",
    "\n",
    "\n",
    "\n",
    "\n",
    "# In[117]:\n",
    "\n"
   ]
  },
  {
   "cell_type": "code",
   "execution_count": 159,
   "metadata": {
    "hidden": true
   },
   "outputs": [],
   "source": [
    "def kmeans_final(k,pro_x):\n",
    "    n = pro_x.shape[0]\n",
    "    data = pro_x\n",
    "    #print(pro_x.shape[1])\n",
    "\n",
    "\n",
    "    centers = np.random.randn(k,pro_x.shape[1])\n",
    "    #print(centers)\n",
    "    centers_old = np.zeros(centers.shape) \n",
    "    #print(centers_old.shape)\n",
    "    centers_new = deepcopy(centers) \n",
    "\n",
    "    #print(data.shape)\n",
    "    clusters = np.zeros(n)\n",
    "    #print()\n",
    "    distances = np.zeros((n,k))\n",
    "    #print(distances.shape)\n",
    "\n",
    "    error = geterror(centers_new,centers_old)\n",
    "\n",
    "    iterations = 0 \n",
    "    while error >= 0.00: #and iterations <= 1000:\n",
    "\n",
    "        for i in range(k):\n",
    "            distances[:,i] = getdistances(data,centers,i)\n",
    "\n",
    "        clusters = np.argmin(distances, axis = 1)\n",
    "\n",
    "        centers_old = deepcopy(centers_new)\n",
    "\n",
    "        centers_new = getnewcenters(k,data,centers_new,clusters)\n",
    "\n",
    "\n",
    "        error = geterror(centers_new,centers_old)\n",
    "        iterations += 1\n",
    "\n",
    "    purity = []\n",
    "    output_labels = []\n",
    "\n",
    "    for i in range(k):\n",
    "        output_labels.append([])\n",
    "\n",
    "    total_for_k_means = np.array(total_y_values)\n",
    "    for i in range(n):\n",
    "        output_labels[clusters[i]].append(total_y_values[i])\n",
    "    return output_labels"
   ]
  },
  {
   "cell_type": "code",
   "execution_count": 170,
   "metadata": {
    "hidden": true
   },
   "outputs": [],
   "source": [
    "def calculate_purity(output_labels):\n",
    "    purity = []\n",
    "    for i in range(5):\n",
    "        if(len(output_label[i]) != 0 ):\n",
    "            max_label = max(set(output_labels[i]), key=output_labels[i].count)\n",
    "            #print(max_label)\n",
    "            dictio = Counter(output_labels[i])\n",
    "            purity.append(dictio[max_label]/len(output_labels[i]))\n",
    "            \n",
    "            print(\"cluster : \",i,\", Maximum label present : \",max_label,\", No of times: \",dictio[max_label],\", Purity :\",purity[i])\n",
    "        if(len(output_label[i]) == 0 ):\n",
    "            purity.append(0)\n",
    "    sumavg = 0\n",
    "    cnt = 0\n",
    "    for i in purity :\n",
    "        if(i != 0 ):\n",
    "            sumavg += i\n",
    "            cnt += 1\n",
    "    avg_purity = sumavg/cnt\n",
    "    print(\"Avg purity : \", avg_purity)\n",
    "    return purity\n",
    "    "
   ]
  },
  {
   "cell_type": "code",
   "execution_count": 301,
   "metadata": {
    "hidden": true
   },
   "outputs": [
    {
     "name": "stdout",
     "output_type": "stream",
     "text": [
      "cluster :  0 , Maximum label present :  dos , No of times:  8085 , Purity : 0.8683277843411019\n",
      "cluster :  1 , Maximum label present :  dos , No of times:  385 , Purity : 0.782520325203252\n",
      "cluster :  2 , Maximum label present :  normal , No of times:  10921 , Purity : 0.8852233119883278\n",
      "cluster :  3 , Maximum label present :  normal , No of times:  527 , Purity : 0.947841726618705\n",
      "cluster :  4 , Maximum label present :  normal , No of times:  1572 , Purity : 0.6828844483058211\n",
      "Avg purity :  0.8333595192914416\n"
     ]
    }
   ],
   "source": [
    "# for i in output_labels:\n"
   ]
  },
  {
   "cell_type": "markdown",
   "metadata": {
    "heading_collapsed": true
   },
   "source": [
    "### Code for GMM"
   ]
  },
  {
   "cell_type": "code",
   "execution_count": 3,
   "metadata": {
    "hidden": true
   },
   "outputs": [],
   "source": [
    "def gmm_implementation(compressed_datamatrix_1):\n",
    "    clf = mixture.GaussianMixture(n_components=5)\n",
    "    labels = clf.fit_predict(compressed_datamatrix_1)\n",
    "    k = 5\n",
    "    n = len(compressed_datamatrix_1)\n",
    "    print(Counter(labels))\n",
    "    output_labels3 = []\n",
    "    for i in range(k):\n",
    "        output_labels3.append([])\n",
    "\n",
    "    total_for_k_means = np.array(total_y_values)\n",
    "    for i in range(n):\n",
    "        output_labels3[labels[i]].append(total_y_values[i])\n",
    "    return output_labels3"
   ]
  },
  {
   "cell_type": "code",
   "execution_count": 302,
   "metadata": {
    "hidden": true
   },
   "outputs": [
    {
     "name": "stdout",
     "output_type": "stream",
     "text": [
      "Counter({4: 11709, 0: 6330, 1: 4080, 3: 2335, 2: 544})\n",
      "6330\n",
      "4080\n",
      "544\n",
      "2335\n",
      "11709\n",
      "cluster :  0 , Maximum label present :  dos , No of times:  6330 , Purity : 1.0\n",
      "cluster :  1 , Maximum label present :  normal , No of times:  2796 , Purity : 0.6852941176470588\n",
      "cluster :  2 , Maximum label present :  probe , No of times:  543 , Purity : 0.9981617647058824\n",
      "cluster :  3 , Maximum label present :  dos , No of times:  1363 , Purity : 0.5837259100642398\n",
      "cluster :  4 , Maximum label present :  normal , No of times:  10110 , Purity : 0.8634383807327697\n",
      "Avg purity :  0.8261240346299902\n"
     ]
    }
   ],
   "source": [
    "\n",
    "clf = mixture.GaussianMixture(n_components=5)\n",
    "labels = clf.fit_predict(compressed_datamatrix_1)\n",
    "k = 5\n",
    "n = len(compressed_datamatrix)\n",
    "\n",
    "\n",
    "\n",
    "print(Counter(labels))\n",
    "\n",
    "\n",
    "# In[95]:\n",
    "\n",
    "\n",
    "output_labels3 = []\n",
    "\n",
    "for i in range(k):\n",
    "    output_labels3.append([])\n",
    "\n",
    "total_for_k_means = np.array(total_y_values)\n",
    "for i in range(n):\n",
    "    output_labels3[labels[i]].append(total_y_values[i])\n",
    "\n",
    "\n",
    "# In[96]:\n",
    "\n",
    "\n",
    "for i in output_labels3:\n",
    "    print(len(i))\n",
    "purity3 = []\n",
    "for i in range(k):\n",
    "    max_label = max(set(output_labels3[i]), key=output_labels3[i].count)\n",
    "    dictio = Counter(output_labels3[i])\n",
    "    purity3.append(dictio[max_label]/len(output_labels3[i]))\n",
    "    print(\"cluster : \",i,\", Maximum label present : \",max_label,\", No of times: \",dictio[max_label],\", Purity :\",purity3[i])\n",
    "\n",
    "print(\"Avg purity : \", sum(purity3)/len(purity3))\n"
   ]
  },
  {
   "cell_type": "markdown",
   "metadata": {
    "heading_collapsed": true
   },
   "source": [
    "### Code for hiraerichal clustering"
   ]
  },
  {
   "cell_type": "code",
   "execution_count": 5,
   "metadata": {
    "hidden": true
   },
   "outputs": [],
   "source": [
    "def hmm_implementation(compressed_datamatrix_1):\n",
    "    cluster_hir = AgglomerativeClustering(n_clusters=5, linkage='single')\n",
    "    labels4 = cluster_hir.fit_predict(compressed_datamatrix_1)\n",
    "    k = 5\n",
    "    n = len(compressed_datamatrix_1)\n",
    "\n",
    "\n",
    "    print(Counter(labels4))\n",
    "    output_labels4 = []\n",
    "\n",
    "    for i in range(k):\n",
    "        output_labels4.append([])\n",
    "\n",
    "    total_for_k_means = np.array(total_y_values)\n",
    "    for i in range(n):\n",
    "        output_labels4[labels4[i]].append(total_y_values[i])\n",
    "    return output_labels4"
   ]
  },
  {
   "cell_type": "code",
   "execution_count": 303,
   "metadata": {
    "hidden": true
   },
   "outputs": [
    {
     "name": "stdout",
     "output_type": "stream",
     "text": [
      "Counter({0: 24989, 2: 6, 1: 1, 3: 1, 4: 1})\n",
      "24989\n",
      "1\n",
      "6\n",
      "1\n",
      "1\n",
      "cluster :  0 , Maximum label present :  normal , No of times:  13360 , Purity : 0.5346352395053824\n",
      "cluster :  1 , Maximum label present :  probe , No of times:  1 , Purity : 1.0\n",
      "cluster :  2 , Maximum label present :  r2l , No of times:  4 , Purity : 0.6666666666666666\n",
      "cluster :  3 , Maximum label present :  normal , No of times:  1 , Purity : 1.0\n",
      "cluster :  4 , Maximum label present :  normal , No of times:  1 , Purity : 1.0\n",
      "Avg purity :  0.8402603812344097\n"
     ]
    }
   ],
   "source": [
    "from sklearn.cluster import AgglomerativeClustering\n",
    "\n",
    "cluster_hir = AgglomerativeClustering(n_clusters=5,  linkage='single')  \n",
    "labels4 = cluster_hir.fit_predict(compressed_datamatrix_1)\n",
    "k = 5\n",
    "n = len(compressed_datamatrix)\n",
    "\n",
    "# In[98]:\n",
    "\n",
    "\n",
    "print(Counter(labels4))\n",
    "\n",
    "\n",
    "# In[99]:\n",
    "\n",
    "\n",
    "output_labels4 = []\n",
    "\n",
    "for i in range(k):\n",
    "    output_labels4.append([])\n",
    "\n",
    "total_for_k_means = np.array(total_y_values)\n",
    "for i in range(n):\n",
    "    output_labels4[labels4[i]].append(total_y_values[i])\n",
    "\n",
    "\n",
    "# In[100]:\n",
    "\n",
    "\n",
    "for i in output_labels4:\n",
    "    print(len(i))\n",
    "purity4 = []\n",
    "for i in range(k):\n",
    "    max_label = max(set(output_labels4[i]), key=output_labels4[i].count)\n",
    "    dictio = Counter(output_labels4[i])\n",
    "    purity4.append(dictio[max_label]/len(output_labels4[i]))\n",
    "    print(\"cluster : \",i,\", Maximum label present : \",max_label,\", No of times: \",dictio[max_label],\", Purity :\",purity4[i])\n",
    "\n",
    "print(\"Avg purity : \", sum(purity4)/len(purity4))\n"
   ]
  },
  {
   "cell_type": "markdown",
   "metadata": {
    "heading_collapsed": true
   },
   "source": [
    "### Code for pie chart generation"
   ]
  },
  {
   "cell_type": "code",
   "execution_count": 6,
   "metadata": {
    "hidden": true
   },
   "outputs": [],
   "source": [
    "def pie_chart(purity,purity3,purity4):\n",
    "    avg_purities = [sum(purity)/len(purity) , sum(purity3)/len(purity3) , sum(purity4)/len(purity4)]\n",
    "    labels = [\"K-NN\",\"GMM\",\"Hierarchical\"]\n",
    "    colors = ['gold', 'yellowgreen', 'lightcoral', 'lightskyblue']\n",
    "    plt.figure(figsize=(10,12))\n",
    "    explode = (0, 0, 0.1)\n",
    "    plt.pie(avg_purities , explode = explode, labels=labels, colors=colors ,\n",
    "    autopct='%1.1f%%', shadow=True, startangle=140 )\n",
    "\n",
    "    plt.axis('equal')\n",
    "    plt.show()"
   ]
  },
  {
   "cell_type": "markdown",
   "metadata": {
    "heading_collapsed": true
   },
   "source": [
    "### Testing with keras model of 7 layer model"
   ]
  },
  {
   "cell_type": "code",
   "execution_count": 306,
   "metadata": {
    "hidden": true
   },
   "outputs": [],
   "source": [
    "model = Sequential()\n",
    "model.add(Dense(21,input_dim=29,activation=\"sigmoid\"))\n",
    "model.add(Dense(17,input_dim=21,activation=\"sigmoid\"))\n",
    "model.add(Dense(14,input_dim=17,activation=\"sigmoid\"))\n",
    "model.add(Dense(17,input_dim=14,activation=\"sigmoid\"))\n",
    "model.add(Dense(21,input_dim=17,activation=\"sigmoid\"))\n",
    "model.add(Dense(29,input_dim=21,activation=None))\n",
    "\n",
    "\n",
    "model.compile(optimizer='sgd',loss='mean_squared_error', metrics=['accuracy'])"
   ]
  },
  {
   "cell_type": "code",
   "execution_count": 308,
   "metadata": {
    "hidden": true
   },
   "outputs": [
    {
     "name": "stdout",
     "output_type": "stream",
     "text": [
      "Epoch 1/20\n",
      "24998/24998 [==============================] - 1s 26us/step - loss: 0.9999 - acc: 0.0149\n",
      "Epoch 2/20\n",
      "24998/24998 [==============================] - 1s 26us/step - loss: 0.9999 - acc: 0.0592\n",
      "Epoch 3/20\n",
      "24998/24998 [==============================] - 1s 25us/step - loss: 0.9999 - acc: 0.0376\n",
      "Epoch 4/20\n",
      "24998/24998 [==============================] - 1s 24us/step - loss: 0.9999 - acc: 0.0722\n",
      "Epoch 5/20\n",
      "24998/24998 [==============================] - 1s 26us/step - loss: 0.9999 - acc: 0.0187\n",
      "Epoch 6/20\n",
      "24998/24998 [==============================] - 1s 25us/step - loss: 0.9999 - acc: 0.0402\n",
      "Epoch 7/20\n",
      "24998/24998 [==============================] - 1s 26us/step - loss: 0.9999 - acc: 0.0224\n",
      "Epoch 8/20\n",
      "24998/24998 [==============================] - 1s 25us/step - loss: 0.9999 - acc: 0.0310\n",
      "Epoch 9/20\n",
      "24998/24998 [==============================] - 1s 35us/step - loss: 0.9998 - acc: 0.0358\n",
      "Epoch 10/20\n",
      "24998/24998 [==============================] - 1s 32us/step - loss: 0.9998 - acc: 0.0305\n",
      "Epoch 11/20\n",
      "24998/24998 [==============================] - 1s 25us/step - loss: 0.9998 - acc: 0.0170\n",
      "Epoch 12/20\n",
      "24998/24998 [==============================] - 1s 36us/step - loss: 0.9998 - acc: 0.0271\n",
      "Epoch 13/20\n",
      "24998/24998 [==============================] - 1s 29us/step - loss: 0.9998 - acc: 0.0364\n",
      "Epoch 14/20\n",
      "24998/24998 [==============================] - 1s 29us/step - loss: 0.9998 - acc: 0.0865\n",
      "Epoch 15/20\n",
      "24998/24998 [==============================] - 1s 28us/step - loss: 0.9998 - acc: 0.0300\n",
      "Epoch 16/20\n",
      "24998/24998 [==============================] - 1s 38us/step - loss: 0.9998 - acc: 0.0778\n",
      "Epoch 17/20\n",
      "24998/24998 [==============================] - 1s 38us/step - loss: 0.9998 - acc: 0.0331\n",
      "Epoch 18/20\n",
      "24998/24998 [==============================] - 1s 36us/step - loss: 0.9998 - acc: 0.0281\n",
      "Epoch 19/20\n",
      "24998/24998 [==============================] - 1s 33us/step - loss: 0.9997 - acc: 0.0247\n",
      "Epoch 20/20\n",
      "24998/24998 [==============================] - 1s 34us/step - loss: 0.9997 - acc: 0.0274\n"
     ]
    },
    {
     "data": {
      "text/plain": [
       "<keras.callbacks.History at 0x7f2acb69a048>"
      ]
     },
     "execution_count": 308,
     "metadata": {},
     "output_type": "execute_result"
    }
   ],
   "source": [
    "model.fit(data_np_version,data_np_version,epochs=20)"
   ]
  },
  {
   "cell_type": "code",
   "execution_count": 79,
   "metadata": {
    "hidden": true
   },
   "outputs": [],
   "source": [
    "predictions = model.predict(data_np_version[:,:])"
   ]
  },
  {
   "cell_type": "code",
   "execution_count": 80,
   "metadata": {
    "hidden": true
   },
   "outputs": [],
   "source": [
    "l = np.square(predictions[:,:] - data_np_version[:,:])"
   ]
  },
  {
   "cell_type": "code",
   "execution_count": 81,
   "metadata": {
    "hidden": true
   },
   "outputs": [],
   "source": [
    "b = np.sum(l,axis=1)"
   ]
  },
  {
   "cell_type": "code",
   "execution_count": 82,
   "metadata": {
    "hidden": true
   },
   "outputs": [],
   "source": [
    "c = np.sum(b,axis = 0)"
   ]
  },
  {
   "cell_type": "code",
   "execution_count": 84,
   "metadata": {
    "hidden": true
   },
   "outputs": [
    {
     "data": {
      "text/plain": [
       "0.65011540672655633994"
      ]
     },
     "execution_count": 84,
     "metadata": {},
     "output_type": "execute_result"
    }
   ],
   "source": [
    "c/(24998*29)"
   ]
  },
  {
   "cell_type": "code",
   "execution_count": 85,
   "metadata": {
    "hidden": true
   },
   "outputs": [],
   "source": [
    "d = np.mean(np.square(predictions - data_np_version),axis=-1)"
   ]
  },
  {
   "cell_type": "code",
   "execution_count": 86,
   "metadata": {
    "hidden": true
   },
   "outputs": [
    {
     "data": {
      "text/plain": [
       "0.6501154067265563399"
      ]
     },
     "execution_count": 86,
     "metadata": {},
     "output_type": "execute_result"
    }
   ],
   "source": [
    "np.mean(d)"
   ]
  },
  {
   "cell_type": "code",
   "execution_count": 23,
   "metadata": {
    "hidden": true
   },
   "outputs": [
    {
     "data": {
      "text/plain": [
       "array([[-0.11453594, -0.42592784, -0.01001242, -0.0345061 , -0.09095369,\n",
       "        -0.02632138, -0.02193782, -0.02180098, -0.02791524, -0.04408631,\n",
       "        -0.60521684,  0.12721552, -0.63779946, -0.63165788, -0.37313313,\n",
       "        -0.37394367,  0.77000884, -0.34904443, -0.06425915, -1.6901791 ,\n",
       "         1.2628463 ,  1.06755048, -0.44107453, -0.25342043,  0.07102852,\n",
       "        -0.63948672, -0.53532098, -0.38606912, -0.37497461]],\n",
       "      dtype=float128)"
      ]
     },
     "execution_count": 23,
     "metadata": {},
     "output_type": "execute_result"
    }
   ],
   "source": [
    "\n",
    "data_np_version[:1,:]"
   ]
  }
 ],
 "metadata": {
  "kernelspec": {
   "display_name": "Python 3",
   "language": "python",
   "name": "python3"
  },
  "language_info": {
   "codemirror_mode": {
    "name": "ipython",
    "version": 3
   },
   "file_extension": ".py",
   "mimetype": "text/x-python",
   "name": "python",
   "nbconvert_exporter": "python",
   "pygments_lexer": "ipython3",
   "version": "3.7.3"
  }
 },
 "nbformat": 4,
 "nbformat_minor": 2
}
